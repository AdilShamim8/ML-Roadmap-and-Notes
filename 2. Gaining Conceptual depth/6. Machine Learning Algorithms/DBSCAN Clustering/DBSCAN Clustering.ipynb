{
 "cells": [
  {
   "cell_type": "markdown",
   "id": "0cc5c004-d743-4a69-b222-5ed3114427d6",
   "metadata": {},
   "source": [
    "## DBSCAN Clustering Algorithm | [Link](https://github.com/AdilShamim8/50-Days-of-Machine-Learning/tree/main/Day%2047%20Hierarchical%20%26%20DBSCAN%20Clustering/DBSCAN%20Clustering)\n",
    "\n",
    "DBSCAN (Density-Based Spatial Clustering of Applications with Noise) is a clustering algorithm that groups together points that are closely packed (points with many nearby neighbors) while marking points that lie alone in low-density regions as outliers (noise).\n",
    "\n",
    "---\n",
    "\n",
    "### Key Concepts  \n",
    "\n",
    "- **Epsilon (ε):**  \n",
    "  The maximum distance between two points for one to be considered as in the neighborhood of the other.  \n",
    "\n",
    "- **minPts (Minimum Points):**  \n",
    "  The minimum number of points required to form a dense region. A point must have at least this many points within its epsilon-neighborhood to be considered a core point.\n",
    "\n",
    "---\n",
    "\n",
    "### Definitions and Formulas  \n",
    "\n",
    "1. **(ε)-Neighborhood:**  \n",
    "   The (ε)-neighborhood of a point \\( p \\) is defined as:  \n",
    "   $$  \n",
    "   N_\\varepsilon(p) = \\{q \\in D \\mid \\|q - p\\| \\leq \\varepsilon \\}  \n",
    "   $$  \n",
    "   where \\( D \\) is the dataset and \\( \\|q - p\\| \\) is typically the Euclidean distance between \\( p \\) and \\( q \\).  \n",
    "\n",
    "2. **Core Point:**  \n",
    "   A point \\( p \\) is a core point if:  \n",
    "   $$  \n",
    "   |N_\\varepsilon(p)| \\geq \\text{minPts}  \n",
    "   $$  \n",
    "   This means that there are at least `minPts` points (including \\( p \\)) within the \\(\\varepsilon\\)-neighborhood of \\( p \\).  \n",
    "\n",
    "3. **Border Point:**  \n",
    "   A border point is not a core point but falls within the \\(\\varepsilon\\)-neighborhood of a core point.  \n",
    "\n",
    "4. **Noise Point:**  \n",
    "   Any point that is neither a core point nor a border point is considered noise (an outlier).\n",
    "\n",
    "---\n",
    "\n",
    "## The DBSCAN Algorithm Steps  \n",
    "\n",
    "1. **Visit All Points:**  \n",
    "   For each point **p** in the dataset that has not yet been visited:  \n",
    "   - Mark **p** as visited.  \n",
    "   - Retrieve the epsilon-neighborhood **Nε(p)**.  \n",
    "\n",
    "2. **Core Point Check:**  \n",
    "   - If \\( |Nε(p)| < \\text{minPts} \\), mark **p** as noise.  \n",
    "   - If \\( |Nε(p)| ≥ \\text{minPts} \\), then **p** is a core point and a new cluster is created.  \n",
    "\n",
    "3. **Cluster Expansion:**  \n",
    "   - Add **p** to the cluster.  \n",
    "   - For each point **q** in **Nε(p)**:  \n",
    "     - If **q** has not been visited, mark it as visited and retrieve **Nε(q)**.  \n",
    "     - If \\( |Nε(q)| ≥ \\text{minPts} \\), add all points in **Nε(q)** to the cluster.  \n",
    "     - If **q** is not already part of any cluster, add **q** to the current cluster.  \n",
    "\n",
    "4. **Repeat:**  \n",
    "   Continue the process until all points in the dataset have been visited.\n",
    "\n",
    "---\n",
    "\n",
    "### Python Code Example\n",
    "\n",
    "Below is an example implementation of DBSCAN using the `scikit-learn` library:\n"
   ]
  },
  {
   "cell_type": "code",
   "execution_count": 1,
   "id": "23cb9035-be94-4d88-b0d3-148db1c2af34",
   "metadata": {},
   "outputs": [
    {
     "name": "stdout",
     "output_type": "stream",
     "text": [
      "Cluster labels: [ 0  0  0  1  1 -1]\n"
     ]
    },
    {
     "data": {
      "image/png": "[encoded data removed]",
      "text/plain": [
       "<Figure size 640x480 with 1 Axes>"
      ]
     },
     "metadata": {},
     "output_type": "display_data"
    }
   ],
   "source": [
    "import numpy as np\n",
    "from sklearn.cluster import DBSCAN\n",
    "import matplotlib.pyplot as plt\n",
    "\n",
    "# Sample dataset\n",
    "X = np.array([\n",
    "    [1, 2], [2, 2], [2, 3],\n",
    "    [8, 7], [8, 8], [25, 80]\n",
    "])\n",
    "\n",
    "# Create DBSCAN instance with epsilon (eps) = 3 and minimum samples (min_samples) = 2\n",
    "dbscan = DBSCAN(eps=3, min_samples=2)\n",
    "clusters = dbscan.fit_predict(X)\n",
    "\n",
    "print(\"Cluster labels:\", clusters)\n",
    "\n",
    "# Plotting the clusters\n",
    "plt.scatter(X[:, 0], X[:, 1], c=clusters, cmap='viridis')\n",
    "plt.title(\"DBSCAN Clustering\")\n",
    "plt.xlabel(\"Feature 1\")\n",
    "plt.ylabel(\"Feature 2\")\n",
    "plt.show()"
   ]
  }
 ],
 "metadata": {
  "kernelspec": {
   "display_name": "Python 3 (ipykernel)",
   "language": "python",
   "name": "python3"
  },
  "language_info": {
   "codemirror_mode": {
    "name": "ipython",
    "version": 3
   },
   "file_extension": ".py",
   "mimetype": "text/x-python",
   "name": "python",
   "nbconvert_exporter": "python",
   "pygments_lexer": "ipython3",
   "version": "3.12.7"
  }
 },
 "nbformat": 4,
 "nbformat_minor": 5
}
