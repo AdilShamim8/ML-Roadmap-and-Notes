{
 "cells": [
  {
   "cell_type": "markdown",
   "id": "2737d32a-4f41-47f5-b064-611ecbb54214",
   "metadata": {},
   "source": [
    "## What are Tensors? | [👆](https://adilshamim8.medium.com/tensors-in-machine-learning-fd67d2f41eff)"
   ]
  },
  {
   "cell_type": "markdown",
   "id": "ec406c58-7ff2-4540-97cd-ad45ce1649ed",
   "metadata": {},
   "source": [
    "# **Tensors in Machine Learning**\n",
    "\n",
    "Tensors are multi-dimensional arrays that generalize scalars (0D), vectors (1D), and matrices (2D) to higher dimensions (nD). They are fundamental in **machine learning (ML)** and **deep learning (DL)** as they enable efficient data representation and manipulation.\n",
    "\n",
    "## **Types of Tensors**\n",
    "\n",
    "### **0D Tensor (Scalar)**\n",
    "A **0D tensor**, also known as a **scalar**, is a single numerical value with no dimensions. It represents a single quantity.  \n",
    "\n",
    "<p>a = 5</p>\n",
    "\n",
    "---\n",
    "\n",
    "### **1D Tensor (Vector)**\n",
    "A **1D tensor**, or **vector**, is an ordered collection of numbers arranged in a single line. It has one dimension and represents a point in a vector space.  \n",
    "\n",
    "<p>v = [1, 2, 3]</p>\n",
    "\n",
    "---\n",
    "\n",
    "### **2D Tensor (Matrix)**\n",
    "A **2D tensor**, or **matrix**, is an array of numbers arranged in rows and columns. It has two dimensions and is often used to represent **tabular data, images, or transformation matrices**.  \n",
    "\n",
    "<p>\n",
    "M =\n",
    "&#91;\n",
    "&#91;3, 4&#93;  \n",
    "&#91;1, 2&#93;\n",
    "&#93;\n",
    "</p>\n",
    "\n",
    "---\n",
    "\n",
    "### **ND Tensors (n-Dimensional Tensors)**\n",
    "An **nD tensor** is a multi-dimensional array with **n** dimensions. They generalize scalars, vectors, and matrices to any number of dimensions. Higher-dimensional tensors are commonly used to represent complex data structures such as:\n",
    "\n",
    "- **3D Tensors**: Represent images (**height, width, color channels**).\n",
    "- **4D Tensors**: Represent videos (**frames, height, width, channels**).\n",
    "- **5D and Higher-Dimensional Tensors**: Used in advanced deep learning applications like reinforcement learning, 3D medical imaging, and volumetric data.\n",
    "\n",
    "Example of a **3D Tensor** representing an RGB image:  \n",
    "<p>Image = (Height, Width, Channels)</p>\n",
    "\n",
    "---\n",
    "\n",
    "## **Why Are Tensors Important in Machine Learning?**\n",
    "1. **Efficient Computation**: Tensor operations are optimized for parallel computation on **GPUs**.\n",
    "2. **Scalability**: Tensors can represent data of any dimension, making them suitable for complex ML models.\n",
    "3. **Deep Learning Frameworks**: Libraries like **TensorFlow** and **PyTorch** are built around tensor operations for model training and inference.\n",
    "\n",
    "---\n",
    "\n",
    "## **Tensor Operations**\n",
    "Tensors support various mathematical operations, including:\n",
    "- **Addition & Subtraction**\n",
    "- **Element-wise multiplication**\n",
    "- **Matrix multiplication**\n",
    "- **Transpose and reshaping**\n",
    "- **Broadcasting for arithmetic operations**\n",
    "\n",
    "In Python, you can create and manipulate tensors using **NumPy** or **PyTorch**:\n",
    "\n",
    "```python\n",
    "import numpy as np\n",
    "\n",
    "# Creating a 2D tensor (matrix)\n",
    "tensor_2D = np.array([[3, 4], [1, 2]])\n",
    "\n",
    "print(tensor_2D)\n"
   ]
  }
 ],
 "metadata": {
  "kernelspec": {
   "display_name": "Python 3 (ipykernel)",
   "language": "python",
   "name": "python3"
  },
  "language_info": {
   "codemirror_mode": {
    "name": "ipython",
    "version": 3
   },
   "file_extension": ".py",
   "mimetype": "text/x-python",
   "name": "python",
   "nbconvert_exporter": "python",
   "pygments_lexer": "ipython3",
   "version": "3.12.7"
  }
 },
 "nbformat": 4,
 "nbformat_minor": 5
}
