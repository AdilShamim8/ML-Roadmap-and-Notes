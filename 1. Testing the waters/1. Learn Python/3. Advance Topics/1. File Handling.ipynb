{
 "cells": [
  {
   "cell_type": "markdown",
   "id": "28150d7d-7a2e-4f63-a602-c0af2b3df005",
   "metadata": {},
   "source": [
    "### Opening a File\n",
    "Before we can perform any operations on a file, we must first open it. Python provides the open() function to open a file. It takes two arguments: the name of the file and the mode in which the file should be opened. The mode can be 'r' for reading, 'w' for writing, or 'a' for appending.\n",
    "\n",
    "Here's an example of how to open a file for reading:"
   ]
  },
  {
   "cell_type": "code",
   "execution_count": null,
   "id": "b17330c4-be77-444d-a829-1a204f7e706a",
   "metadata": {},
   "outputs": [],
   "source": [
    "f = open('myfile.txt', 'r')"
   ]
  },
  {
   "cell_type": "markdown",
   "id": "976ac9f0-03b0-4640-bd35-11fa187daa71",
   "metadata": {},
   "source": [
    "By default, the open() function returns a file object that can be used to read from or write to the file, depending on the mode.\n",
    "\n",
    "### Modes in file\n",
    "There are various modes in which we can open files.\n",
    "\n",
    "- `read (r):` This mode opens the file for reading only and gives an error if the file does not exist. This is the default mode if no mode is passed as a parameter.\n",
    "\n",
    "- `write (w):` This mode opens the file for writing only and creates a new file if the file does not exist.\n",
    "\n",
    "- `append (a):` This mode opens the file for appending only and creates a new file if the file does not exist.\n",
    "\n",
    "- `create (x):` This mode creates a file and gives an error if the file already exists.\n",
    "\n",
    "- `text (t):` Apart from these modes we also need to specify how the file must be handled. t mode is used to handle text files. t refers to the text mode. There is no difference between r and rt or w and wt since text mode is the default. The default mode is 'r' (open for reading text, synonym of 'rt' ).\n",
    "\n",
    "- `binary (b):` used to handle binary files (images, pdfs, etc).\n",
    "\n",
    "### Reading from a File\n",
    "Once we have a file object, we can use various methods to read from the file.\n",
    "\n",
    "The read() method reads the entire contents of the file and returns it as a string."
   ]
  },
  {
   "cell_type": "code",
   "execution_count": null,
   "id": "8b67a2a1-c66c-4326-9b76-ff1f7933a5d4",
   "metadata": {},
   "outputs": [],
   "source": [
    "f = open('myfile.txt', 'r')\n",
    "contents = f.read()\n",
    "print(contents)"
   ]
  },
  {
   "cell_type": "markdown",
   "id": "d83b342e-6e5e-4d97-b642-dfff9244f728",
   "metadata": {},
   "source": [
    "### Writing to a File\n",
    "To write to a file, we first need to open it in write mode."
   ]
  },
  {
   "cell_type": "code",
   "execution_count": null,
   "id": "160796b6-1d0d-4920-86e9-ebd0a5cd9435",
   "metadata": {},
   "outputs": [],
   "source": [
    "f = open('myfile.txt', 'w')"
   ]
  },
  {
   "cell_type": "markdown",
   "id": "4c21cc6a-d503-4b5b-b850-2f0a44dc4bb2",
   "metadata": {},
   "source": [
    "We can then use the write() method to write to the file."
   ]
  },
  {
   "cell_type": "code",
   "execution_count": null,
   "id": "0d422ba9-ece8-4167-b225-88d8a9aad197",
   "metadata": {},
   "outputs": [],
   "source": [
    "f = open('myfile.txt', 'w')\n",
    "f.write('Hello, world!')"
   ]
  },
  {
   "cell_type": "markdown",
   "id": "0d2efdd7-4332-43a9-a0b3-ff4815cc31c5",
   "metadata": {},
   "source": [
    "Keep in mind that writing to a file will overwrite its contents. If you want to append to a file instead of overwriting it, you can open it in append mode."
   ]
  },
  {
   "cell_type": "code",
   "execution_count": null,
   "id": "90c4411e-8cd3-4643-8b1a-a36f6ed1b7c8",
   "metadata": {},
   "outputs": [],
   "source": [
    "f = open('myfile.txt', 'a')\n",
    "f.write('Hello, world!')"
   ]
  },
  {
   "cell_type": "markdown",
   "id": "06762cf6-4773-4237-aad5-319aa804f0c7",
   "metadata": {},
   "source": [
    "### Closing a File\n",
    "It is important to close a file after you are done with it. This releases the resources used by the file and allows other programs to access it.\n",
    "\n",
    "To close a file, you can use the close() method."
   ]
  },
  {
   "cell_type": "code",
   "execution_count": null,
   "id": "baaddbae-0846-4e24-aa25-929fa6d40b27",
   "metadata": {},
   "outputs": [],
   "source": [
    "f = open('myfile.txt', 'r')\n",
    "# ... do something with the file\n",
    "f.close()"
   ]
  },
  {
   "cell_type": "markdown",
   "id": "418f4fd8-f353-4857-bf71-12c20509eb25",
   "metadata": {},
   "source": [
    "### The 'with' statement\n",
    "Alternatively, you can use the with statement to automatically close the file after you are done with it."
   ]
  },
  {
   "cell_type": "code",
   "execution_count": null,
   "id": "8ef397ae-6dd3-4566-9da2-05e56449575a",
   "metadata": {},
   "outputs": [],
   "source": [
    "with open('myfile.txt', 'r') as f:\n",
    "    # ... do something with the file"
   ]
  },
  {
   "cell_type": "markdown",
   "id": "cbfa0e2f-5d2c-4fe7-83cf-4133e1a323bd",
   "metadata": {},
   "source": [
    "### readlines() method\n",
    "The readline() method reads a single line from the file. If we want to read multiple lines, we can use a loop."
   ]
  },
  {
   "cell_type": "markdown",
   "id": "f647c759-7a17-496a-b8ab-eb43c878173f",
   "metadata": {},
   "source": [
    "f = open('myfile.txt', 'r')\n",
    "while True:\n",
    "    line = f.readline()\n",
    "    if not line:\n",
    "        break\n",
    "    print(line)"
   ]
  },
  {
   "cell_type": "markdown",
   "id": "d9c03dd8-94da-4891-8415-a700ea50c1ac",
   "metadata": {},
   "source": [
    "The readlines() method reads all the lines of the file and returns them as a list of strings.\n",
    "\n",
    "### writelines() method\n",
    "The writelines() method in Python writes a sequence of strings to a file. The sequence can be any iterable object, such as a list or a tuple.\n",
    "\n",
    "Here's an example of how to use the writelines() method:"
   ]
  },
  {
   "cell_type": "code",
   "execution_count": null,
   "id": "082ca299-634a-4cf2-a844-34f1ee8cac56",
   "metadata": {},
   "outputs": [],
   "source": [
    "f = open('myfile.txt', 'w')\n",
    "lines = ['line 1\\n', 'line 2\\n', 'line 3\\n']\n",
    "f.writelines(lines)\n",
    "f.close()"
   ]
  },
  {
   "cell_type": "markdown",
   "id": "ee9da6e4-b293-4bf3-af70-a96b692d1174",
   "metadata": {},
   "source": [
    "This will write the strings in the lines list to the file myfile.txt. The \\n characters are used to add newline characters to the end of each string.\n",
    "\n",
    "Keep in mind that the writelines() method does not add newline characters between the strings in the sequence. If you want to add newlines between the strings, you can use a loop to write each string separately:"
   ]
  },
  {
   "cell_type": "code",
   "execution_count": null,
   "id": "d701c1b2-9267-4983-a3a4-0637dc655c8e",
   "metadata": {},
   "outputs": [],
   "source": [
    "f = open('myfile.txt', 'w')\n",
    "lines = ['line 1', 'line 2', 'line 3']\n",
    "for line in lines:\n",
    "    f.write(line + '\\n')\n",
    "f.close()"
   ]
  },
  {
   "cell_type": "markdown",
   "id": "a7cbbba3-51e2-4f51-b1bc-20df7d3514a3",
   "metadata": {},
   "source": [
    "It is also a good practice to close the file after you are done with it."
   ]
  },
  {
   "cell_type": "markdown",
   "id": "0a24a0bb-6a02-4bde-9c2a-14f26fc8d55a",
   "metadata": {},
   "source": [
    "## seek() and tell() functions\n",
    "In Python, the seek() and tell() functions are used to work with file objects and their positions within a file. These functions are part of the built-in io module, which provides a consistent interface for reading and writing to various file-like objects, such as files, pipes, and in-memory buffers.\n",
    "\n",
    "### seek() function\n",
    "The seek() function allows you to move the current position within a file to a specific point. The position is specified in bytes, and you can move either forward or backward from the current position. For example:"
   ]
  },
  {
   "cell_type": "code",
   "execution_count": null,
   "id": "da9457bc-ff5b-4c7a-a6ed-0af4484128d3",
   "metadata": {},
   "outputs": [],
   "source": [
    "with open('file.txt', 'r') as f:\n",
    "  # Move to the 10th byte in the file\n",
    "  f.seek(10)\n",
    "\n",
    "  # Read the next 5 bytes\n",
    "  data = f.read(5)"
   ]
  },
  {
   "cell_type": "markdown",
   "id": "a848e9c5-b498-4cb8-851b-3babd57e257f",
   "metadata": {},
   "source": [
    "### tell() function\n",
    "The tell() function returns the current position within the file, in bytes. This can be useful for keeping track of your location within the file or for seeking to a specific position relative to the current position. For example:"
   ]
  },
  {
   "cell_type": "code",
   "execution_count": null,
   "id": "318b152e-19fc-404b-9d91-05c69aa8aa09",
   "metadata": {},
   "outputs": [],
   "source": [
    "with open('file.txt', 'r') as f:\n",
    "  # Read the first 10 bytes\n",
    "  data = f.read(10)\n",
    "\n",
    "  # Save the current position\n",
    "  current_position = f.tell()\n",
    "\n",
    "  # Seek to the saved position\n",
    "  f.seek(current_position)"
   ]
  },
  {
   "cell_type": "markdown",
   "id": "0ab41887-e66f-471c-9134-8f0896bf8d4c",
   "metadata": {},
   "source": [
    "### truncate() function\n",
    "When you open a file in Python using the open function, you can specify the mode in which you want to open the file. If you specify the mode as 'w' or 'a', the file is opened in write mode and you can write to the file. However, if you want to truncate the file to a specific size, you can use the truncate function.\n",
    "\n",
    "Here is an example of how to use the truncate function:"
   ]
  },
  {
   "cell_type": "code",
   "execution_count": null,
   "id": "9834d5f4-f7d5-469e-a3c7-e13030f6f97e",
   "metadata": {},
   "outputs": [],
   "source": [
    "with open('sample.txt', 'w') as f:\n",
    "  f.write('Hello World!')\n",
    "  f.truncate(5)\n",
    "\n",
    "with open('sample.txt', 'r') as f:\n",
    "  print(f.read())"
   ]
  }
 ],
 "metadata": {
  "kernelspec": {
   "display_name": "Python 3 (ipykernel)",
   "language": "python",
   "name": "python3"
  },
  "language_info": {
   "codemirror_mode": {
    "name": "ipython",
    "version": 3
   },
   "file_extension": ".py",
   "mimetype": "text/x-python",
   "name": "python",
   "nbconvert_exporter": "python",
   "pygments_lexer": "ipython3",
   "version": "3.12.7"
  }
 },
 "nbformat": 4,
 "nbformat_minor": 5
}
