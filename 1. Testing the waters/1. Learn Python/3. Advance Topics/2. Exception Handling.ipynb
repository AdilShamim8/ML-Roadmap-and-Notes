{
 "cells": [
  {
   "cell_type": "markdown",
   "id": "2a32174d-49c5-430a-8a70-c444cc0a7d00",
   "metadata": {},
   "source": [
    "## Exception Handling\n",
    "Exception handling is the process of responding to unwanted or unexpected events when a computer program runs. Exception handling deals with these events to avoid the program or system crashing, and without this process, exceptions would disrupt the normal operation of a program.\n",
    "\n",
    "## Exceptions in Python\n",
    "Python has many built-in exceptions that are raised when your program encounters an error (something in the program goes wrong).\n",
    "\n",
    "When these exceptions occur, the Python interpreter stops the current process and passes it to the calling process until it is handled. If not handled, the program will crash.\n",
    "\n",
    "## Python try...except\n",
    "try….. except blocks are used in python to handle errors and exceptions. The code in try block runs when there is no error. If the try block catches the error, then the except block is executed.\n",
    "\n",
    "**Syntax:**"
   ]
  },
  {
   "cell_type": "code",
   "execution_count": null,
   "id": "14cc77bf-e101-4d3c-a0fb-443a37b219fd",
   "metadata": {},
   "outputs": [],
   "source": [
    "try:\n",
    "     #statements which could generate \n",
    "     #exception\n",
    "except:\n",
    "     #Soloution of generated exception"
   ]
  },
  {
   "cell_type": "markdown",
   "id": "9b72e615-229d-4a78-9c0c-8e00ae34dae1",
   "metadata": {},
   "source": [
    "### Example:"
   ]
  },
  {
   "cell_type": "code",
   "execution_count": 1,
   "id": "fabcd9bc-5dcb-4953-b06d-6b563b05c30f",
   "metadata": {},
   "outputs": [
    {
     "name": "stdin",
     "output_type": "stream",
     "text": [
      "Enter an integer:  adil\n"
     ]
    },
    {
     "name": "stdout",
     "output_type": "stream",
     "text": [
      "Number entered is not an integer.\n"
     ]
    }
   ],
   "source": [
    "try:\n",
    "    num = int(input(\"Enter an integer: \"))\n",
    "except ValueError:\n",
    "    print(\"Number entered is not an integer.\")"
   ]
  },
  {
   "cell_type": "markdown",
   "id": "a69be947-c818-4165-bb16-bbfddd960694",
   "metadata": {},
   "source": [
    "### Finally Clause\n",
    "The finally code block is also a part of exception handling. When we handle exception using the try and except block, we can include a finally block at the end. The finally block is always executed, so it is generally used for doing the concluding tasks like closing file resources or closing database connection or may be ending the program execution with a delightful message.\n",
    "\n",
    "### Syntax:"
   ]
  },
  {
   "cell_type": "code",
   "execution_count": null,
   "id": "89d8f443-4009-4807-bfd6-9e6bdef5a0d0",
   "metadata": {},
   "outputs": [],
   "source": [
    "try:\n",
    "   #statements which could generate \n",
    "   #exception\n",
    "except:\n",
    "   #solution of generated exception\n",
    "finally:\n",
    "    #block of code which is going to \n",
    "    #execute in any situation"
   ]
  },
  {
   "cell_type": "markdown",
   "id": "3843227f-7703-4b92-bb49-ce983374e437",
   "metadata": {},
   "source": [
    "The finally block is executed irrespective of the outcome of try……except…..else blocks\n",
    "One of the important use cases of finally block is in a function which returns a value.\n",
    "\n",
    "### Example:"
   ]
  },
  {
   "cell_type": "code",
   "execution_count": 3,
   "id": "a7a61d02-f019-40f6-9864-51aac1cfb1e2",
   "metadata": {},
   "outputs": [],
   "source": [
    "try:\n",
    "    num = int(input(\"Enter an integer: \"))\n",
    "except ValueError:\n",
    "    print(\"Number entered is not an integer.\")\n",
    "else:\n",
    "    print(\"Integer Accepted.\")\n",
    "finally:\n",
    "    print(\"This block is always executed.\")"
   ]
  },
  {
   "cell_type": "markdown",
   "id": "d73cca6f-12d8-44d5-8ab9-a306598ef98c",
   "metadata": {},
   "source": [
    "***Output 1:***\n",
    "Enter an integer: 19\n",
    "\n",
    "Integer Accepted.\n",
    "\n",
    "This block is always executed.\n",
    "\n",
    "***Output 2:***\n",
    "Enter an integer: 3.142\n",
    "\n",
    "Number entered is not an integer.\n",
    "\n",
    "This block is always executed."
   ]
  },
  {
   "cell_type": "markdown",
   "id": "eb4bcbf5-0862-40de-8fa8-75d90a25ad2c",
   "metadata": {},
   "source": [
    "### Raising Custom errors\n",
    "In python, we can raise custom errors by using the `raise` keyword."
   ]
  },
  {
   "cell_type": "code",
   "execution_count": null,
   "id": "9253c166-cc56-4315-afe5-3d77d139b631",
   "metadata": {},
   "outputs": [],
   "source": [
    "salary = int(input(\"Enter salary amount: \"))\n",
    "if not 2000 < salary < 5000:\n",
    "    raise ValueError(\"Not a valid salary\")"
   ]
  },
  {
   "cell_type": "markdown",
   "id": "c5e09f0c-5640-41b0-b486-ca58667a44bd",
   "metadata": {},
   "source": [
    "In the previous tutorial, we learned about different built-in exceptions in Python and why it is important to handle exceptions. However, sometimes we may need to create our own custom exceptions that serve our purpose.\n",
    "\n",
    "### Defining Custom Exceptions\n",
    "In Python, we can define custom exceptions by creating a new class that is derived from the built-in Exception class.\n",
    "\n",
    "Here's the syntax to define custom exceptions:"
   ]
  },
  {
   "cell_type": "code",
   "execution_count": null,
   "id": "86d2362d-0bcb-40f1-832b-9201de22d69a",
   "metadata": {},
   "outputs": [],
   "source": [
    "class CustomError(Exception):\n",
    "  # code ...\n",
    "  pass\n",
    "\n",
    "try:\n",
    "  # code ...\n",
    "\n",
    "except CustomError:\n",
    "  # code..."
   ]
  },
  {
   "cell_type": "markdown",
   "id": "339f1a4b-362d-4b3e-b20d-5d3601880471",
   "metadata": {},
   "source": [
    "This is useful because sometimes we might want to do something when a particular exception is raised. For example, sending an error report to the admin, calling an api, etc."
   ]
  }
 ],
 "metadata": {
  "kernelspec": {
   "display_name": "Python 3 (ipykernel)",
   "language": "python",
   "name": "python3"
  },
  "language_info": {
   "codemirror_mode": {
    "name": "ipython",
    "version": 3
   },
   "file_extension": ".py",
   "mimetype": "text/x-python",
   "name": "python",
   "nbconvert_exporter": "python",
   "pygments_lexer": "ipython3",
   "version": "3.12.7"
  }
 },
 "nbformat": 4,
 "nbformat_minor": 5
}
