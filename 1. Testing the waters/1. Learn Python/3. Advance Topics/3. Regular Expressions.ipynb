{
 "cells": [
  {
   "cell_type": "markdown",
   "id": "62f55f1d-978e-4948-bfc6-2f0ced6dddaf",
   "metadata": {},
   "source": [
    "## Regular Expressions in Python\n",
    "Regular expressions, or \"regex\" for short, are a powerful tool for working with strings and text data in Python. They allow you to match and manipulate strings based on patterns, making it easy to perform complex string operations with just a few lines of code.\n",
    "\n",
    "### Metacharacters in regular expressions"
   ]
  },
  {
   "cell_type": "code",
   "execution_count": null,
   "id": "42dccbd7-48c6-4485-bb49-4a6b9181ad55",
   "metadata": {},
   "outputs": [],
   "source": [
    "[]  Represent a character class\n",
    "^   Matches the beginning\n",
    "$   Matches the end\n",
    ".   Matches any character except newline\n",
    "?   Matches zero or one occurrence.\n",
    "|   Means OR (Matches with any of the characters\n",
    "    separated by it.\n",
    "*   Any number of occurrences (including 0 occurrences)\n",
    "+   One or more occurrences\n",
    "{}  Indicate number of occurrences of a preceding RE \n",
    "    to match.\n",
    "()  Enclose a group of REs"
   ]
  },
  {
   "cell_type": "markdown",
   "id": "a78c2af6-98db-4a0d-a346-671d48799f9c",
   "metadata": {},
   "source": [
    "Find list of more meta characters here - https://www.ibm.com/docs/en/rational-clearquest/9.0.1?topic=tags-meta-characters-in-regular-expressions\n",
    "\n",
    "#### Importing re Package\n",
    "In Python, regular expressions are supported by the re module. The basic syntax for working with regular expressions in Python is as follows:"
   ]
  },
  {
   "cell_type": "code",
   "execution_count": 1,
   "id": "0465ea75-be9e-48d5-8f37-02b1f38f726a",
   "metadata": {},
   "outputs": [],
   "source": [
    "import re"
   ]
  },
  {
   "cell_type": "markdown",
   "id": "5a3305ad-defb-47e0-98b0-8c430e9da5dd",
   "metadata": {},
   "source": [
    "### Searching for a pattern in re using re.search() Method\n",
    "re.search() method either returns None (if the pattern doesn’t match), or a re.MatchObject that contains information about the matching part of the string. This method stops after the first match, so this is best suited for testing a regular expression more than extracting data. We can use re.search method like this to search for a pattern in regular expression:"
   ]
  },
  {
   "cell_type": "code",
   "execution_count": null,
   "id": "cd383807-2915-47a9-a6d0-fd756a62ac11",
   "metadata": {},
   "outputs": [],
   "source": [
    "# Define a regular expression pattern\n",
    "pattern = r\"expression\"\n",
    "\n",
    "# Match the pattern against a string\n",
    "text = \"Hello, world!\"\n",
    "\n",
    "match = re.search(pattern, text)\n",
    "\n",
    "if match:\n",
    "    print(\"Match found!\")\n",
    "else:\n",
    "    print(\"Match not found.\")"
   ]
  },
  {
   "cell_type": "markdown",
   "id": "36910125-f58f-4f21-988a-d1876fd97da9",
   "metadata": {},
   "source": [
    "Searching for a pattern in re using re.findall() Method\n",
    "You can also use the `re.findall` function to find all occurrences of the pattern in a string:"
   ]
  },
  {
   "cell_type": "code",
   "execution_count": null,
   "id": "658115ad-d97c-47c9-8138-48a4bc506d0b",
   "metadata": {},
   "outputs": [],
   "source": [
    "import re\n",
    "pattern = r\"expression\"\n",
    "text = \"The cat is in the hat.\"\n",
    "\n",
    "matches = re.findall(pattern, text)\n",
    "\n",
    "print(matches)\n",
    "# Output: ['cat', 'hat']"
   ]
  },
  {
   "cell_type": "markdown",
   "id": "c40bebf4-65e4-402a-882a-aa298f12c3ca",
   "metadata": {},
   "source": [
    "#### Replacing a pattern\n",
    "The following example shows how to replace a pattern in a string:"
   ]
  },
  {
   "cell_type": "code",
   "execution_count": null,
   "id": "07de1d72-bbd9-43b0-bd7d-b89d2dc17c05",
   "metadata": {},
   "outputs": [],
   "source": [
    "import re\n",
    "pattern = r\"[a-z]+at\"\n",
    "text = \"The cat is in the hat.\"\n",
    "\n",
    "matches = re.findall(pattern, text)\n",
    "\n",
    "print(matches)\n",
    "# Output: ['cat', 'hat']\n",
    "\n",
    "new_text = re.sub(pattern, \"dog\", text)\n",
    "\n",
    "print(new_text)\n",
    "# Output: \"The dog is in the dog.\""
   ]
  },
  {
   "cell_type": "markdown",
   "id": "cc9d0e1c-f89b-43a1-bfcc-5ce960ce1315",
   "metadata": {},
   "source": [
    "Extracting information from a string\n",
    "The following example shows how to extract information from a string using regular expressions:"
   ]
  },
  {
   "cell_type": "code",
   "execution_count": null,
   "id": "12aa8d23-3764-4cf1-a09f-18424996aef2",
   "metadata": {},
   "outputs": [],
   "source": [
    "import re\n",
    "\n",
    "text = \"The email address is example@example.com.\"\n",
    "\n",
    "pattern = r\"\\w+@\\w+\\.\\w+\"\n",
    "\n",
    "match = re.search(pattern, text)\n",
    "\n",
    "if match:\n",
    "    email = match.group()\n",
    "    print(email)\n",
    "# Output: example@example.com"
   ]
  },
  {
   "cell_type": "markdown",
   "id": "48b6ebc1-bf31-42a4-8531-087623e2d749",
   "metadata": {},
   "source": [
    "Conclusion\n",
    "Regular expressions are a powerful tool for working with strings and text data in Python. Whether you're matching patterns, replacing text, or extracting information, regular expressions make it easy to perform complex string operations with just a few lines of code. With a little bit of practice, you'll be able to use regular expressions to solve all sorts of string-related problems in Python."
   ]
  },
  {
   "cell_type": "code",
   "execution_count": null,
   "id": "3898a598-ca03-42a4-95ed-bcfa72e99053",
   "metadata": {},
   "outputs": [],
   "source": []
  }
 ],
 "metadata": {
  "kernelspec": {
   "display_name": "Python 3 (ipykernel)",
   "language": "python",
   "name": "python3"
  },
  "language_info": {
   "codemirror_mode": {
    "name": "ipython",
    "version": 3
   },
   "file_extension": ".py",
   "mimetype": "text/x-python",
   "name": "python",
   "nbconvert_exporter": "python",
   "pygments_lexer": "ipython3",
   "version": "3.12.7"
  }
 },
 "nbformat": 4,
 "nbformat_minor": 5
}
