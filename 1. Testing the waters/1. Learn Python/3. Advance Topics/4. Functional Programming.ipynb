{
 "cells": [
  {
   "cell_type": "markdown",
   "id": "78721902-e203-4f22-9940-388b7781f156",
   "metadata": {},
   "source": [
    "### Lambda Functions in Python\n",
    "In Python, a lambda function is a small anonymous function without a name. It is defined using the lambda keyword and has the following syntax:"
   ]
  },
  {
   "cell_type": "code",
   "execution_count": null,
   "id": "59eebcab-1ae0-4a15-84f5-967e3060757f",
   "metadata": {},
   "outputs": [],
   "source": [
    "lambda arguments: expression"
   ]
  },
  {
   "cell_type": "markdown",
   "id": "0f29f8d4-dece-4f84-ae01-53d5e0608771",
   "metadata": {},
   "source": [
    "Lambda functions are often used in situations where a small function is required for a short period of time. They are commonly used as arguments to higher-order functions, such as map, filter, and reduce.\n",
    "\n",
    "Here is an example of how to use a lambda function:"
   ]
  },
  {
   "cell_type": "code",
   "execution_count": null,
   "id": "9e561053-fc9a-4a08-9f3c-f760f5eb99d5",
   "metadata": {},
   "outputs": [],
   "source": [
    "# Function to double the input\n",
    "def double(x):\n",
    "  return x * 2\n",
    "\n",
    "# Lambda function to double the input\n",
    "lambda x: x * 2"
   ]
  },
  {
   "cell_type": "markdown",
   "id": "96b526ff-1708-41df-8363-5db3e9ef1278",
   "metadata": {},
   "source": [
    "The above lambda function has the same functionality as the double function defined earlier. However, the lambda function is anonymous, as it does not have a name.\n",
    "\n",
    "Lambda functions can have multiple arguments, just like regular functions. Here is an example of a lambda function with multiple arguments:"
   ]
  },
  {
   "cell_type": "code",
   "execution_count": null,
   "id": "39528e45-0736-4e8e-b0ad-b2cc354e19f3",
   "metadata": {},
   "outputs": [],
   "source": [
    "# Function to calculate the product of two numbers\n",
    "def multiply(x, y):\n",
    "    return x * y\n",
    "\n",
    "# Lambda function to calculate the product of two numbers\n",
    "lambda x, y: x * y"
   ]
  },
  {
   "cell_type": "markdown",
   "id": "491bff52-f279-42bd-a206-e5b6284bfbeb",
   "metadata": {},
   "source": [
    "Lambda functions can also include multiple statements, but they are limited to a single expression. For example:"
   ]
  },
  {
   "cell_type": "code",
   "execution_count": null,
   "id": "a256355e-e152-4425-a9ee-ba210f49e754",
   "metadata": {},
   "outputs": [],
   "source": [
    "# Lambda function to calculate the product of two numbers,\n",
    "# with additional print statement\n",
    "lambda x, y: print(f'{x} * {y} = {x * y}')"
   ]
  },
  {
   "cell_type": "markdown",
   "id": "d387025b-faad-4e89-a8b0-a263380e1737",
   "metadata": {},
   "source": [
    "In the above example, the lambda function includes a print statement, but it is still limited to a single expression.\n",
    "\n",
    "Lambda functions are often used in conjunction with higher-order functions, such as map, filter, and reduce which we will look into later.\n",
    "\n",
    "Next Les"
   ]
  },
  {
   "cell_type": "code",
   "execution_count": null,
   "id": "dd08a646-1bbc-42e4-b09d-77bd12954ce5",
   "metadata": {},
   "outputs": [],
   "source": []
  },
  {
   "cell_type": "code",
   "execution_count": null,
   "id": "cfc1f858-1bfa-441b-8669-cbdfd12ceced",
   "metadata": {},
   "outputs": [],
   "source": []
  }
 ],
 "metadata": {
  "kernelspec": {
   "display_name": "Python 3 (ipykernel)",
   "language": "python",
   "name": "python3"
  },
  "language_info": {
   "codemirror_mode": {
    "name": "ipython",
    "version": 3
   },
   "file_extension": ".py",
   "mimetype": "text/x-python",
   "name": "python",
   "nbconvert_exporter": "python",
   "pygments_lexer": "ipython3",
   "version": "3.12.7"
  }
 },
 "nbformat": 4,
 "nbformat_minor": 5
}
