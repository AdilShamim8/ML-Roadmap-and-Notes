{
 "cells": [
  {
   "cell_type": "markdown",
   "id": "3b1994fb-de1e-4b91-a566-399afe195a77",
   "metadata": {},
   "source": [
    "1. Write a code to find the minimum among three given numbers."
   ]
  },
  {
   "cell_type": "code",
   "execution_count": 17,
   "id": "f9267480-ce18-43f2-b19e-e87986e65a2f",
   "metadata": {},
   "outputs": [
    {
     "name": "stdin",
     "output_type": "stream",
     "text": [
      "Enter your first number--> 23\n",
      "Enter your second number--> 23\n",
      "Enter your third number--> 2\n"
     ]
    },
    {
     "name": "stdout",
     "output_type": "stream",
     "text": [
      "the maximum number is 23\n"
     ]
    }
   ],
   "source": [
    "a = int(input(\"Enter your first number-->\"))\n",
    "b = int(input(\"Enter your second number-->\"))\n",
    "c = int(input(\"Enter your third number-->\"))\n",
    "max = a\n",
    "if b > max:\n",
    "    max = b\n",
    "if c > max:\n",
    "    max = c\n",
    "print(\"the maximum number is\",max)"
   ]
  },
  {
   "cell_type": "markdown",
   "id": "c47aef4b-f0b2-45b9-a66a-e7bbae8dd04a",
   "metadata": {},
   "source": [
    "2. Write a code to check whether a given number is a palindrome. "
   ]
  },
  {
   "cell_type": "code",
   "execution_count": 24,
   "id": "bc8007cb-f618-4fcc-b472-f1674d885862",
   "metadata": {},
   "outputs": [
    {
     "name": "stdin",
     "output_type": "stream",
     "text": [
      "Enter a Number:  121\n"
     ]
    },
    {
     "name": "stdout",
     "output_type": "stream",
     "text": [
      "121 is a palindrome.\n"
     ]
    }
   ],
   "source": [
    "def is_palindrome(number):\n",
    "    num_str = str(number)\n",
    "    return num_str == num_str[::-1]\n",
    "    \n",
    "number = int(input(\"Enter a Number: \"))\n",
    "if is_palindrome(number):\n",
    "    print(f\"{number} is a palindrome.\")\n",
    "else:\n",
    "    print(f\"{number} is not a palindrome.\")"
   ]
  },
  {
   "cell_type": "markdown",
   "id": "267e4d40-7e1a-4d68-ad82-3f9975a58eba",
   "metadata": {},
   "source": [
    "3. Write a code to find the sum of numbers divisible by 4.The code must allow the user to accept a number and add it to the sum if it is divisible by 4. It should continue accepting numbers as long as the user wants to provide an input and should display the final sum."
   ]
  },
  {
   "cell_type": "code",
   "execution_count": 39,
   "id": "36c68174-5320-403e-94f5-1b7ec4539434",
   "metadata": {},
   "outputs": [
    {
     "name": "stdin",
     "output_type": "stream",
     "text": [
      "Enter a number (or type '0' to finish):  0\n"
     ]
    },
    {
     "name": "stdout",
     "output_type": "stream",
     "text": [
      "The final sum of numbers divisible by 4 is: 0\n"
     ]
    }
   ],
   "source": [
    "def sum_div(num_count):\n",
    "    total_sum = 0\n",
    "    for _ in range(num_count):\n",
    "        user_input = int(input(\"Enter a number (or type '0' to finish): \"))\n",
    "        if user_input  == 0 :\n",
    "            break\n",
    "        number = int(user_input)\n",
    "        if number % 4 == 0:\n",
    "            total_sum += number\n",
    "            print(f\"{number} is divisible by 4 and added to the sum.\")\n",
    "        else:\n",
    "            print(f\"{number} is not a divisible by 4 will not be added.\")\n",
    "    print(f\"The final sum of numbers divisible by 4 is: {total_sum}\")\n",
    "sum_div(5)"
   ]
  },
  {
   "cell_type": "code",
   "execution_count": 40,
   "id": "4548120e-3512-4a90-b479-24a4bcd91fe5",
   "metadata": {},
   "outputs": [
    {
     "name": "stdin",
     "output_type": "stream",
     "text": [
      "Enter a number (or type 'exit' to finish):  exit\n"
     ]
    },
    {
     "name": "stdout",
     "output_type": "stream",
     "text": [
      "The final sum of numbers divisible by 4 is: 0\n"
     ]
    }
   ],
   "source": [
    "def sum_of_numbers_divisible_by_4(num_count):  \n",
    "    total_sum = 0  \n",
    "\n",
    "    for _ in range(num_count):  \n",
    "        user_input = input(\"Enter a number (or type 'exit' to finish): \")  \n",
    "\n",
    "        if user_input.lower() == 'exit':  \n",
    "            break  \n",
    "\n",
    "        try:  \n",
    "            number = int(user_input)  \n",
    "            if number % 4 == 0:  \n",
    "                total_sum += number  \n",
    "                print(f\"{number} is divisible by 4 and added to the sum.\")  \n",
    "            else:  \n",
    "                print(f\"{number} is not divisible by 4 and will not be added.\")  \n",
    "        except ValueError:  \n",
    "            print(\"Please enter a valid number or 'exit' to quit.\")  \n",
    "\n",
    "    print(f\"The final sum of numbers divisible by 4 is: {total_sum}\")  \n",
    "\n",
    "# Example call to the function  \n",
    "sum_of_numbers_divisible_by_4(5)  # Replace 5 with the number of inputs you want to accept"
   ]
  },
  {
   "cell_type": "markdown",
   "id": "3b4fdb63-c329-4aff-878c-6b31e0dfe1b1",
   "metadata": {},
   "source": [
    "4. A three digit number is said to be an “Armstrong number” if the sum of the third power of its individual digits is equal to the number itself.Write a program to check whether a number is armstrong or not. "
   ]
  },
  {
   "cell_type": "code",
   "execution_count": null,
   "id": "b1e50ad5-ac80-45b7-82b2-dac4acdc71f0",
   "metadata": {},
   "outputs": [],
   "source": [
    "def is_armstrong_number(num):  \n",
    "    # Convert number to string to easily iterate over digits  \n",
    "    str_num = str(num)  \n",
    "    # Ensure it's a three-digit number  \n",
    "    if len(str_num) != 3:  \n",
    "        return False  \n",
    "\n",
    "    # Calculate the sum of the cubes of the digits  \n",
    "    sum_of_cubes = sum(int(digit) ** 3 for digit in str_num)\n",
    "\n",
    "    # Check if the sum of cubes is equal to the number itself  \n",
    "    return sum_of_cubes == num  \n",
    "\n",
    "# Input from user  \n",
    "number = int(input(\"Enter a three-digit number: \"))  \n",
    "\n",
    "# Check and print result  \n",
    "if is_armstrong_number(number):  \n",
    "    print(f\"{number} is an Armstrong number.\")  \n",
    "else:  \n",
    "    print(f\"{number} is not an Armstrong number.\")"
   ]
  },
  {
   "cell_type": "markdown",
   "id": "4f487df2-013f-46b7-bad6-421656430253",
   "metadata": {},
   "source": [
    "***5.The flight ticket rates for a round-trip (Mumbai->Dubai) were as follows:***\n",
    "- Rate per Adult: Rs. 37550.0\n",
    "- Rate per Child: 1/3rd of the rate per adult\n",
    "- Service Tax: 7% of the ticket amount (including all passengers)\n",
    "- As it was a holiday season, the airline also offered a 10% discount on the final ticket cost (after inclusion of the service tax).\n",
    "- Find and display the total ticket cost for a group which had adults and children.\n"
   ]
  },
  {
   "cell_type": "code",
   "execution_count": 2,
   "id": "e806bbe1-26a0-4502-80ba-e73f5fe4c32f",
   "metadata": {},
   "outputs": [
    {
     "name": "stdin",
     "output_type": "stream",
     "text": [
      "Enter the number of adults:  12\n",
      "Enter the number of children:  12\n"
     ]
    },
    {
     "name": "stdout",
     "output_type": "stream",
     "text": [
      "Total ticket cost: Rs. 578570.40\n"
     ]
    }
   ],
   "source": [
    "def calculate_total_cost(adults, children):\n",
    "    rate_per_adult = 37550.0\n",
    "    rate_per_child = rate_per_adult / 3\n",
    "    total_ticket_cost = (adults * rate_per_adult) + (children * rate_per_child)\n",
    "    \n",
    "    service_tax = 0.07 * total_ticket_cost\n",
    "    total_with_tax = total_ticket_cost + service_tax\n",
    "    \n",
    "    discount = 0.10 * total_with_tax\n",
    "    final_cost = total_with_tax - discount\n",
    "    \n",
    "    return final_cost\n",
    "\n",
    "# Input number of adults and children\n",
    "adults = int(input(\"Enter the number of adults: \"))\n",
    "children = int(input(\"Enter the number of children: \"))\n",
    "\n",
    "# Calculate and display the total cost\n",
    "total_cost = calculate_total_cost(adults, children)\n",
    "print(f\"Total ticket cost: Rs. {total_cost:.2f}\")\n"
   ]
  },
  {
   "cell_type": "markdown",
   "id": "4c11dbf4-d88a-4e86-9fd2-6e832c88d705",
   "metadata": {},
   "source": [
    "***6.  Write a python program that displays a message as follows for a given number:***\n",
    "- If it is a multiple of three, display \"Zip\"\n",
    "- If it is a multiple of five, display \"Zap\".\n",
    "- If it is a multiple of both three and five, display \"Zoom\".\n",
    "- If it does not satisfy any of the above given conditions, display \"Invalid\".\n"
   ]
  },
  {
   "cell_type": "code",
   "execution_count": null,
   "id": "701c0e1b-218d-49bf-9eff-6a0226e5ab78",
   "metadata": {},
   "outputs": [],
   "source": [
    "def check_multiple(num):\n",
    "    if num % 3 == 0 and num % 5 == 0:\n",
    "        print(\"Zoom\")\n",
    "    elif num % 3 == 0:\n",
    "        print(\"Zip\")\n",
    "    elif num % 5 == 0:\n",
    "        print(\"Zap\")\n",
    "    else:\n",
    "        print(\"Invalid\")\n",
    "\n",
    "# Input from user\n",
    "num = int(input(\"Enter a number: \"))\n",
    "check_multiple(num)"
   ]
  },
  {
   "cell_type": "markdown",
   "id": "271c1b6c-d744-44d9-b554-c699065ca8e5",
   "metadata": {},
   "source": [
    "#### 7. Write a Python program to generate the next 15 leap years starting from a given year. Populate the leap years into a list and display the list."
   ]
  },
  {
   "cell_type": "code",
   "execution_count": null,
   "id": "6f02fd3e-5973-4e00-adc6-4b3a25ea1c8a",
   "metadata": {},
   "outputs": [],
   "source": [
    "def is_leap_year(year):\n",
    "    return (year % 4 == 0 and year % 100 != 0) or (year % 400 == 0)\n",
    "\n",
    "def next_leap_years(start_year, count=15):\n",
    "    leap_years = []\n",
    "    while len(leap_years) < count:\n",
    "        if is_leap_year(start_year):\n",
    "            leap_years.append(start_year)\n",
    "        start_year += 1\n",
    "    return leap_years\n",
    "\n",
    "# Input from user\n",
    "start_year = int(input(\"Enter the starting year: \"))\n",
    "\n",
    "# Generate and display the next 15 leap years\n",
    "leap_years_list = next_leap_years(start_year)\n",
    "print(\"Next 15 leap years:\", leap_years_list)\n"
   ]
  },
  {
   "cell_type": "markdown",
   "id": "981a371e-a865-4ecd-b6a4-ec48261170e0",
   "metadata": {},
   "source": [
    "***8. Write a python function to check whether three given numbers can form the sides of a triangle.\n",
    "Hint:***\n",
    "\n",
    "Three numbers can be the sides of a triangle if none of the numbers are greater than or equal to the sum of the other two numbers."
   ]
  },
  {
   "cell_type": "code",
   "execution_count": null,
   "id": "ad74bc39-8f57-4af3-97a6-8dda7fe03299",
   "metadata": {},
   "outputs": [],
   "source": [
    "def is_triangle(a, b, c):\n",
    "    if a + b > c and a + c > b and b + c > a:\n",
    "        return \"Yes, the given numbers can form a triangle.\"\n",
    "    else:\n",
    "        return \"No, the given numbers cannot form a triangle.\"\n",
    "\n",
    "# Input from user\n",
    "a = int(input(\"Enter the first side: \"))\n",
    "b = int(input(\"Enter the second side: \"))\n",
    "c = int(input(\"Enter the third side: \"))\n",
    "\n",
    "# Check and display result\n",
    "print(is_triangle(a, b, c))\n"
   ]
  },
  {
   "cell_type": "markdown",
   "id": "e1e8328c-a120-4e89-aaea-bf122492065e",
   "metadata": {},
   "source": [
    "***9. Write a python program to solve a classic ancient Chinese puzzle.***\n",
    "\n",
    "We count 35 heads and 94 legs among the chickens and rabbits in a farm. How many rabbits and how many chickens do we have?\n"
   ]
  },
  {
   "cell_type": "code",
   "execution_count": null,
   "id": "53ec95d9-cfe7-4ada-83ac-e28f49664f95",
   "metadata": {},
   "outputs": [],
   "source": [
    "def solve_puzzle():\n",
    "    total_heads = 35\n",
    "    total_legs = 94\n",
    "    \n",
    "    # Solving the equations\n",
    "    for chickens in range(total_heads + 1):\n",
    "        rabbits = total_heads - chickens\n",
    "        if (2 * chickens + 4 * rabbits) == total_legs:\n",
    "            return chickens, rabbits\n",
    "    \n",
    "    return None, None  # If no solution is found\n",
    "\n",
    "# Get the solution\n",
    "chickens, rabbits = solve_puzzle()\n",
    "\n",
    "# Display result\n",
    "if chickens is not None:\n",
    "    print(f\"Number of chickens: {chickens}\")\n",
    "    print(f\"Number of rabbits: {rabbits}\")\n",
    "else:\n",
    "    print(\"No solution found!\")\n"
   ]
  },
  {
   "cell_type": "markdown",
   "id": "e8f0b341-3660-4414-b831-69e22a2ba221",
   "metadata": {},
   "source": [
    "***10. Write a function, check_palindrome() to check whether the given string is a palindrome or not. The function should return true if it is a palindrome else it should return false.***\n",
    "\n",
    "Note: Initialize the string with various values and test your program. Assume that all the letters in the given string are all of the same case. Example: MAN, civic, WOW etc. \n"
   ]
  },
  {
   "cell_type": "code",
   "execution_count": null,
   "id": "48374f80-1e4e-44d2-b2c6-24a296dc81dc",
   "metadata": {},
   "outputs": [],
   "source": [
    "def check_palindrome(s):\n",
    "    return s == s[::-1]  # Reverse the string and compare with the original\n",
    "\n",
    "# Take user input\n",
    "user_input = input(\"Enter a string: \")\n",
    "\n",
    "# Check if it's a palindrome\n",
    "if check_palindrome(user_input):\n",
    "    print(\"The given string is a palindrome.\")\n",
    "else:\n",
    "    print(\"The given string is not a palindrome.\")"
   ]
  }
 ],
 "metadata": {
  "kernelspec": {
   "display_name": "Python 3 (ipykernel)",
   "language": "python",
   "name": "python3"
  },
  "language_info": {
   "codemirror_mode": {
    "name": "ipython",
    "version": 3
   },
   "file_extension": ".py",
   "mimetype": "text/x-python",
   "name": "python",
   "nbconvert_exporter": "python",
   "pygments_lexer": "ipython3",
   "version": "3.12.7"
  }
 },
 "nbformat": 4,
 "nbformat_minor": 5
}
