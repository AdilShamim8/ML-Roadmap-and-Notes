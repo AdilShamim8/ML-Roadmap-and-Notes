{
 "cells": [
  {
   "cell_type": "markdown",
   "id": "dbc480bc-db4b-411e-82c2-b6688d09b3cd",
   "metadata": {},
   "source": [
    "## Print Function in Python"
   ]
  },
  {
   "cell_type": "code",
   "execution_count": null,
   "id": "f0cb34f3-a917-4dc1-bb73-5c53f3c87c02",
   "metadata": {},
   "outputs": [],
   "source": [
    "print(\"Hello World!\")"
   ]
  },
  {
   "cell_type": "code",
   "execution_count": 9,
   "id": "4c6cf3c8-73a4-4b31-ba78-7962f8a0c649",
   "metadata": {},
   "outputs": [
    {
     "name": "stdout",
     "output_type": "stream",
     "text": [
      "Hello world!\n"
     ]
    }
   ],
   "source": [
    "print(\"Hello\", end=' ')\n",
    "print(\"world!\")"
   ]
  },
  {
   "cell_type": "code",
   "execution_count": 10,
   "id": "edf5ca42-cb3b-4696-bab5-5aa509339628",
   "metadata": {},
   "outputs": [
    {
     "name": "stdout",
     "output_type": "stream",
     "text": [
      "Adil Shamim USA Bangladesh\n"
     ]
    }
   ],
   "source": [
    "print(\"Adil\",\"Shamim\",\"USA\",\"Bangladesh\")"
   ]
  },
  {
   "cell_type": "code",
   "execution_count": 11,
   "id": "bf587d9b-eafc-4fcf-8ffd-b8a49422194d",
   "metadata": {},
   "outputs": [
    {
     "name": "stdout",
     "output_type": "stream",
     "text": [
      "Adil-->USA-->Shamim-->Bangladesh\n"
     ]
    }
   ],
   "source": [
    "print(\"Adil\",\"USA\",\"Shamim\",\"Bangladesh\",sep='-->')"
   ]
  },
  {
   "cell_type": "markdown",
   "id": "03fff270-b103-4efd-a933-9b9cc2836192",
   "metadata": {},
   "source": [
    "## Python Data Types Categories\n",
    "## Basic Types:\n",
    "- Int: Whole nums (1, 2, 3).\n",
    "- Float: Decimals (3.14, 2.5).\n",
    "- Complex: Real+Imag (1 + 2j).\n",
    "- Bool: True/False.\n",
    "- Str: Text (\"hello\").\n",
    "## Container Types:\n",
    "- List: Ordered items.\n",
    "- [1, 2, 3]\n",
    "- Tuple: Ordered, immutable.\n",
    "- (1, 2, 3)\n",
    "- Set: Unordered, unique.\n",
    "- {1, 2, 3}\n",
    "- Dict: Key-value pairs.\n",
    "- {'k1': 'v1', 'k2': 'v2'}\n",
    "## User-Defined Types:\n",
    "- Class: Obj blueprint."
   ]
  },
  {
   "cell_type": "code",
   "execution_count": 2,
   "id": "27c7c118-3b0a-45e9-8834-8af14ad8eafa",
   "metadata": {},
   "outputs": [
    {
     "name": "stdout",
     "output_type": "stream",
     "text": [
      "1e+308\n",
      "inf\n"
     ]
    }
   ],
   "source": [
    "# Large Numbers\n",
    "print(1e308)  # 1 * 10^308\n",
    "print(1e309)  # 'inf' (exceeds float limit)"
   ]
  },
  {
   "cell_type": "markdown",
   "id": "a42112c0-3a8c-4824-969c-8efabb573bf3",
   "metadata": {},
   "source": [
    "## Static vs Dynamic Typing:\n",
    "\n",
    "- Dynamic Typing (Python): Types change during execution.\n",
    "- Static Typing: Fixed types before runtime.\n",
    "## Static vs Dynamic Binding:\n",
    "\n",
    "- Static Binding: Types fixed at compile-time.\n",
    "- Dynamic Binding: Types associated at runtime, changeable during execution.\n",
    "## Stylish Declaration Techniques:\n",
    "\n",
    "- Clear, efficient variable/structure declarations in Python.\n",
    "- Use Python's flexibility for concise, readable code."
   ]
  },
  {
   "cell_type": "code",
   "execution_count": null,
   "id": "e7d6dc85-5006-47fa-b2e1-6479787a9e2e",
   "metadata": {},
   "outputs": [],
   "source": [
    "# Static Binding Example\n",
    "int a = 5\n",
    "\n",
    "# Dynamic Binding Example\n",
    "a = 5 "
   ]
  },
  {
   "cell_type": "code",
   "execution_count": null,
   "id": "603d3236-86f0-4afb-905a-e92b2dd90a4b",
   "metadata": {},
   "outputs": [],
   "source": [
    "# Special Syntax\n",
    "a = 5; b = 6; c = 7\n",
    "a, b, c = 5, 6, 7\n",
    "a = b = c = 6"
   ]
  },
  {
   "cell_type": "code",
   "execution_count": null,
   "id": "0c599f00-ef66-42e8-850f-34317beda3e0",
   "metadata": {},
   "outputs": [],
   "source": []
  },
  {
   "cell_type": "markdown",
   "id": "06a61076-ceb2-4a3e-81be-bec9641c42c6",
   "metadata": {},
   "source": [
    "## Keywords\n",
    "# Python is case sensitive\n",
    "\n",
    "- Keywords: reserved words, special meanings\n",
    "- Cannot use as variable names"
   ]
  },
  {
   "cell_type": "code",
   "execution_count": 4,
   "id": "0680adfa-a89c-4725-a89c-df3085091ed9",
   "metadata": {},
   "outputs": [
    {
     "name": "stdout",
     "output_type": "stream",
     "text": [
      "['False', 'None', 'True', 'and', 'as', 'assert', 'async', 'await', 'break', 'class', 'continue', 'def', 'del', 'elif', 'else', 'except', 'finally', 'for', 'from', 'global', 'if', 'import', 'in', 'is', 'lambda', 'nonlocal', 'not', 'or', 'pass', 'raise', 'return', 'try', 'while', 'with', 'yield']\n"
     ]
    }
   ],
   "source": [
    "# Python has 35 keywords.\n",
    "import keyword\n",
    "print(keyword.kwlist)"
   ]
  },
  {
   "cell_type": "code",
   "execution_count": 8,
   "id": "095282f2-fe89-4508-a7a3-7ed2435d5bb2",
   "metadata": {},
   "outputs": [
    {
     "name": "stdout",
     "output_type": "stream",
     "text": [
      "Total number of keywords: 35\n"
     ]
    }
   ],
   "source": [
    "print(\"Total number of keywords:\", len(keyword.kwlist))"
   ]
  },
  {
   "cell_type": "markdown",
   "id": "8eb5052d-d571-453b-907b-1f4a425dc8bc",
   "metadata": {},
   "source": [
    "## Identifiers\n",
    "Identifier are name for var, func, class, module, etc.\n",
    "\n",
    "Rules:\n",
    "- Start with letter or _\n",
    "- Followed by letters, digits, _\n",
    "- Not a Python keyword"
   ]
  },
  {
   "cell_type": "code",
   "execution_count": 11,
   "id": "389426af-d111-4201-a179-9bc3a4945c57",
   "metadata": {},
   "outputs": [
    {
     "name": "stdout",
     "output_type": "stream",
     "text": [
      "Adil\n"
     ]
    }
   ],
   "source": [
    "_ = \"Adil\"\n",
    "print(_)"
   ]
  },
  {
   "cell_type": "markdown",
   "id": "25c1cf3c-c458-4f69-9a7b-e1102fef761e",
   "metadata": {},
   "source": [
    "# User Input"
   ]
  },
  {
   "cell_type": "code",
   "execution_count": 10,
   "id": "c3f30f79-2857-46a5-9873-cb512a1940b7",
   "metadata": {},
   "outputs": [
    {
     "name": "stdin",
     "output_type": "stream",
     "text": [
      "Enter your age:  20\n"
     ]
    }
   ],
   "source": [
    "# Input from user\n",
    "age = input(\"Enter your age: \")"
   ]
  },
  {
   "cell_type": "markdown",
   "id": "93bf3b38-bd15-4509-aae4-c069962ea657",
   "metadata": {},
   "source": [
    "## Type Conversion\n",
    "- `Implicit:` Auto type conversion by language.\n",
    "- `Explicit:` Manual type conversion using functions/methods."
   ]
  },
  {
   "cell_type": "code",
   "execution_count": 12,
   "id": "afeeae2d-d6af-407f-abb9-21d44e95ceb2",
   "metadata": {},
   "outputs": [
    {
     "name": "stdout",
     "output_type": "stream",
     "text": [
      "10.6\n",
      "<class 'int'> <class 'float'>\n"
     ]
    },
    {
     "ename": "TypeError",
     "evalue": "unsupported operand type(s) for +: 'int' and 'str'",
     "output_type": "error",
     "traceback": [
      "\u001b[1;31m---------------------------------------------------------------------------\u001b[0m",
      "\u001b[1;31mTypeError\u001b[0m                                 Traceback (most recent call last)",
      "Cell \u001b[1;32mIn[12], line 4\u001b[0m\n\u001b[0;32m      2\u001b[0m \u001b[38;5;28mprint\u001b[39m(\u001b[38;5;241m5\u001b[39m \u001b[38;5;241m+\u001b[39m \u001b[38;5;241m5.6\u001b[39m)            \u001b[38;5;66;03m# Implicit: int + float → float\u001b[39;00m\n\u001b[0;32m      3\u001b[0m \u001b[38;5;28mprint\u001b[39m(\u001b[38;5;28mtype\u001b[39m(\u001b[38;5;241m5\u001b[39m), \u001b[38;5;28mtype\u001b[39m(\u001b[38;5;241m5.6\u001b[39m)) \u001b[38;5;66;03m# Show types: int, float\u001b[39;00m\n\u001b[1;32m----> 4\u001b[0m \u001b[38;5;28mprint\u001b[39m(\u001b[38;5;241;43m4\u001b[39;49m\u001b[43m \u001b[49m\u001b[38;5;241;43m+\u001b[39;49m\u001b[43m \u001b[49m\u001b[38;5;124;43m'\u001b[39;49m\u001b[38;5;124;43m4\u001b[39;49m\u001b[38;5;124;43m'\u001b[39;49m)            \u001b[38;5;66;03m# Error: no implicit int + str\u001b[39;00m\n",
      "\u001b[1;31mTypeError\u001b[0m: unsupported operand type(s) for +: 'int' and 'str'"
     ]
    }
   ],
   "source": [
    "# Implicit Vs Explicit\n",
    "print(5 + 5.6)            # Implicit: int + float → float\n",
    "print(type(5), type(5.6)) # Show types: int, float\n",
    "print(4 + '4')            # Error: no implicit int + str"
   ]
  },
  {
   "cell_type": "code",
   "execution_count": 13,
   "id": "7d0fcd34-be9d-4895-875b-39770c96c091",
   "metadata": {},
   "outputs": [
    {
     "data": {
      "text/plain": [
       "4.0"
      ]
     },
     "execution_count": 13,
     "metadata": {},
     "output_type": "execute_result"
    }
   ],
   "source": [
    "# Explicit\n",
    "\n",
    "# str to int\n",
    "int('4')\n",
    "\n",
    "# int to str\n",
    "str(5)\n",
    "\n",
    "# float\n",
    "float(4)"
   ]
  },
  {
   "cell_type": "code",
   "execution_count": null,
   "id": "74547af6-076d-4e36-a1b5-1034329067b9",
   "metadata": {},
   "outputs": [],
   "source": []
  },
  {
   "cell_type": "markdown",
   "id": "1f5fa4ca-3f25-4486-8900-0aa8ce01568c",
   "metadata": {},
   "source": [
    "# Literals\n",
    "Literals = basic `data values` for variables.\n",
    "\n",
    "Types in Python:\n",
    "\n",
    "- Numeric literals\n",
    "- String literals\n",
    "- Boolean literals\n",
    "- Special literals\n",
    "# 1. Numeric literals"
   ]
  },
  {
   "cell_type": "code",
   "execution_count": 15,
   "id": "75689de1-c93c-4c74-a52d-f6ca24eafcfb",
   "metadata": {},
   "outputs": [
    {
     "name": "stdout",
     "output_type": "stream",
     "text": [
      "10 100 200 300\n",
      "10.5 150.0 0.0015\n",
      "3.14j 3.14 0.0\n"
     ]
    }
   ],
   "source": [
    "# Integer Literals\n",
    "a = 0b1010  # Binary\n",
    "b = 100     # Decimal\n",
    "c = 0o310   # Octal\n",
    "d = 0x12c   # Hex\n",
    "\n",
    "# Float Literals\n",
    "f1 = 10.5\n",
    "f2 = 1.5e2\n",
    "f3 = 1.5e-3\n",
    "\n",
    "# Complex Literal\n",
    "x = 3.14j\n",
    "\n",
    "print(a, b, c, d)\n",
    "print(f1, f2, f3)\n",
    "print(x, x.imag, x.real)"
   ]
  },
  {
   "cell_type": "markdown",
   "id": "1f2fb557-fd0e-46f8-b878-d02ecb22781e",
   "metadata": {},
   "source": [
    "# 2. String literals"
   ]
  },
  {
   "cell_type": "code",
   "execution_count": 16,
   "id": "198699b4-3cef-49ec-9726-5df18fc0a3b9",
   "metadata": {},
   "outputs": [
    {
     "name": "stdout",
     "output_type": "stream",
     "text": [
      "This is Python\n",
      "This is Python\n",
      "C\n",
      "This is a multiline string with more than one line code.\n",
      "😀😆🤣\n",
      "raw \\n string\n"
     ]
    }
   ],
   "source": [
    "string = 'This is Python'\n",
    "strings = \"This is Python\"\n",
    "char = \"C\"\n",
    "multiline_str = \"\"\"This is a multiline string with more than one line code.\"\"\"\n",
    "unicode = u\"\\U0001f600\\U0001F606\\U0001F923\"\n",
    "raw_str = r\"raw \\n string\"\n",
    "\n",
    "print(string)\n",
    "print(strings)\n",
    "print(char)\n",
    "print(multiline_str)\n",
    "print(unicode)\n",
    "print(raw_str)"
   ]
  },
  {
   "cell_type": "markdown",
   "id": "79f63090-2e1b-4c57-9713-267d494ab1c3",
   "metadata": {},
   "source": [
    "# 3. Boolean literals"
   ]
  },
  {
   "cell_type": "code",
   "execution_count": 18,
   "id": "e6a39f1e-76ac-442f-9937-35538da59485",
   "metadata": {},
   "outputs": [
    {
     "name": "stdout",
     "output_type": "stream",
     "text": [
      "a: 5\n",
      "b: 10\n"
     ]
    }
   ],
   "source": [
    "a = True + 4   # True == 1\n",
    "b = False + 10 # False == 0\n",
    "\n",
    "print(\"a:\", a)\n",
    "print(\"b:\", b)"
   ]
  },
  {
   "cell_type": "markdown",
   "id": "6cca3986-ba3e-45e1-b868-be6a27e94568",
   "metadata": {},
   "source": [
    "# 4. Special literals"
   ]
  },
  {
   "cell_type": "code",
   "execution_count": 19,
   "id": "70e6ea98-57fe-449f-ad02-c3e2cb02ad8c",
   "metadata": {},
   "outputs": [
    {
     "name": "stdout",
     "output_type": "stream",
     "text": [
      "None\n"
     ]
    }
   ],
   "source": [
    "a = None\n",
    "print(a)\n",
    "\n",
    "# Variable Declaration\n",
    "k = None"
   ]
  },
  {
   "cell_type": "code",
   "execution_count": null,
   "id": "54f1785a-f36c-4fb8-a2f5-c0c8e28353a6",
   "metadata": {},
   "outputs": [],
   "source": []
  },
  {
   "cell_type": "markdown",
   "id": "b8536961-be5d-4e2f-abc1-279a9f3d0175",
   "metadata": {},
   "source": [
    "# Operators in Python  \n",
    "\n",
    "- **Arithmetic:** `+`, `-`, `*`, `/`, `%`, `**`, `//`  \n",
    "- **Comparison:** `==`, `!=`, `<`, `>`, `<=`, `>=`  \n",
    "- **Logical:** `and`, `or`, `not`  \n",
    "- **Bitwise:** `&`, `|`, `^`, `~`, `<<`, `>>`  \n",
    "- **Assignment:** `=`, `+=`, `-=`, `*=`, `/=`, `%=`, `**=`, `//=`  \n",
    "- **Identity:** `is`, `is not`  \n",
    "- **Membership:** `in`, `not in`"
   ]
  },
  {
   "cell_type": "code",
   "execution_count": null,
   "id": "f65fcef8-a964-42eb-a980-aebc390ecf73",
   "metadata": {},
   "outputs": [],
   "source": []
  },
  {
   "cell_type": "markdown",
   "id": "88b944f4-273c-455d-9b3c-72d75d7e17fa",
   "metadata": {},
   "source": [
    "## if-elif-else"
   ]
  },
  {
   "cell_type": "code",
   "execution_count": 27,
   "id": "5c76120b-9dd2-4384-b9c7-b38efe20512b",
   "metadata": {},
   "outputs": [
    {
     "name": "stdin",
     "output_type": "stream",
     "text": [
      "enter email adil@gmail.com\n",
      "you password 123\n"
     ]
    },
    {
     "name": "stdout",
     "output_type": "stream",
     "text": [
      "welcome\n"
     ]
    }
   ],
   "source": [
    "# correct email - adil@gmail.com\n",
    "# password = 123\n",
    "email = input('Enter your email: ')  \n",
    "if '@' in email:  \n",
    "    password = input('Enter your password: ')  \n",
    "    if email == 'adil@gmail.com' and password == '123':  \n",
    "        print('Welcome!')  \n",
    "    elif email == 'adil@gmail.com' or password != '123':  \n",
    "        print('Invalid password.')  \n",
    "        password = input('Please try again: ')  \n",
    "        if password != '123':  \n",
    "            print('Incorrect password. Goodbye.')  \n",
    "    else:  \n",
    "        print('Email and password are not correct.')"
   ]
  },
  {
   "cell_type": "code",
   "execution_count": null,
   "id": "6ee75d30-9b65-4024-a9a0-459e29391f9c",
   "metadata": {},
   "outputs": [],
   "source": []
  },
  {
   "cell_type": "markdown",
   "id": "043f6752-aa00-4283-ac13-4449ad57f5c6",
   "metadata": {},
   "source": [
    "## Loops in Python\n",
    "**Need**\n",
    "\n",
    "- Repeat code block.\n",
    "- Iteration: Execute same code repeatedly.\n",
    " \n",
    "**While Loop**\n",
    "- Executes while condition true.\n",
    "\n",
    "**For Loop**\n",
    "- Executes for each item in iterable."
   ]
  },
  {
   "cell_type": "code",
   "execution_count": 30,
   "id": "575f6bb7-c3d9-454b-9a6e-b35451689040",
   "metadata": {},
   "outputs": [
    {
     "data": {
      "text/plain": [
       "100"
      ]
     },
     "execution_count": 30,
     "metadata": {},
     "output_type": "execute_result"
    }
   ],
   "source": [
    "import random  \n",
    "\n",
    "# Generate a random number between 1 and 100 (not used in this snippet)  \n",
    "random.randint(1, 100)  \n",
    "# Generate a jackpot number between 1 and 100  \n",
    "jackpot = random.randint(1, 100)  \n",
    "counter = 1  # Initialize the attempt counter \n",
    "\n",
    "# Ask the user to guess the number  \n",
    "guess = int(input(\"Come on, make a guess: \"))   \n",
    "\n",
    "# Loop until the correct guess is made  \n",
    "while guess != jackpot:  \n",
    "    if guess < jackpot:  \n",
    "        print(\"Guess higher\")  \n",
    "    else:  \n",
    "        print(\"Guess lower\")   \n",
    "    \n",
    "    # Prompt for another guess  \n",
    "    guess = int(input(\"Come on, make a guess: \"))  \n",
    "    counter += 1  # Increment the attempt counter  \n",
    "\n",
    "# Notify the user that they guessed correctly  \n",
    "print(\"Correct answer!\")  \n",
    "print(\"You took\", counter, \"attempts\")  # Display the number of attempts\n"
   ]
  },
  {
   "cell_type": "code",
   "execution_count": 21,
   "id": "e31d6b9b-3c9c-4c19-8369-6aa66320ab6f",
   "metadata": {},
   "outputs": [
    {
     "name": "stdin",
     "output_type": "stream",
     "text": [
      "Enter the number:  12345\n"
     ]
    },
    {
     "name": "stdout",
     "output_type": "stream",
     "text": [
      "Sum of digits: 15\n"
     ]
    }
   ],
   "source": [
    "# 2. Sum of Digits\n",
    "number = int(input(\"Enter the number: \"))\n",
    "sum_digits = 0\n",
    "while number > 0:\n",
    "    digit = number % 10\n",
    "    sum_digits += digit\n",
    "    number //= 10\n",
    "print(f\"Sum of digits: {sum_digits}\")"
   ]
  },
  {
   "cell_type": "code",
   "execution_count": 4,
   "id": "13ce5898-3778-49c5-a628-d5285afffd84",
   "metadata": {},
   "outputs": [
    {
     "name": "stdin",
     "output_type": "stream",
     "text": [
      "Enter a number (0 to stop):  10\n",
      "Enter a number (0 to stop):  10\n",
      "Enter a number (0 to stop):  0\n"
     ]
    },
    {
     "name": "stdout",
     "output_type": "stream",
     "text": [
      "Average of entered numbers: 10.0\n"
     ]
    }
   ],
   "source": [
    "# 3. Average of Numbers Until 0\n",
    "count = 0\n",
    "total = 0\n",
    "while True:\n",
    "    number = int(input(\"Enter a number (0 to stop): \"))\n",
    "    if number == 0:\n",
    "        break\n",
    "    total += number\n",
    "    count += 1\n",
    "if count > 0:\n",
    "    average = total / count\n",
    "    print(f\"Average of entered numbers: {average}\")\n",
    "else:\n",
    "    print(\"No numbers entered.\")"
   ]
  },
  {
   "cell_type": "code",
   "execution_count": 2,
   "id": "0b83f4c9-652f-404a-a2e5-17918079d061",
   "metadata": {},
   "outputs": [
    {
     "name": "stdout",
     "output_type": "stream",
     "text": [
      "10 10000\n",
      "9 9090.90909090909\n",
      "8 8264.462809917353\n",
      "7 7513.148009015775\n",
      "6 6830.134553650703\n",
      "5 6209.213230591548\n",
      "4 5644.739300537771\n",
      "3 5131.5811823070635\n",
      "2 4665.07380209733\n",
      "1 4240.976183724845\n"
     ]
    }
   ],
   "source": [
    "# 1. Population Growth Calculation\n",
    "\n",
    "# Initial Population: 10000\n",
    "# Growth Rate: 10% annually\n",
    "# Duration: 10 years\n",
    "\n",
    "curr_pop = 10000\n",
    "for i in range(10, 0, -1):\n",
    "    print(i, curr_pop)\n",
    "    curr_pop = curr_pop / 1.1"
   ]
  },
  {
   "cell_type": "markdown",
   "id": "a4a03518-f9bd-4e60-9ad9-a43bb1ff1dbb",
   "metadata": {},
   "source": [
    "**For Loop :** Known iterations.\n",
    "\n",
    "for item in iterable:\n",
    "    # Code block\n",
    "iterable: list, tuple, string, etc.\n",
    "\n",
    "**While Loop:** Unknown iterations.\n",
    "\n",
    "**while condition:**\n",
    "\n",
    "    # Code block\n",
    "condition: boolean expression.\n",
    "\n",
    "**Key Differences** is **For Loop** iterates a fixed number of times; **While Loop** iterates until condition is False.\n",
    "\n",
    "**For Loop Usage** - Known iterations/sequence traversal; **While Loop Usage** - Uncertain iterations/condition-based."
   ]
  },
  {
   "cell_type": "markdown",
   "id": "690d9cef-8046-44be-a464-47086cbf4ad5",
   "metadata": {},
   "source": [
    "## Nested Loops"
   ]
  },
  {
   "cell_type": "code",
   "execution_count": 18,
   "id": "8fa65c0f-f040-43c6-a5c2-780d03ae0288",
   "metadata": {},
   "outputs": [
    {
     "name": "stdin",
     "output_type": "stream",
     "text": [
      "i 5\n"
     ]
    },
    {
     "name": "stdout",
     "output_type": "stream",
     "text": [
      " \n",
      "*  \n",
      "* *  \n",
      "* * *  \n",
      "* * * *  \n",
      "* * * * *  \n"
     ]
    }
   ],
   "source": [
    "n = int(input('i'))\n",
    "for i in range (0,n+1):\n",
    "    for j in range(0,i):\n",
    "        print('*',end = ' ')\n",
    "    print(' ')"
   ]
  },
  {
   "cell_type": "code",
   "execution_count": 20,
   "id": "a8deae10-5f61-4078-9b65-656304d5d5aa",
   "metadata": {},
   "outputs": [
    {
     "name": "stdin",
     "output_type": "stream",
     "text": [
      "Enter rows:  3\n"
     ]
    },
    {
     "name": "stdout",
     "output_type": "stream",
     "text": [
      "1\n",
      "121\n",
      "12321\n"
     ]
    }
   ],
   "source": [
    "# 1\n",
    "# 121\n",
    "# 12321\n",
    "# 1234321\n",
    "\n",
    "rows = int(input('Enter rows: '))\n",
    "for i in range(1, rows+1):\n",
    "  for j in range(1, i+1):\n",
    "    print(j, end='')\n",
    "  for k in range(i-1, 0, -1):\n",
    "    print(k, end='')\n",
    "  print()"
   ]
  },
  {
   "cell_type": "markdown",
   "id": "424c730a-c221-43f4-8eef-1322a8a307bf",
   "metadata": {},
   "source": [
    "## Loop Control Statements\n",
    "**Break:** Ends loop immediately.\n",
    "\n",
    "**Continue:** Skips to next iteration.\n",
    "\n",
    "**Pass:** Placeholder; does nothing."
   ]
  },
  {
   "cell_type": "code",
   "execution_count": null,
   "id": "49545eb0-ee00-432b-a03f-f81be3912fa2",
   "metadata": {},
   "outputs": [
    {
     "name": "stdin",
     "output_type": "stream",
     "text": [
      "lower:  1\n"
     ]
    }
   ],
   "source": [
    "lower = int(input('lower: '))\n",
    "upper = int(input('upper: '))\n",
    "for i in range(lower, upper+1):\n",
    "  for j in range(2, i):\n",
    "    if i % j == 0:\n",
    "      break\n",
    "  else:\n",
    "    print(i)"
   ]
  },
  {
   "cell_type": "code",
   "execution_count": 21,
   "id": "bb32cfd1-804e-46f7-a025-76aa855f75aa",
   "metadata": {},
   "outputs": [
    {
     "name": "stdout",
     "output_type": "stream",
     "text": [
      "1\n",
      "2\n",
      "3\n",
      "4\n"
     ]
    }
   ],
   "source": [
    "for i in range(1, 11):\n",
    "    if i == 5:\n",
    "        break\n",
    "    print(i)"
   ]
  },
  {
   "cell_type": "code",
   "execution_count": null,
   "id": "72374590-6450-4da7-ba7c-23f22e689b07",
   "metadata": {},
   "outputs": [],
   "source": [
    "for i in range(1, 11):\n",
    "    if i == 5:\n",
    "        continue\n",
    "    print(i)"
   ]
  },
  {
   "cell_type": "code",
   "execution_count": null,
   "id": "4b3d3521-ac93-414f-99df-85874f6f0cb0",
   "metadata": {},
   "outputs": [],
   "source": [
    "for i in range(1, 11):\n",
    "    pass"
   ]
  },
  {
   "cell_type": "markdown",
   "id": "f903b7cc-164e-4b29-929d-9f3031b0c4e5",
   "metadata": {},
   "source": [
    "## Built-in Functions"
   ]
  },
  {
   "cell_type": "code",
   "execution_count": null,
   "id": "3487ffdd-a0ae-4e1b-8a86-16863bdf499f",
   "metadata": {},
   "outputs": [],
   "source": [
    "# 5. abs\n",
    "abs(-4)"
   ]
  },
  {
   "cell_type": "code",
   "execution_count": null,
   "id": "53b5d0d0-903d-4cfc-b43b-4338ba4b8245",
   "metadata": {},
   "outputs": [],
   "source": [
    "# 6. pow\n",
    "pow(2, 3)"
   ]
  },
  {
   "cell_type": "code",
   "execution_count": null,
   "id": "b3487974-279b-4e17-ac3b-76e9a16ab955",
   "metadata": {},
   "outputs": [],
   "source": [
    "#7. min/max\n",
    "min([2, 1, 3, 0])"
   ]
  },
  {
   "cell_type": "code",
   "execution_count": null,
   "id": "57b7372d-4e6e-44ad-b128-ab86d0c575fb",
   "metadata": {},
   "outputs": [],
   "source": [
    "#8. round\n",
    "round(c, 2)"
   ]
  },
  {
   "cell_type": "code",
   "execution_count": null,
   "id": "17357c65-74de-4974-921d-41a7a6ffaa7f",
   "metadata": {},
   "outputs": [],
   "source": [
    "#9. divmod\n",
    "divmod(5, 2)"
   ]
  },
  {
   "cell_type": "code",
   "execution_count": null,
   "id": "dca2a27f-feef-4313-9ae3-d32d8e06d637",
   "metadata": {},
   "outputs": [],
   "source": [
    "#10. bin/oct/hex\n",
    "bin(4)"
   ]
  },
  {
   "cell_type": "code",
   "execution_count": null,
   "id": "0987f305-55d1-402e-ab2a-cb2013ee1fbf",
   "metadata": {},
   "outputs": [],
   "source": [
    "#11. id\n",
    "a = 3\n",
    "id(a)"
   ]
  },
  {
   "cell_type": "code",
   "execution_count": null,
   "id": "119337ac-0a5c-4a01-bbc0-81c1656fbf4d",
   "metadata": {},
   "outputs": [],
   "source": [
    "#12. ord\n",
    "ord('A')"
   ]
  },
  {
   "cell_type": "code",
   "execution_count": null,
   "id": "206bf34c-8fb7-444c-b04e-c88006516102",
   "metadata": {},
   "outputs": [],
   "source": [
    "15. help\n",
    "help('print')"
   ]
  },
  {
   "cell_type": "markdown",
   "id": "f1de88ee-564f-4ac5-9d5c-5a63e34fc5c4",
   "metadata": {},
   "source": [
    "## What are Modules?\n",
    "- Code libraries in Python.\n",
    "- Contain functions for use.\n",
    "Examples:\n",
    "\n",
    "- Math: Math ops\n",
    "- Random: Random numbers\n",
    "- os: OS interaction\n",
    "- time: Time tasks"
   ]
  },
  {
   "cell_type": "code",
   "execution_count": 1,
   "id": "e006fd37-601d-4832-9962-18e2530633e8",
   "metadata": {},
   "outputs": [
    {
     "name": "stdout",
     "output_type": "stream",
     "text": [
      "\n",
      "Please wait a moment while I gather a list of all available modules...\n",
      "\n",
      "test_sqlite3: testing with SQLite version 3.45.3\n"
     ]
    },
    {
     "name": "stderr",
     "output_type": "stream",
     "text": [
      "C:\\Program Files\\Python312\\Lib\\pkgutil.py:78: DeprecationWarning: `np.compat`, which was used during the Python 2 to 3 transition, is deprecated since 1.26.0, and will be removed\n",
      "  __import__(info.name)\n",
      "C:\\Users\\Adil\\AppData\\Roaming\\Python\\Python312\\site-packages\\visions\\utils\\monkeypatches\\imghdr_patch.py:2: DeprecationWarning: 'imghdr' is deprecated and slated for removal in Python 3.13\n",
      "  from imghdr import tests\n",
      "C:\\Users\\Adil\\AppData\\Roaming\\Python\\Python312\\site-packages\\pip\\_vendor\\pkg_resources\\__init__.py:3116: DeprecationWarning: Deprecated call to `pkg_resources.declare_namespace('zope')`.\n",
      "Implementing implicit namespace packages (as specified in PEP 420) is preferred to `pkg_resources.declare_namespace`. See https://setuptools.pypa.io/en/latest/references/keywords.html#keyword-namespace-packages\n",
      "  declare_namespace(pkg)\n",
      "C:\\Users\\Adil\\AppData\\Roaming\\Python\\Python312\\site-packages\\pip\\_vendor\\pkg_resources\\__init__.py:3116: DeprecationWarning: Deprecated call to `pkg_resources.declare_namespace('zope')`.\n",
      "Implementing implicit namespace packages (as specified in PEP 420) is preferred to `pkg_resources.declare_namespace`. See https://setuptools.pypa.io/en/latest/references/keywords.html#keyword-namespace-packages\n",
      "  declare_namespace(pkg)\n",
      "C:\\Program Files\\Python312\\Lib\\pkgutil.py:78: DeprecationWarning: pkg_resources is deprecated as an API. See https://setuptools.pypa.io/en/latest/pkg_resources.html\n",
      "  __import__(info.name)\n",
      "C:\\Users\\Adil\\AppData\\Roaming\\Python\\Python312\\site-packages\\pkg_resources\\__init__.py:3144: DeprecationWarning: Deprecated call to `pkg_resources.declare_namespace('zope')`.\n",
      "Implementing implicit namespace packages (as specified in PEP 420) is preferred to `pkg_resources.declare_namespace`. See https://setuptools.pypa.io/en/latest/references/keywords.html#keyword-namespace-packages\n",
      "  declare_namespace(pkg)\n",
      "C:\\Users\\Adil\\AppData\\Roaming\\Python\\Python312\\site-packages\\pkg_resources\\__init__.py:3144: DeprecationWarning: Deprecated call to `pkg_resources.declare_namespace('zope')`.\n",
      "Implementing implicit namespace packages (as specified in PEP 420) is preferred to `pkg_resources.declare_namespace`. See https://setuptools.pypa.io/en/latest/references/keywords.html#keyword-namespace-packages\n",
      "  declare_namespace(pkg)\n",
      "C:\\Users\\Adil\\AppData\\Roaming\\Python\\Python312\\site-packages\\pydantic\\experimental\\__init__.py:7: PydanticExperimentalWarning: This module is experimental, its contents are subject to change and deprecation.\n",
      "  warnings.warn(\n"
     ]
    },
    {
     "name": "stdout",
     "output_type": "stream",
     "text": [
      "pygame 2.6.0 (SDL 2.28.4, Python 3.12.7)\n",
      "Hello from the pygame community. https://www.pygame.org/contribute.html\n"
     ]
    },
    {
     "name": "stderr",
     "output_type": "stream",
     "text": [
      "C:\\Users\\Adil\\AppData\\Roaming\\Python\\Python312\\site-packages\\zmq\\green\\eventloop\\ioloop.py:1: DeprecationWarning: zmq.eventloop.ioloop is deprecated in pyzmq 17. pyzmq now works with default tornado and asyncio eventloops.\n",
      "  from zmq.eventloop.ioloop import *  # noqa\n",
      "C:\\Program Files\\Python312\\Lib\\site-packages\\vboxapi-1.0-py3.12.egg\\vboxapi\\__init__.py:73: SyntaxWarning: invalid escape sequence '\\P'\n",
      "C:\\Program Files\\Python312\\Lib\\site-packages\\vboxapi-1.0-py3.12.egg\\vboxapi\\__init__.py:73: SyntaxWarning: invalid escape sequence '\\P'\n"
     ]
    },
    {
     "name": "stdout",
     "output_type": "stream",
     "text": [
      "CORScanner          cmd                 missingno           sspi\n",
      "IPython             code                mistune             sspicon\n",
      "PIL                 codecs              mlxtend             stack_data\n",
      "__future__          codeop              mmap                start_pythonwin\n",
      "__hello__           collections         mmapfile            stat\n",
      "__phello__          colorama            mmsystem            statistics\n",
      "_abc                colorsys            modulefinder        streamlit\n",
      "_aix_support        comm                mpmath              string\n",
      "_argon2_cffi_bindings commctrl            msilib              stringprep\n",
      "_ast                compileall          msvcrt              struct\n",
      "_asyncio            comtypes            multidict           subprocess\n",
      "_bisect             concurrent          multimethod         sunau\n",
      "_blake2             configparser        multiprocessing     sympy\n",
      "_bz2                contextlib          mysql               symtable\n",
      "_cffi_backend       contextvars         mysqlx              sys\n",
      "_codecs             contourpy           narwhals            sysconfig\n",
      "_codecs_cn          copy                nbclient            tabnanny\n",
      "_codecs_hk          copyreg             nbconvert           tangled_up_in_unicode\n",
      "_codecs_iso2022     crypt               nbformat            tarfile\n",
      "_codecs_jp          csv                 nest_asyncio        telnetlib\n",
      "_codecs_kr          ctypes              netbios             tempfile\n",
      "_codecs_tw          curses              netrc               tenacity\n",
      "_collections        cycler              networkx            terminado\n",
      "_collections_abc    dataclasses         nntplib             test\n",
      "_compat_pickle      datetime            notebook            textwrap\n",
      "_compression        dateutil            notebook_shim       this\n",
      "_contextvars        dbi                 nt                  threading\n",
      "_csv                dbm                 ntpath              threadpoolctl\n",
      "_ctypes             dde                 ntsecuritycon       tiktoken\n",
      "_ctypes_test        debugpy             nturl2path          time\n",
      "_datetime           decimal             numbers             timeit\n",
      "_decimal            decorator           numpy               timer\n",
      "_distutils_hack     defusedxml          odbc                tinycss2\n",
      "_elementtree        difflib             opcode              tkinter\n",
      "_functools          dis                 openai              tldextract\n",
      "_hashlib            distro              openpyxl            token\n",
      "_heapq              doctest             operator            tokenize\n",
      "_imp                dotenv              optparse            tokenizers\n",
      "_io                 email               orjson              toml\n",
      "_json               encodings           os                  tomllib\n",
      "_locale             ensurepip           overrides           torch\n",
      "_lsprof             enum                packaging           torchgen\n",
      "_lzma               errno               pandas              tornado\n",
      "_markupbase         et_xmlfile          pandas_profiling    tqdm\n",
      "_md5                executing           pandocfilters       trace\n",
      "_msi                fastjsonschema      parso               traceback\n",
      "_multibytecodec     faulthandler        past                tracemalloc\n",
      "_multiprocessing    filecmp             pathlib             traitlets\n",
      "_opcode             fileinput           pdb                 transformers\n",
      "_operator           filelock            perfmon             tty\n",
      "_osx_support        flask               phik                turtle\n",
      "_overlapped         flask_cors          pickle              turtledemo\n",
      "_pickle             fnmatch             pickletools         types\n",
      "_py_abc             fontTools           pip                 typing\n",
      "_pydatetime         fqdn                pipes               typing_extensions\n",
      "_pydecimal          fractions           pkg_resources       tzdata\n",
      "_pyio               frozenlist          pkgutil             unicodedata\n",
      "_pylong             fsspec              platform            unittest\n",
      "_queue              ftplib              platformdirs        uri_template\n",
      "_random             functools           plistlib            urllib\n",
      "_sha1               functorch           poplib              urllib3\n",
      "_sha2               future              posixpath           uu\n",
      "_sha3               gc                  pprint              uuid\n",
      "_signal             genericpath         profile             vboxapi\n",
      "_sitebuiltins       getopt              prometheus_client   venv\n",
      "_socket             getpass             prompt_toolkit      visions\n",
      "_sqlite3            gettext             propcache           warnings\n",
      "_sre                gevent              pstats              watchdog\n",
      "_ssl                git                 psutil              wave\n",
      "_stat               gitdb               pty                 wcwidth\n",
      "_statistics         glob                pure_eval           weakref\n",
      "_string             graphlib            py_compile          webbrowser\n",
      "_strptime           greenlet            pyarrow             webcolors\n",
      "_struct             gzip                pyclbr              webencodings\n",
      "_symtable           h11                 pycparser           websocket\n",
      "_testbuffer         hashlib             pydantic            werkzeug\n",
      "_testcapi           heapq               pydantic_core       widgetsnbextension\n",
      "_testclinic         hmac                pydeck              win2kras\n",
      "_testconsole        html                pydoc               win32api\n",
      "_testimportmultiple htmlmin             pydoc_data          win32clipboard\n",
      "_testinternalcapi   http                pyexpat             win32com\n",
      "_testmultiphase     httpcore            pygame              win32con\n",
      "_testsinglephase    httpx               pygments            win32console\n",
      "_thread             huggingface_hub     pylab               win32cred\n",
      "_threading_local    idlelib             pyparsing           win32crypt\n",
      "_tkinter            idna                pythoncom           win32cryptcon\n",
      "_tokenize           imagehash           pythonjsonlogger    win32event\n",
      "_tracemalloc        imaplib             pyttsx3             win32evtlog\n",
      "_typing             imghdr              pytz                win32evtlogutil\n",
      "_uuid               importlib           pywin               win32file\n",
      "_warnings           inspect             pywin32_bootstrap   win32gui\n",
      "_weakref            io                  pywin32_testutil    win32gui_struct\n",
      "_weakrefset         ipaddress           pywintypes          win32help\n",
      "_win32sysloader     ipykernel           pywt                win32inet\n",
      "_winapi             ipykernel_launcher  qtconsole           win32inetcon\n",
      "_winxptheme         ipywidgets          qtpy                win32job\n",
      "_wmi                isapi               queue               win32lz\n",
      "_xxinterpchannels   isoduration         quopri              win32net\n",
      "_xxsubinterpreters  isympy              random              win32netcon\n",
      "_yaml               itertools           rasutil             win32pdh\n",
      "_zoneinfo           itsdangerous        re                  win32pdhquery\n",
      "abc                 jedi                referencing         win32pdhutil\n",
      "adodbapi            jinja2              regcheck            win32pipe\n",
      "afxres              jiter               regex               win32print\n",
      "aifc                joblib              regutil             win32process\n",
      "aiohappyeyeballs    json                reprlib             win32profile\n",
      "aiohttp             json5               requests            win32ras\n",
      "aiosignal           jsonpatch           requests_file       win32rcparser\n",
      "altair              jsonpointer         rfc3339_validator   win32security\n",
      "annotated_types     jsonschema          rfc3986_validator   win32service\n",
      "antigravity         jsonschema_specifications rich                win32serviceutil\n",
      "anyio               jupyter             rlcompleter         win32timezone\n",
      "argon2              jupyter_client      rpds                win32trace\n",
      "argparse            jupyter_console     runpy               win32traceutil\n",
      "array               jupyter_core        safetensors         win32transaction\n",
      "arrow               jupyter_events      sched               win32ts\n",
      "ast                 jupyter_lsp         scipy               win32ui\n",
      "asttokens           jupyter_server      seaborn             win32uiole\n",
      "async_lru           jupyter_server_terminals secrets             win32verstamp\n",
      "asyncio             jupyterlab          select              win32wnet\n",
      "atexit              jupyterlab_pygments selectors           winerror\n",
      "attr                jupyterlab_server   send2trash          winioctlcon\n",
      "attrs               jupyterlab_widgets  servicemanager      winnt\n",
      "audioop             keyword             setuptools          winperf\n",
      "babel               kiwisolver          shelve              winpty\n",
      "base64              langchain_core      shlex               winreg\n",
      "bdb                 langchain_openai    shutil              winsound\n",
      "binascii            langsmith           signal              winxpgui\n",
      "bisect              lib2to3             site                winxptheme\n",
      "bleach              libfuturize         six                 wsgiref\n",
      "blinker             libpasteurize       sklearn             xdrlib\n",
      "bs4                 linecache           smmap               xml\n",
      "builtins            locale              smtplib             xmlrpc\n",
      "bz2                 logging             sndhdr              xxsubtype\n",
      "cProfile            lzma                sniffio             yaml\n",
      "cachetools          mailbox             socket              yarl\n",
      "calendar            mailcap             socketserver        zipapp\n",
      "certifi             markdown_it         socks               zipfile\n",
      "cffi                markupsafe          sockshandler        zipimport\n",
      "cgi                 marshal             soupsieve           zlib\n",
      "cgitb               math                sqlite3             zmq\n",
      "charset_normalizer  matplotlib          sre_compile         zoneinfo\n",
      "chunk               matplotlib_inline   sre_constants       \n",
      "click               mdurl               sre_parse           \n",
      "cmath               mimetypes           ssl                 \n",
      "\n",
      "Enter any module name to get more help.  Or, type \"modules spam\" to search\n",
      "for modules whose name or summary contain the string \"spam\".\n",
      "\n"
     ]
    }
   ],
   "source": [
    "help('modules')"
   ]
  },
  {
   "cell_type": "markdown",
   "id": "ff3ac6be-f1af-4a10-99bc-3920254ffbf0",
   "metadata": {},
   "source": [
    "## Strings\n",
    "**Seq. of Chars**\n",
    "\n",
    "In Python: Unicode Chars\n",
    "\n",
    "**Ops:**\n",
    "\n",
    "- Create\n",
    "- Access\n",
    "- Add Chars\n",
    "- Edit -\n",
    "- Delete -\n",
    "- Ops on Strings\n",
    "- String Functions"
   ]
  },
  {
   "cell_type": "code",
   "execution_count": 2,
   "id": "0fba94af-cd51-4e8f-ac04-a1f40f7faad9",
   "metadata": {},
   "outputs": [
    {
     "data": {
      "text/plain": [
       "'Hello World'"
      ]
     },
     "execution_count": 2,
     "metadata": {},
     "output_type": "execute_result"
    }
   ],
   "source": [
    "#3. Add Chars\n",
    "string1 = \"Hello\"\n",
    "string2 = 'World'\n",
    "new_string = string1 + \" \" + string2\n",
    "new_string"
   ]
  },
  {
   "cell_type": "markdown",
   "id": "43f56fdc-dc60-4a9d-ab19-bfaa71dea6ac",
   "metadata": {},
   "source": [
    "# 6. Ops on Strings  \n",
    "\n",
    "- **Arithmetic**: Concatenation (`+`), Repetition (`*`)  \n",
    "- **Relational**: Equality (`==`), Inequality (`!=`), Comparison (`<`, `>`, `<=`, `>=`)  \n",
    "- **Logical**: `and`, `or`, `not`  \n",
    "- **Loops**: `for` loop, `while` loop  \n",
    "- **Membership**: `in`, `not in`"
   ]
  },
  {
   "cell_type": "code",
   "execution_count": 3,
   "id": "7c7669dd-f0a6-4f72-994e-156bce2bfa23",
   "metadata": {},
   "outputs": [
    {
     "name": "stdout",
     "output_type": "stream",
     "text": [
      "**************************************************\n"
     ]
    }
   ],
   "source": [
    "# Arithmetic\n",
    "\"Hello\" + \"-\" + \"World\""
   ]
  },
  {
   "cell_type": "code",
   "execution_count": 5,
   "id": "72d2760b-fe7e-48e7-b71f-ca34dfc06651",
   "metadata": {},
   "outputs": [
    {
     "name": "stdout",
     "output_type": "stream",
     "text": [
      "**************************************************\n",
      "HelloHelloHelloHello\n"
     ]
    }
   ],
   "source": [
    "print(\"*\"*50)\n",
    "print(\"Hello\"*4)"
   ]
  },
  {
   "cell_type": "code",
   "execution_count": 4,
   "id": "651e5acb-d07a-4ffb-ab71-06e7dff59d53",
   "metadata": {},
   "outputs": [
    {
     "data": {
      "text/plain": [
       "False"
      ]
     },
     "execution_count": 4,
     "metadata": {},
     "output_type": "execute_result"
    }
   ],
   "source": [
    "\"kol\" < \"Kol\""
   ]
  },
  {
   "cell_type": "markdown",
   "id": "3af215f9-1466-4a5e-b57e-097f063e6e6d",
   "metadata": {},
   "source": [
    "# 7. String Functions  \n",
    "\n",
    "## 1. Common Functions  \n",
    "\n",
    "- `len()`  \n",
    "- `max()`  \n",
    "- `min()`  \n",
    "- `sorted()`"
   ]
  },
  {
   "cell_type": "code",
   "execution_count": 6,
   "id": "77e2d21d-e4d5-422d-819d-894902fac87d",
   "metadata": {},
   "outputs": [
    {
     "data": {
      "text/plain": [
       "['t', 'o', 'l', 'k', 'k', 'a', 'a']"
      ]
     },
     "execution_count": 6,
     "metadata": {},
     "output_type": "execute_result"
    }
   ],
   "source": [
    "c = 'kolkata'\n",
    "len(c)\n",
    "max(c)\n",
    "min(c)\n",
    "sorted(c)\n",
    "sorted(c, reverse=True)"
   ]
  },
  {
   "cell_type": "markdown",
   "id": "bdf72130-385e-4c0c-abe4-31183ebf77b0",
   "metadata": {},
   "source": [
    "## 2. Capitalize/Title/Upper/Lower/Swapcase"
   ]
  },
  {
   "cell_type": "code",
   "execution_count": 7,
   "id": "301e21a6-0cde-4903-bf63-520aef8ccb72",
   "metadata": {},
   "outputs": [
    {
     "data": {
      "text/plain": [
       "'It Is Raining Today'"
      ]
     },
     "execution_count": 7,
     "metadata": {},
     "output_type": "execute_result"
    }
   ],
   "source": [
    "'it is raining today'.title()"
   ]
  },
  {
   "cell_type": "code",
   "execution_count": 8,
   "id": "279c67a3-2e21-42c6-8ff2-fcaf7f5308ae",
   "metadata": {},
   "outputs": [
    {
     "data": {
      "text/plain": [
       "4"
      ]
     },
     "execution_count": 8,
     "metadata": {},
     "output_type": "execute_result"
    }
   ],
   "source": [
    "# 3. Count\n",
    "\"it is raining\".count(\"i\")"
   ]
  },
  {
   "cell_type": "code",
   "execution_count": 9,
   "id": "4c9c9a10-a3a1-4ec0-934e-250ca05d05dd",
   "metadata": {},
   "outputs": [
    {
     "data": {
      "text/plain": [
       "0"
      ]
     },
     "execution_count": 9,
     "metadata": {},
     "output_type": "execute_result"
    }
   ],
   "source": [
    "# 4. Find/Index\n",
    "\"it is raining\".find(\"i\")"
   ]
  },
  {
   "cell_type": "code",
   "execution_count": 10,
   "id": "414b54d3-d07b-4a4a-87fb-7f5987f572e4",
   "metadata": {},
   "outputs": [
    {
     "data": {
      "text/plain": [
       "True"
      ]
     },
     "execution_count": 10,
     "metadata": {},
     "output_type": "execute_result"
    }
   ],
   "source": [
    "# 5. endswith/startswith\n",
    "\"it is raining\".endswith(\"ing\")"
   ]
  },
  {
   "cell_type": "markdown",
   "id": "bfe66004-2140-40cc-a601-775bd8b06dd1",
   "metadata": {},
   "source": [
    "## 6. format"
   ]
  },
  {
   "cell_type": "code",
   "execution_count": 11,
   "id": "ff75b6a5-a35e-4987-80b2-a23e442fffb6",
   "metadata": {},
   "outputs": [
    {
     "data": {
      "text/plain": [
       "'Hello my name is 20 and I am Adil'"
      ]
     },
     "execution_count": 11,
     "metadata": {},
     "output_type": "execute_result"
    }
   ],
   "source": [
    "\"Hello my name is {1} and I am {0}\".format(\"Adil\", 20)"
   ]
  },
  {
   "cell_type": "code",
   "execution_count": 12,
   "id": "19897c52-2b01-4e02-97f1-cc582849f5cf",
   "metadata": {},
   "outputs": [
    {
     "data": {
      "text/plain": [
       "'Hello my name is 20 and I am Adil'"
      ]
     },
     "execution_count": 12,
     "metadata": {},
     "output_type": "execute_result"
    }
   ],
   "source": [
    "\"Hello my name is {age} and I am {name}\".format(name = \"Adil\", age = 20)"
   ]
  },
  {
   "cell_type": "code",
   "execution_count": 13,
   "id": "631677ef-ddd0-4648-8c32-d2c9586f73ac",
   "metadata": {},
   "outputs": [
    {
     "data": {
      "text/plain": [
       "True"
      ]
     },
     "execution_count": 13,
     "metadata": {},
     "output_type": "execute_result"
    }
   ],
   "source": [
    "# 7. isalnum/isalpha/isdecimal/isdigit/isidentifier\n",
    "\"20\".isdigit()"
   ]
  },
  {
   "cell_type": "code",
   "execution_count": 14,
   "id": "d3aa6ad7-baab-4fa1-9e68-5ac33f45c775",
   "metadata": {},
   "outputs": [
    {
     "data": {
      "text/plain": [
       "False"
      ]
     },
     "execution_count": 14,
     "metadata": {},
     "output_type": "execute_result"
    }
   ],
   "source": [
    "\"FLAT20&\".isalnum()"
   ]
  },
  {
   "cell_type": "code",
   "execution_count": 15,
   "id": "ce84e634-220c-4260-af5d-052a0df90a84",
   "metadata": {},
   "outputs": [
    {
     "data": {
      "text/plain": [
       "['who', 'is', 'the', 'pm', 'of', 'india']"
      ]
     },
     "execution_count": 15,
     "metadata": {},
     "output_type": "execute_result"
    }
   ],
   "source": [
    "#8. Split\n",
    "\"who is the pm of india\".split()"
   ]
  },
  {
   "cell_type": "code",
   "execution_count": 16,
   "id": "0c63ab15-837f-4608-93b3-5027168c7390",
   "metadata": {},
   "outputs": [
    {
     "data": {
      "text/plain": [
       "'who-is-the-pm-of-india'"
      ]
     },
     "execution_count": 16,
     "metadata": {},
     "output_type": "execute_result"
    }
   ],
   "source": [
    "# 9. Join\n",
    "\"-\".join(['who', 'is', 'the', 'pm', 'of', 'india'])"
   ]
  },
  {
   "cell_type": "code",
   "execution_count": 17,
   "id": "36140c3d-276b-4fa8-b514-257148149007",
   "metadata": {},
   "outputs": [
    {
     "data": {
      "text/plain": [
       "'Hi my name is Siddhant'"
      ]
     },
     "execution_count": 17,
     "metadata": {},
     "output_type": "execute_result"
    }
   ],
   "source": [
    "# 10. Replace\n",
    "\"Hi my name is Saurabh\".replace(\"Saurabh\", \"Siddhant\")"
   ]
  },
  {
   "cell_type": "code",
   "execution_count": 19,
   "id": "69048673-c6c4-4a67-bad7-db1e0e894494",
   "metadata": {},
   "outputs": [
    {
     "data": {
      "text/plain": [
       "'Adil'"
      ]
     },
     "execution_count": 19,
     "metadata": {},
     "output_type": "execute_result"
    }
   ],
   "source": [
    "#11. Strip\n",
    "name = \"          Adil           \"\n",
    "name.strip()"
   ]
  },
  {
   "cell_type": "code",
   "execution_count": null,
   "id": "65a09b09-8155-4a7f-804d-ac57fa5adac9",
   "metadata": {},
   "outputs": [],
   "source": []
  },
  {
   "cell_type": "markdown",
   "id": "4374aea0-1c33-4e82-9ca5-63a1151b4b3d",
   "metadata": {},
   "source": [
    "# List  \n",
    "\n",
    "Collection in Python for sequences of diverse data types.  \n",
    "\n",
    "## List vs Array  \n",
    "\n",
    "- **Array**: Homogeneous; Contiguous memory; Fast; Numerical/Scientific use.  \n",
    "- **List**: Heterogeneous; Non-contiguous memory; Programmer-friendly; General-purpose.  \n",
    "\n",
    "1. Create  \n",
    "2. Access  \n",
    "3. Edit  \n",
    "4. Add  \n",
    "5. Delete  \n",
    "6. Operations  \n",
    "7. Functions  \n",
    "\n",
    "## Arrays vs. Lists in Memory  \n",
    "\n",
    "- **Arrays**:  \n",
    "  ```python  \n",
    "   int arr[50];  ---> 50 contiguous memory blocks.\n",
    "   Elements stored in binary form at consecutive addresses.\n",
    "\n",
    "- **Lists**:\n",
    "\n",
    "  \n",
    "    list_example = [1, 2, 3];  -->  Elements at different locations.\n",
    "\n",
    "  \n",
    "    Stores references/pointers to elements, not the values."
   ]
  },
  {
   "cell_type": "code",
   "execution_count": 1,
   "id": "3bb43b1a-4c94-4459-8810-360778ff8b73",
   "metadata": {},
   "outputs": [
    {
     "name": "stdout",
     "output_type": "stream",
     "text": [
      "2249646397248\n",
      "140706369759672\n",
      "140706369759704\n",
      "140706369759736\n",
      "140706369759672\n",
      "140706369759704\n",
      "140706369759736\n"
     ]
    }
   ],
   "source": [
    "# proof --->\n",
    "L = [1, 2, 3]\n",
    "print(id(L))\n",
    "print(id(L[0]))\n",
    "print(id(L[1]))\n",
    "print(id(L[2]))\n",
    "print(id(1))\n",
    "print(id(2))\n",
    "print(id(3))"
   ]
  },
  {
   "cell_type": "markdown",
   "id": "85ea7935-0016-46eb-afef-18456a388756",
   "metadata": {},
   "source": [
    "# List Characteristics  \n",
    "\n",
    "- Ordered  \n",
    "- Mutable  \n",
    "- Heterogeneous  \n",
    "- Duplicates allowed  \n",
    "- Dynamic size  \n",
    "- Nesting supported  \n",
    "- Indexable  \n",
    "- Any object type  \n",
    "\n",
    "## 1. Create"
   ]
  },
  {
   "cell_type": "code",
   "execution_count": 2,
   "id": "1f4efbff-2482-4da9-a2df-728719891315",
   "metadata": {},
   "outputs": [
    {
     "data": {
      "text/plain": [
       "['Hello', 4, 5, 6, True, (5+6j)]"
      ]
     },
     "execution_count": 2,
     "metadata": {},
     "output_type": "execute_result"
    }
   ],
   "source": [
    "# Hetrogenous\n",
    "L2 = [\"Hello\", 4, 5, 6, True, 5+6j]\n",
    "L2"
   ]
  },
  {
   "cell_type": "code",
   "execution_count": 3,
   "id": "9d27fff3-88cb-443d-b470-159f795f7f78",
   "metadata": {},
   "outputs": [
    {
     "data": {
      "text/plain": [
       "[1, 2, 3, [4, 5]]"
      ]
     },
     "execution_count": 3,
     "metadata": {},
     "output_type": "execute_result"
    }
   ],
   "source": [
    "# Multidimentional list:\n",
    "# 2D\n",
    "L3 = [1, 2, 3, [4, 5]]\n",
    "L3"
   ]
  },
  {
   "cell_type": "code",
   "execution_count": 4,
   "id": "32fc7097-7af7-4ba2-b530-3c40ecfbe942",
   "metadata": {},
   "outputs": [
    {
     "data": {
      "text/plain": [
       "[[[1, 2], [3, 4]], [[5, 6], [7, 8]]]"
      ]
     },
     "execution_count": 4,
     "metadata": {},
     "output_type": "execute_result"
    }
   ],
   "source": [
    "# 3D\n",
    "L4 = [[[1, 2], [3, 4]], [[5, 6], [7, 8]]]\n",
    "L4"
   ]
  },
  {
   "cell_type": "code",
   "execution_count": 5,
   "id": "02e37453-f3ab-4a48-801f-31fc6f050f86",
   "metadata": {},
   "outputs": [
    {
     "data": {
      "text/plain": [
       "[5, 4, 3, 2, 1]"
      ]
     },
     "execution_count": 5,
     "metadata": {},
     "output_type": "execute_result"
    }
   ],
   "source": [
    "# 2. Access\n",
    "L1 = [1, 2, 3, 4, 5]\n",
    "L1[::-1]"
   ]
  },
  {
   "cell_type": "code",
   "execution_count": 7,
   "id": "90b1d776-90a9-417e-afb5-52cba3a1a624",
   "metadata": {},
   "outputs": [
    {
     "data": {
      "text/plain": [
       "[1, 200, 300, 400, 5]"
      ]
     },
     "execution_count": 7,
     "metadata": {},
     "output_type": "execute_result"
    }
   ],
   "source": [
    "# 3. Edit\n",
    "# Editing With Slicing\n",
    "L1[1:4] = [200, 300, 400]\n",
    "L1"
   ]
  },
  {
   "cell_type": "markdown",
   "id": "204f1ebf-dbef-4b6f-bfce-2c45db4ad492",
   "metadata": {},
   "source": [
    "## 4. Add\n",
    "`append()`\n",
    "`extend()`\n",
    "`insert()`"
   ]
  },
  {
   "cell_type": "code",
   "execution_count": 8,
   "id": "dbf69638-d74d-437d-be74-88b9557de240",
   "metadata": {},
   "outputs": [
    {
     "data": {
      "text/plain": [
       "[1, 200, 300, 400, 5, 'hello']"
      ]
     },
     "execution_count": 8,
     "metadata": {},
     "output_type": "execute_result"
    }
   ],
   "source": [
    "L1.append(\"hello\")\n",
    "L1"
   ]
  },
  {
   "cell_type": "code",
   "execution_count": 9,
   "id": "110516e4-59ee-4c70-9831-3182bf751a70",
   "metadata": {},
   "outputs": [
    {
     "data": {
      "text/plain": [
       "[1, 200, 300, 400, 5, 'hello', 5000, 6000, 7000]"
      ]
     },
     "execution_count": 9,
     "metadata": {},
     "output_type": "execute_result"
    }
   ],
   "source": [
    "L1.extend([5000, 6000, 7000])\n",
    "L1"
   ]
  },
  {
   "cell_type": "code",
   "execution_count": 10,
   "id": "f3c781f4-be41-455d-9ee7-7624fc72ab09",
   "metadata": {},
   "outputs": [
    {
     "data": {
      "text/plain": [
       "[1, 'world', 200, 300, 400, 5, 'hello', 5000, 6000, 7000]"
      ]
     },
     "execution_count": 10,
     "metadata": {},
     "output_type": "execute_result"
    }
   ],
   "source": [
    "L1.insert(1, \"world\")\n",
    "L1"
   ]
  },
  {
   "cell_type": "markdown",
   "id": "5e8a387d-0433-4eea-b25c-59d6c35c4440",
   "metadata": {},
   "source": [
    "## 5. Delete\n",
    "`del`\n",
    "`remove()`\n",
    "`pop()`\n",
    "`clear()`"
   ]
  },
  {
   "cell_type": "code",
   "execution_count": 11,
   "id": "0981a5d6-e0f2-4dcf-b30b-5fa41f26acb3",
   "metadata": {},
   "outputs": [
    {
     "ename": "NameError",
     "evalue": "name 'L2' is not defined",
     "output_type": "error",
     "traceback": [
      "\u001b[1;31m---------------------------------------------------------------------------\u001b[0m",
      "\u001b[1;31mNameError\u001b[0m                                 Traceback (most recent call last)",
      "Cell \u001b[1;32mIn[11], line 3\u001b[0m\n\u001b[0;32m      1\u001b[0m L2 \u001b[38;5;241m=\u001b[39m [\u001b[38;5;241m1\u001b[39m,\u001b[38;5;241m2\u001b[39m,\u001b[38;5;241m34\u001b[39m]\n\u001b[0;32m      2\u001b[0m \u001b[38;5;28;01mdel\u001b[39;00m L2\n\u001b[1;32m----> 3\u001b[0m \u001b[43mL2\u001b[49m\n",
      "\u001b[1;31mNameError\u001b[0m: name 'L2' is not defined"
     ]
    }
   ],
   "source": [
    "L2 = [1,2,34]\n",
    "del L2\n",
    "L2"
   ]
  },
  {
   "cell_type": "code",
   "execution_count": 12,
   "id": "1dde67cd-667c-4e05-95f1-f1c1b9a653d8",
   "metadata": {},
   "outputs": [
    {
     "data": {
      "text/plain": [
       "[1, 'world', 200, 300, 400, 5, 5000, 6000, 7000]"
      ]
     },
     "execution_count": 12,
     "metadata": {},
     "output_type": "execute_result"
    }
   ],
   "source": [
    "L1.remove(\"hello\")\n",
    "L1"
   ]
  },
  {
   "cell_type": "code",
   "execution_count": 13,
   "id": "907aeabc-d8b0-4fe4-b33b-f727902c0293",
   "metadata": {},
   "outputs": [
    {
     "data": {
      "text/plain": [
       "[1, 'world', 200, 300, 400, 5, 5000, 6000]"
      ]
     },
     "execution_count": 13,
     "metadata": {},
     "output_type": "execute_result"
    }
   ],
   "source": [
    "L1.pop()\n",
    "L1"
   ]
  },
  {
   "cell_type": "code",
   "execution_count": 15,
   "id": "dd7eb49a-6533-4dd3-b341-4aa0a1ddbce8",
   "metadata": {},
   "outputs": [
    {
     "data": {
      "text/plain": [
       "[]"
      ]
     },
     "execution_count": 15,
     "metadata": {},
     "output_type": "execute_result"
    }
   ],
   "source": [
    "L0 = [1,2,34,]\n",
    "L0.clear()\n",
    "L0"
   ]
  },
  {
   "cell_type": "markdown",
   "id": "b7e0b558-7127-4580-accb-349b86a6108a",
   "metadata": {},
   "source": [
    "## 6. Operations\n",
    "`Arithmetic`\n",
    "`Membership`\n",
    "`Loop`"
   ]
  },
  {
   "cell_type": "code",
   "execution_count": 16,
   "id": "40ed513d-e2f3-4f8e-8089-2262f5fae970",
   "metadata": {},
   "outputs": [
    {
     "data": {
      "text/plain": [
       "[1, 2, 3, 4, 5, 6, 7, 8]"
      ]
     },
     "execution_count": 16,
     "metadata": {},
     "output_type": "execute_result"
    }
   ],
   "source": [
    "L = [1, 2, 3, 4]\n",
    "L1 = [5, 6, 7, 8]\n",
    "# Concatenation/Merge\n",
    "L + L1"
   ]
  },
  {
   "cell_type": "code",
   "execution_count": 17,
   "id": "72ecd478-d524-4c5f-ac33-f63be44741d6",
   "metadata": {},
   "outputs": [
    {
     "data": {
      "text/plain": [
       "[1, 2, 3, 4, 1, 2, 3, 4, 1, 2, 3, 4]"
      ]
     },
     "execution_count": 17,
     "metadata": {},
     "output_type": "execute_result"
    }
   ],
   "source": [
    "L * 3"
   ]
  },
  {
   "cell_type": "code",
   "execution_count": 18,
   "id": "76f8305f-dc25-48ae-bbe3-efb87798c181",
   "metadata": {},
   "outputs": [
    {
     "data": {
      "text/plain": [
       "False"
      ]
     },
     "execution_count": 18,
     "metadata": {},
     "output_type": "execute_result"
    }
   ],
   "source": [
    "L3 = [1, 2, 3, [4, 5]]\n",
    "4 in L3"
   ]
  },
  {
   "cell_type": "markdown",
   "id": "17a2742d-bdd5-44c3-a936-9adc5bdc3667",
   "metadata": {},
   "source": [
    "## 7. Functions\n",
    "`len()`\n",
    "`min()`\n",
    "`max()`\n",
    "`sorted()`"
   ]
  },
  {
   "cell_type": "code",
   "execution_count": 96,
   "id": "bad4bcf4-9ffd-4027-9cdc-e2efdc82d6ec",
   "metadata": {},
   "outputs": [
    {
     "data": {
      "text/plain": [
       "4"
      ]
     },
     "execution_count": 96,
     "metadata": {},
     "output_type": "execute_result"
    }
   ],
   "source": [
    "L = [1, 2, 3, 4]\n",
    "len(L)"
   ]
  },
  {
   "cell_type": "code",
   "execution_count": 97,
   "id": "e1e7e0cc-3966-4083-ac1e-a8ad0e38cc0c",
   "metadata": {},
   "outputs": [
    {
     "data": {
      "text/plain": [
       "1"
      ]
     },
     "execution_count": 97,
     "metadata": {},
     "output_type": "execute_result"
    }
   ],
   "source": [
    "min(L)"
   ]
  },
  {
   "cell_type": "code",
   "execution_count": 98,
   "id": "031298b9-ce12-4f6d-8406-e402b9becbc5",
   "metadata": {},
   "outputs": [
    {
     "data": {
      "text/plain": [
       "4"
      ]
     },
     "execution_count": 98,
     "metadata": {},
     "output_type": "execute_result"
    }
   ],
   "source": [
    "max(L)"
   ]
  },
  {
   "cell_type": "code",
   "execution_count": 99,
   "id": "c782d342-e471-4d48-adc5-b70a7d6d0876",
   "metadata": {},
   "outputs": [
    {
     "data": {
      "text/plain": [
       "[1, 2, 3, 4]"
      ]
     },
     "execution_count": 99,
     "metadata": {},
     "output_type": "execute_result"
    }
   ],
   "source": [
    "sorted(L)"
   ]
  },
  {
   "cell_type": "code",
   "execution_count": 100,
   "id": "b41ebd91-1f72-4598-b9c4-8d601ba10cca",
   "metadata": {},
   "outputs": [
    {
     "data": {
      "text/plain": [
       "[4, 3, 2, 1]"
      ]
     },
     "execution_count": 100,
     "metadata": {},
     "output_type": "execute_result"
    }
   ],
   "source": [
    "sorted(L, reverse = True)"
   ]
  },
  {
   "cell_type": "code",
   "execution_count": null,
   "id": "0e0f45c3-7c48-493b-841a-27742de0df09",
   "metadata": {},
   "outputs": [],
   "source": []
  },
  {
   "cell_type": "code",
   "execution_count": null,
   "id": "be1296e8-dbb4-45e9-b77a-f428e13a2bf4",
   "metadata": {},
   "outputs": [],
   "source": []
  },
  {
   "cell_type": "code",
   "execution_count": null,
   "id": "0d6c7ad2-ed1a-42d2-9fbf-e221d4a4db19",
   "metadata": {},
   "outputs": [],
   "source": []
  },
  {
   "cell_type": "code",
   "execution_count": 78,
   "id": "54fff619-11b9-4f30-8b4c-aaf16d77aad4",
   "metadata": {},
   "outputs": [],
   "source": [
    "sample = \"today has been great for me\"\n",
    "X = sample.split()"
   ]
  },
  {
   "cell_type": "code",
   "execution_count": 79,
   "id": "4f5da51b-023a-4999-9812-1e820eee948e",
   "metadata": {},
   "outputs": [
    {
     "data": {
      "text/plain": [
       "['today', 'has', 'been', 'great', 'for', 'me']"
      ]
     },
     "execution_count": 79,
     "metadata": {},
     "output_type": "execute_result"
    }
   ],
   "source": [
    "X"
   ]
  },
  {
   "cell_type": "code",
   "execution_count": 80,
   "id": "c9582eb5-8046-491d-8f4e-033fff0f2927",
   "metadata": {},
   "outputs": [
    {
     "data": {
      "text/plain": [
       "'TODAY HAS BEEN GREAT FOR ME'"
      ]
     },
     "execution_count": 80,
     "metadata": {},
     "output_type": "execute_result"
    }
   ],
   "source": [
    "sample.upper()"
   ]
  },
  {
   "cell_type": "code",
   "execution_count": 81,
   "id": "93eb895f-0504-4e7e-8216-e8fc5c2e7652",
   "metadata": {},
   "outputs": [
    {
     "data": {
      "text/plain": [
       "'B'"
      ]
     },
     "execution_count": 81,
     "metadata": {},
     "output_type": "execute_result"
    }
   ],
   "source": [
    "X[2][0].upper()"
   ]
  },
  {
   "cell_type": "code",
   "execution_count": 82,
   "id": "f70bf3ba-4d77-4f9e-9cb9-d9e375760ede",
   "metadata": {},
   "outputs": [
    {
     "name": "stdout",
     "output_type": "stream",
     "text": [
      "Today\n",
      "Has\n",
      "Been\n",
      "Great\n",
      "For\n",
      "Me\n",
      "['Today', 'Has', 'Been', 'Great', 'For', 'Me']\n"
     ]
    },
    {
     "data": {
      "text/plain": [
       "'Today Has Been Great For Me'"
      ]
     },
     "execution_count": 82,
     "metadata": {},
     "output_type": "execute_result"
    }
   ],
   "source": [
    "L = []\n",
    "for i in range(len(X)):\n",
    "    print(X[i][0].upper() + X[i][1:])\n",
    "    L.append(X[i][0].upper() + X[i][1:])\n",
    "print(L)\n",
    "\" \".join(L)"
   ]
  },
  {
   "cell_type": "code",
   "execution_count": 62,
   "id": "e9b1abe0-f00b-473b-adf8-27cfadad222a",
   "metadata": {},
   "outputs": [
    {
     "name": "stdout",
     "output_type": "stream",
     "text": [
      "How\n",
      "Are\n",
      "You?\n",
      "['How', 'Are', 'You?']\n"
     ]
    },
    {
     "data": {
      "text/plain": [
       "'How Are You?'"
      ]
     },
     "execution_count": 62,
     "metadata": {},
     "output_type": "execute_result"
    }
   ],
   "source": [
    "sample = \"how are you?\"\n",
    "sample.split()\n",
    "L=[]\n",
    "for i in sample.split():\n",
    "    print(i.capitalize())\n",
    "    L.append(i.capitalize())\n",
    "print(L)\n",
    "\" \".join(L)"
   ]
  },
  {
   "cell_type": "code",
   "execution_count": 83,
   "id": "38af9111-9aa4-4912-91bb-3b94cdef552f",
   "metadata": {},
   "outputs": [
    {
     "name": "stdin",
     "output_type": "stream",
     "text": [
      "emai; adil@gmail.com\n"
     ]
    },
    {
     "name": "stdout",
     "output_type": "stream",
     "text": [
      "adil\n"
     ]
    }
   ],
   "source": [
    "N = input('emai;')\n",
    "print(N[:N.find('@')])"
   ]
  },
  {
   "cell_type": "code",
   "execution_count": 87,
   "id": "b8052c64-a153-48be-98e9-43d5a017a0a9",
   "metadata": {},
   "outputs": [],
   "source": [
    "l = [1,1,2,3,3,4,5,5]\n",
    "x = set(l)"
   ]
  },
  {
   "cell_type": "code",
   "execution_count": 88,
   "id": "fac18b72-d207-4106-bc13-7b5f2826fb95",
   "metadata": {},
   "outputs": [
    {
     "data": {
      "text/plain": [
       "{1, 2, 3, 4, 5}"
      ]
     },
     "execution_count": 88,
     "metadata": {},
     "output_type": "execute_result"
    }
   ],
   "source": [
    "x"
   ]
  },
  {
   "cell_type": "code",
   "execution_count": 90,
   "id": "313791eb-cf3e-453b-8425-a4c7d058492e",
   "metadata": {},
   "outputs": [
    {
     "name": "stdout",
     "output_type": "stream",
     "text": [
      "[1, 2, 3, 4, 5]\n"
     ]
    }
   ],
   "source": [
    "l1 = []\n",
    "for i in l:\n",
    "    if i not in l1:\n",
    "        l1.append(i)\n",
    "\n",
    "print(l1)"
   ]
  },
  {
   "cell_type": "code",
   "execution_count": null,
   "id": "6c61dacc-be35-44c0-8915-a17d2c38e480",
   "metadata": {},
   "outputs": [],
   "source": []
  },
  {
   "cell_type": "code",
   "execution_count": null,
   "id": "4ea91726-3017-4635-be99-87a8123241b9",
   "metadata": {},
   "outputs": [],
   "source": []
  },
  {
   "cell_type": "code",
   "execution_count": null,
   "id": "1da37330-1bd3-4b5a-940f-9732e2952650",
   "metadata": {},
   "outputs": [],
   "source": []
  },
  {
   "cell_type": "code",
   "execution_count": null,
   "id": "81170db7-00d5-40f7-b898-a34084c98357",
   "metadata": {},
   "outputs": [],
   "source": []
  },
  {
   "cell_type": "markdown",
   "id": "13dc4b46-551e-46c7-8413-b954314a27dc",
   "metadata": {},
   "source": [
    "# Lists vs Tuples  \n",
    "\n",
    "## Syntax:  \n",
    "- **Lists:** `[]`  \n",
    "- **Tuples:** `()`  \n",
    "\n",
    "## Mutability:  \n",
    "- **Lists:** Mutable  \n",
    "- **Tuples:** Immutable  \n",
    "\n",
    "## Speed:  \n",
    "- **Lists:** Slower (mutable)  \n",
    "- **Tuples:** Faster (immutable)  \n",
    "\n",
    "## Memory:  \n",
    "- **Lists:** Higher  \n",
    "- **Tuples:** Lower  \n",
    "\n",
    "## Functionality:  \n",
    "- **Both:** Indexing, slicing  \n",
    "- **Lists:** More methods  \n",
    "\n",
    "## Error-Prone:  \n",
    "- **Lists:** Modifiable  \n",
    "- **Tuples:** Safer  \n",
    "\n",
    "## Use Case:  \n",
    "- **Lists:** Dynamic  \n",
    "- **Tuples:** Static"
   ]
  },
  {
   "cell_type": "code",
   "execution_count": 1,
   "id": "eaaca6ea-7e9b-40c1-ad27-e03aff801739",
   "metadata": {},
   "outputs": [
    {
     "name": "stdout",
     "output_type": "stream",
     "text": [
      "List time 5.545087814331055\n",
      "Tuple time 5.59135365486145\n"
     ]
    }
   ],
   "source": [
    "import time \n",
    "L = list(range(100000000))\n",
    "T = tuple(range(100000000))\n",
    "\n",
    "# List timing\n",
    "start = time.time()\n",
    "for i in L:\n",
    "  i*5\n",
    "print('List time', time.time()-start)\n",
    "\n",
    "# Tuple timing\n",
    "start = time.time()\n",
    "for i in T:\n",
    "  i*5\n",
    "print('Tuple time', time.time()-start)"
   ]
  },
  {
   "cell_type": "code",
   "execution_count": 2,
   "id": "e68b7c74-5d3b-4bd0-bada-7266646905c4",
   "metadata": {},
   "outputs": [
    {
     "name": "stdout",
     "output_type": "stream",
     "text": [
      "List size 8056\n",
      "Tuple size 8040\n"
     ]
    }
   ],
   "source": [
    "import sys\n",
    "L = list(range(1000))\n",
    "T = tuple(range(1000))\n",
    "print('List size', sys.getsizeof(L))\n",
    "print('Tuple size', sys.getsizeof(T))"
   ]
  },
  {
   "cell_type": "code",
   "execution_count": 3,
   "id": "d2bc67d8-d349-4030-960d-de56df06e5fa",
   "metadata": {},
   "outputs": [
    {
     "name": "stdout",
     "output_type": "stream",
     "text": [
      "[1, 2, 3, 4]\n",
      "[1, 2, 3, 4]\n"
     ]
    }
   ],
   "source": [
    "a = [1, 2, 3]\n",
    "b = a\n",
    "a.append(4)\n",
    "print(a)\n",
    "print(b)"
   ]
  },
  {
   "cell_type": "code",
   "execution_count": 4,
   "id": "5b21d386-fbaa-4a7f-a5af-7686fed8c626",
   "metadata": {},
   "outputs": [
    {
     "name": "stdout",
     "output_type": "stream",
     "text": [
      "(1, 2, 3, 4)\n",
      "(1, 2, 3)\n"
     ]
    }
   ],
   "source": [
    "a = (1, 2, 3)\n",
    "b = a\n",
    "a = a + (4,)\n",
    "print(a)\n",
    "print(b)"
   ]
  },
  {
   "cell_type": "markdown",
   "id": "3ad35b39-068d-4680-8336-b38afe2b52b2",
   "metadata": {},
   "source": [
    "### Q. Why use Tuples?\n",
    "- Immutable; prevents changes.\n",
    "- Ensures data integrity.\n",
    "- Use for fixed collections.\n",
    "- Example:\n",
    "\n",
    "  ```python\n",
    "  college_database = ('CS', 'Math', 'Physics')\n",
    "  # college_database[0] = 'Electronics'  # TypeError\n",
    "  ```\n",
    "- Use for static data; lists for mutable.\n",
    "  "
   ]
  },
  {
   "cell_type": "markdown",
   "id": "72792511-1eec-4fe3-bcc0-9d32b9e1fff0",
   "metadata": {},
   "source": [
    "### Special Syntax"
   ]
  },
  {
   "cell_type": "code",
   "execution_count": 5,
   "id": "e4ec6213-78a0-44a7-b34b-0289adde8b32",
   "metadata": {},
   "outputs": [
    {
     "name": "stdout",
     "output_type": "stream",
     "text": [
      "1 2 3\n"
     ]
    }
   ],
   "source": [
    "# tuple unpacking\n",
    "a, b, c = (1, 2, 3)\n",
    "print(a, b, c)"
   ]
  },
  {
   "cell_type": "code",
   "execution_count": 6,
   "id": "6e435a54-cfa2-4a8d-a555-6e2b29f7682f",
   "metadata": {},
   "outputs": [
    {
     "ename": "ValueError",
     "evalue": "too many values to unpack (expected 2)",
     "output_type": "error",
     "traceback": [
      "\u001b[1;31m---------------------------------------------------------------------------\u001b[0m",
      "\u001b[1;31mValueError\u001b[0m                                Traceback (most recent call last)",
      "Cell \u001b[1;32mIn[6], line 1\u001b[0m\n\u001b[1;32m----> 1\u001b[0m a, b \u001b[38;5;241m=\u001b[39m (\u001b[38;5;241m1\u001b[39m, \u001b[38;5;241m2\u001b[39m, \u001b[38;5;241m3\u001b[39m)\n\u001b[0;32m      2\u001b[0m \u001b[38;5;28mprint\u001b[39m(a, b)\n",
      "\u001b[1;31mValueError\u001b[0m: too many values to unpack (expected 2)"
     ]
    }
   ],
   "source": [
    "a, b = (1, 2, 3)\n",
    "print(a, b)"
   ]
  },
  {
   "cell_type": "code",
   "execution_count": 7,
   "id": "f507275c-87f5-46af-88ef-2b5c1ddbeda6",
   "metadata": {},
   "outputs": [
    {
     "name": "stdout",
     "output_type": "stream",
     "text": [
      "2 1\n"
     ]
    }
   ],
   "source": [
    "a = 1\n",
    "b = 2\n",
    "a, b = b, a\n",
    "print(a, b)"
   ]
  },
  {
   "cell_type": "code",
   "execution_count": 8,
   "id": "ef1442d2-4483-4ca6-9902-5d19b9f6ac7b",
   "metadata": {},
   "outputs": [
    {
     "name": "stdout",
     "output_type": "stream",
     "text": [
      "1 2\n",
      "[3, 4]\n"
     ]
    }
   ],
   "source": [
    "a, b, *others = (1, 2, 3, 4)\n",
    "print(a, b)\n",
    "print(others)"
   ]
  },
  {
   "cell_type": "code",
   "execution_count": 9,
   "id": "10e40464-e0e9-4fdb-8c75-fc736ba7c30d",
   "metadata": {},
   "outputs": [
    {
     "data": {
      "text/plain": [
       "((1, 5), (2, 6), (3, 7), (4, 8))"
      ]
     },
     "execution_count": 9,
     "metadata": {},
     "output_type": "execute_result"
    }
   ],
   "source": [
    "# zipping tuples\n",
    "a = (1, 2, 3, 4)\n",
    "b = (5, 6, 7, 8)\n",
    "tuple(zip(a, b))"
   ]
  },
  {
   "cell_type": "markdown",
   "id": "2ee70587-bc72-4a59-b247-a0e202835fc3",
   "metadata": {},
   "source": [
    "# Sets  \n",
    "\n",
    "Unordered, unique elements.  \n",
    "\n",
    "Set is mutable; elements are immutable.  \n",
    "\n",
    "**Operations:** Union, intersection, symmetric difference, etc.  \n",
    "\n",
    "## Characteristics:  \n",
    "\n",
    "- Unordered  \n",
    "- Mutable  \n",
    "- Unique Elements  \n",
    "- No Mutable Data Types  \n",
    "\n",
    "## Important Rules about Sets  \n",
    "\n",
    "- No Duplicates  \n",
    "- No Indexing/Slicing  \n",
    "- No Mutable Elements  \n",
    "- Set is Mutable"
   ]
  },
  {
   "cell_type": "code",
   "execution_count": 10,
   "id": "1ee2a36a-46f0-4452-a974-4f1c5b2e7818",
   "metadata": {},
   "outputs": [
    {
     "data": {
      "text/plain": [
       "{1, 2, 3, 4, 5}"
      ]
     },
     "execution_count": 10,
     "metadata": {},
     "output_type": "execute_result"
    }
   ],
   "source": [
    "# 1D & 2D Sets\n",
    "S1 = {1, 2, 3, 4, 5} # 1D Set\n",
    "S1\n",
    "# S2 = {1, 2, 3, {4, 5}} # 2D Set\n",
    "# S2"
   ]
  },
  {
   "cell_type": "code",
   "execution_count": 11,
   "id": "5a592eec-cc75-4260-9249-6da6ff128e9f",
   "metadata": {},
   "outputs": [
    {
     "data": {
      "text/plain": [
       "{4.5, 'Hello', True}"
      ]
     },
     "execution_count": 11,
     "metadata": {},
     "output_type": "execute_result"
    }
   ],
   "source": [
    "# homo and hetro\n",
    "S2 = {\"Hello\", 4.5, True}\n",
    "S2"
   ]
  },
  {
   "cell_type": "code",
   "execution_count": 12,
   "id": "55eaf092-67c7-4a15-a296-f91b50ec74e8",
   "metadata": {},
   "outputs": [
    {
     "name": "stdout",
     "output_type": "stream",
     "text": [
      "{1, 2, 3}\n"
     ]
    }
   ],
   "source": [
    "# Type Conversion\n",
    "s4 = set([1, 2, 3])\n",
    "print(s4)"
   ]
  },
  {
   "cell_type": "code",
   "execution_count": 13,
   "id": "006af59e-49b6-4840-b638-b565b3adc428",
   "metadata": {},
   "outputs": [
    {
     "data": {
      "text/plain": [
       "{1, 2, 3}"
      ]
     },
     "execution_count": 13,
     "metadata": {},
     "output_type": "execute_result"
    }
   ],
   "source": [
    "# duplicates not allowed\n",
    "S3 = {1, 1, 2, 2, 3, 3}\n",
    "S3"
   ]
  },
  {
   "cell_type": "code",
   "execution_count": 14,
   "id": "d330ee45-9bee-41b8-8868-e00d0112dbb4",
   "metadata": {},
   "outputs": [
    {
     "ename": "TypeError",
     "evalue": "unhashable type: 'list'",
     "output_type": "error",
     "traceback": [
      "\u001b[1;31m---------------------------------------------------------------------------\u001b[0m",
      "\u001b[1;31mTypeError\u001b[0m                                 Traceback (most recent call last)",
      "Cell \u001b[1;32mIn[14], line 1\u001b[0m\n\u001b[1;32m----> 1\u001b[0m S4 \u001b[38;5;241m=\u001b[39m {[\u001b[38;5;241m1\u001b[39m, \u001b[38;5;241m2\u001b[39m, \u001b[38;5;241m3\u001b[39m], \u001b[38;5;124m\"\u001b[39m\u001b[38;5;124mHello\u001b[39m\u001b[38;5;124m\"\u001b[39m}\n\u001b[0;32m      2\u001b[0m S4\n",
      "\u001b[1;31mTypeError\u001b[0m: unhashable type: 'list'"
     ]
    }
   ],
   "source": [
    "S4 = {[1, 2, 3], \"Hello\"}\n",
    "S4"
   ]
  },
  {
   "cell_type": "code",
   "execution_count": 15,
   "id": "6a81196e-14ef-455c-a1f3-d6adbecce936",
   "metadata": {},
   "outputs": [
    {
     "data": {
      "text/plain": [
       "{(1, 2, 3), 'Hello'}"
      ]
     },
     "execution_count": 15,
     "metadata": {},
     "output_type": "execute_result"
    }
   ],
   "source": [
    "S4 = {(1, 2, 3), \"Hello\"}\n",
    "S4"
   ]
  },
  {
   "cell_type": "code",
   "execution_count": 17,
   "id": "1c28121e-ce7f-4d2a-b0e6-6e80c4cedccb",
   "metadata": {},
   "outputs": [
    {
     "ename": "TypeError",
     "evalue": "unhashable type: 'list'",
     "output_type": "error",
     "traceback": [
      "\u001b[1;31m---------------------------------------------------------------------------\u001b[0m",
      "\u001b[1;31mTypeError\u001b[0m                                 Traceback (most recent call last)",
      "Cell \u001b[1;32mIn[17], line 2\u001b[0m\n\u001b[0;32m      1\u001b[0m \u001b[38;5;66;03m# set can't have mutable items\u001b[39;00m\n\u001b[1;32m----> 2\u001b[0m s6 \u001b[38;5;241m=\u001b[39m {\u001b[38;5;241m1\u001b[39m, \u001b[38;5;241m2\u001b[39m, [\u001b[38;5;241m3\u001b[39m, \u001b[38;5;241m4\u001b[39m]}\n\u001b[0;32m      3\u001b[0m \u001b[38;5;28mprint\u001b[39m(s6)\n",
      "\u001b[1;31mTypeError\u001b[0m: unhashable type: 'list'"
     ]
    }
   ],
   "source": [
    "# set can't have mutable items\n",
    "s6 = {1, 2, [3, 4]}\n",
    "print(s6)"
   ]
  },
  {
   "cell_type": "code",
   "execution_count": 16,
   "id": "7548ea8a-8823-456d-9721-4fafde59a04b",
   "metadata": {},
   "outputs": [
    {
     "ename": "TypeError",
     "evalue": "unhashable type: 'set'",
     "output_type": "error",
     "traceback": [
      "\u001b[1;31m---------------------------------------------------------------------------\u001b[0m",
      "\u001b[1;31mTypeError\u001b[0m                                 Traceback (most recent call last)",
      "Cell \u001b[1;32mIn[16], line 3\u001b[0m\n\u001b[0;32m      1\u001b[0m \u001b[38;5;66;03m# Sets have no indexing\u001b[39;00m\n\u001b[0;32m      2\u001b[0m \u001b[38;5;66;03m# Hashing\u001b[39;00m\n\u001b[1;32m----> 3\u001b[0m S5 \u001b[38;5;241m=\u001b[39m {{\u001b[38;5;241m1\u001b[39m}, {\u001b[38;5;241m2\u001b[39m}}\n",
      "\u001b[1;31mTypeError\u001b[0m: unhashable type: 'set'"
     ]
    }
   ],
   "source": [
    "# Sets have no indexing\n",
    "# Hashing\n",
    "S5 = {{1}, {2}}"
   ]
  },
  {
   "cell_type": "code",
   "execution_count": 18,
   "id": "ce4bf502-6f1e-4e89-8f26-caeb76262bb1",
   "metadata": {},
   "outputs": [
    {
     "name": "stdout",
     "output_type": "stream",
     "text": [
      "True\n"
     ]
    }
   ],
   "source": [
    "s1 = {1, 2, 3}\n",
    "s2 = {3, 2, 1}\n",
    "print(s1 == s2)"
   ]
  },
  {
   "cell_type": "markdown",
   "id": "0586d011-f8b7-48c8-845d-218b594df1e4",
   "metadata": {},
   "source": [
    "#### 2. Access"
   ]
  },
  {
   "cell_type": "code",
   "execution_count": 19,
   "id": "01928842-f6b8-4ad8-a520-1c593cccc440",
   "metadata": {},
   "outputs": [
    {
     "data": {
      "text/plain": [
       "{1, 2, 3, 4, 5}"
      ]
     },
     "execution_count": 19,
     "metadata": {},
     "output_type": "execute_result"
    }
   ],
   "source": [
    "S1"
   ]
  },
  {
   "cell_type": "markdown",
   "id": "2704c349-b753-4f2d-89b9-60b5d661962e",
   "metadata": {},
   "source": [
    "#### Frozen set\n",
    "Immutable set.\n",
    "\n",
    "Created via frozenset().\n",
    "\n",
    "No modifications post-creation.\n",
    "\n",
    "Ideal for hashable items: strings, numbers."
   ]
  },
  {
   "cell_type": "code",
   "execution_count": 20,
   "id": "b794fe15-b85c-4521-b3ff-6fd4484c1299",
   "metadata": {},
   "outputs": [
    {
     "data": {
      "text/plain": [
       "frozenset({1, 2, 3, 4, 5})"
      ]
     },
     "execution_count": 20,
     "metadata": {},
     "output_type": "execute_result"
    }
   ],
   "source": [
    "# create frozenset\n",
    "fs1 = frozenset([1, 2, 3])\n",
    "fs2 = frozenset([3, 4, 5])\n",
    "fs1 | fs2"
   ]
  },
  {
   "cell_type": "code",
   "execution_count": 21,
   "id": "6aa5dd75-1b05-4c21-a418-b929c29d2e5f",
   "metadata": {},
   "outputs": [
    {
     "data": {
      "text/plain": [
       "frozenset({1, 2, frozenset({3, 4})})"
      ]
     },
     "execution_count": 21,
     "metadata": {},
     "output_type": "execute_result"
    }
   ],
   "source": [
    "# what works and what does not\n",
    "# Works       ---> all read functions\n",
    "# Doesn't Work ---> write operations\n",
    "# When to use\n",
    "# 2D sets\n",
    "fs = frozenset([1, 2, frozenset([3, 4])])\n",
    "fs"
   ]
  },
  {
   "cell_type": "code",
   "execution_count": 22,
   "id": "89a78aaa-6d26-4081-9749-c02d6337e4fe",
   "metadata": {},
   "outputs": [
    {
     "data": {
      "text/plain": [
       "{36, 49, 64, 81, 100}"
      ]
     },
     "execution_count": 22,
     "metadata": {},
     "output_type": "execute_result"
    }
   ],
   "source": [
    "## Set Comprehension\n",
    "# examples\n",
    "{i**2 for i in range(1, 11) if i>5}"
   ]
  },
  {
   "cell_type": "markdown",
   "id": "16005089-32fd-48d8-b6cb-9588bf0bfb5d",
   "metadata": {},
   "source": [
    "# Dictionary  \n",
    "\n",
    "- **Key-Value Pairs**: Data mapping.  \n",
    "- **Aliases**: Map, associative array.  \n",
    "```python  \n",
    "dict = { 'name': 'nitish', 'age': 33, 'gender': 'male' }\n",
    "```\n",
    "## Traits:\n",
    "- Mutable\n",
    "- No indexing\n",
    "- Unique keys\n",
    "-Immutable keys\n",
    "\n",
    "## 4 Key Rules About Dictionaries\n",
    "1. No Indexing: No index support.\n",
    "2. Mutable: Can modify post-creation.\n",
    "3. Keys: Immutable (str, num, tuple); Values: Any type.\n",
    "4. Unique Keys: Keys must be unique; overwrite on reassignment."
   ]
  },
  {
   "cell_type": "code",
   "execution_count": null,
   "id": "035986a8-5bfc-4e26-b697-e8bd2a58b283",
   "metadata": {},
   "outputs": [],
   "source": [
    "# Mutable Types   ---> Lists, Sets, Dicts\n",
    "\n",
    "# Immutable Types ---> Str, Tuples, Int, Float, Bool, Complex"
   ]
  },
  {
   "cell_type": "code",
   "execution_count": 24,
   "id": "a6c1700a-98e7-4747-9de1-f38d2bce4ac0",
   "metadata": {},
   "outputs": [
    {
     "data": {
      "text/plain": [
       "{}"
      ]
     },
     "execution_count": 24,
     "metadata": {},
     "output_type": "execute_result"
    }
   ],
   "source": [
    "# empty dictionary\n",
    "D = {}\n",
    "D"
   ]
  },
  {
   "cell_type": "code",
   "execution_count": 44,
   "id": "8b67b51d-cf4c-492b-b266-5eea274bc0f5",
   "metadata": {},
   "outputs": [
    {
     "data": {
      "text/plain": [
       "{'Name': 'Adil', 'Gender': 'Male'}"
      ]
     },
     "execution_count": 44,
     "metadata": {},
     "output_type": "execute_result"
    }
   ],
   "source": [
    "# 1D dictionary\n",
    "D = {\"Name\":\"Adil\", \"Gender\":\"Male\"}\n",
    "D"
   ]
  },
  {
   "cell_type": "code",
   "execution_count": 26,
   "id": "5898e6e9-54f4-46d3-aaee-ebdb110c077b",
   "metadata": {},
   "outputs": [
    {
     "ename": "TypeError",
     "evalue": "unhashable type: 'list'",
     "output_type": "error",
     "traceback": [
      "\u001b[1;31m---------------------------------------------------------------------------\u001b[0m",
      "\u001b[1;31mTypeError\u001b[0m                                 Traceback (most recent call last)",
      "Cell \u001b[1;32mIn[26], line 1\u001b[0m\n\u001b[1;32m----> 1\u001b[0m D1 \u001b[38;5;241m=\u001b[39m {[\u001b[38;5;241m1\u001b[39m, \u001b[38;5;241m2\u001b[39m, \u001b[38;5;241m3\u001b[39m]:\u001b[38;5;124m\"\u001b[39m\u001b[38;5;124mSaurabh\u001b[39m\u001b[38;5;124m\"\u001b[39m}\n",
      "\u001b[1;31mTypeError\u001b[0m: unhashable type: 'list'"
     ]
    }
   ],
   "source": [
    "D1 = {[1, 2, 3]:\"Saurabh\"}"
   ]
  },
  {
   "cell_type": "code",
   "execution_count": 27,
   "id": "f43550ec-e3b5-4533-9697-c1cb260bf3a5",
   "metadata": {},
   "outputs": [
    {
     "data": {
      "text/plain": [
       "{(1, 2, 3): 'Saurabh'}"
      ]
     },
     "execution_count": 27,
     "metadata": {},
     "output_type": "execute_result"
    }
   ],
   "source": [
    "# with mixed keys\n",
    "D1 = {(1, 2, 3):\"Saurabh\"}\n",
    "D1"
   ]
  },
  {
   "cell_type": "code",
   "execution_count": null,
   "id": "df4c3a50-4e56-4b0c-b526-85b0197ebe72",
   "metadata": {},
   "outputs": [],
   "source": [
    "# duplicate keys\n",
    "D2 = {\"Name\":\"Natty\", \"Name\":\"Maru\"}\n",
    "D2"
   ]
  },
  {
   "cell_type": "code",
   "execution_count": 51,
   "id": "42c96752-d625-4804-b7f5-36a53451a5f5",
   "metadata": {},
   "outputs": [
    {
     "data": {
      "text/plain": [
       "{'Name': 'Adil', 'College': 'SGT', 'Marks': {'M1': 99, 'DS': 97, 'Eng': 98}}"
      ]
     },
     "execution_count": 51,
     "metadata": {},
     "output_type": "execute_result"
    }
   ],
   "source": [
    "D3 = {\"Name\":\"Adil\", \"College\":\"SGT\", \"Marks\":{\"M1\":99, \"DS\":97, \"Eng\":98}}\n",
    "D3"
   ]
  },
  {
   "cell_type": "code",
   "execution_count": null,
   "id": "a663630c-9973-4f99-bc6f-4857f4354f03",
   "metadata": {},
   "outputs": [],
   "source": [
    "# 2D dictionary ---> JSON\n",
    "s = {\n",
    "    'name':'nitish',\n",
    "     'college':'bit',\n",
    "     'sem':4,\n",
    "     'subjects':{\n",
    "         'dsa':50,\n",
    "         'maths':67,\n",
    "         'english':34\n",
    "     }\n",
    "}\n",
    "s"
   ]
  },
  {
   "cell_type": "markdown",
   "id": "0c752b24-56e5-4af3-a1dd-fb9656ddb7ca",
   "metadata": {},
   "source": [
    "#### Access"
   ]
  },
  {
   "cell_type": "code",
   "execution_count": 28,
   "id": "53572de4-2f18-4dc1-bb62-19678ecbe414",
   "metadata": {},
   "outputs": [
    {
     "data": {
      "text/plain": [
       "{'Name': 'Saurabh', 'Gender': 'Male'}"
      ]
     },
     "execution_count": 28,
     "metadata": {},
     "output_type": "execute_result"
    }
   ],
   "source": [
    "D"
   ]
  },
  {
   "cell_type": "code",
   "execution_count": 29,
   "id": "dc243534-3439-4f63-bf98-89e9374db8a4",
   "metadata": {},
   "outputs": [
    {
     "ename": "KeyError",
     "evalue": "0",
     "output_type": "error",
     "traceback": [
      "\u001b[1;31m---------------------------------------------------------------------------\u001b[0m",
      "\u001b[1;31mKeyError\u001b[0m                                  Traceback (most recent call last)",
      "Cell \u001b[1;32mIn[29], line 1\u001b[0m\n\u001b[1;32m----> 1\u001b[0m \u001b[43mD\u001b[49m\u001b[43m[\u001b[49m\u001b[38;5;241;43m0\u001b[39;49m\u001b[43m]\u001b[49m\n",
      "\u001b[1;31mKeyError\u001b[0m: 0"
     ]
    }
   ],
   "source": [
    "D[0]"
   ]
  },
  {
   "cell_type": "code",
   "execution_count": 30,
   "id": "466605bd-7fe4-4a3f-9fb9-c4b406ba8729",
   "metadata": {},
   "outputs": [
    {
     "data": {
      "text/plain": [
       "'Saurabh'"
      ]
     },
     "execution_count": 30,
     "metadata": {},
     "output_type": "execute_result"
    }
   ],
   "source": [
    "D[\"Name\"]"
   ]
  },
  {
   "cell_type": "code",
   "execution_count": 31,
   "id": "ae3f1f8e-0407-4625-b7fa-5c4175ecebb0",
   "metadata": {},
   "outputs": [
    {
     "data": {
      "text/plain": [
       "'Male'"
      ]
     },
     "execution_count": 31,
     "metadata": {},
     "output_type": "execute_result"
    }
   ],
   "source": [
    "D[\"Gender\"]"
   ]
  },
  {
   "cell_type": "code",
   "execution_count": 32,
   "id": "35ae490c-98d9-473c-bc2f-87da5f90731f",
   "metadata": {},
   "outputs": [
    {
     "data": {
      "text/plain": [
       "'Male'"
      ]
     },
     "execution_count": 32,
     "metadata": {},
     "output_type": "execute_result"
    }
   ],
   "source": [
    "D.get(\"Gender\")\n",
    "# .get() ---> 1-D dicts only; Not for 2-D/nested dicts."
   ]
  },
  {
   "cell_type": "code",
   "execution_count": 36,
   "id": "eef51ef3-f987-420f-815f-0aed5fb36ded",
   "metadata": {},
   "outputs": [
    {
     "data": {
      "text/plain": [
       "{'Name': 'Saurabh', 'College': 'SGT', 'Marks': {'M1': 99, 'DS': 97, 'Eng': 98}}"
      ]
     },
     "execution_count": 36,
     "metadata": {},
     "output_type": "execute_result"
    }
   ],
   "source": [
    "D3"
   ]
  },
  {
   "cell_type": "markdown",
   "id": "da454401-ff69-437e-8ea2-0e58e23eeea0",
   "metadata": {},
   "source": [
    "#### Edit"
   ]
  },
  {
   "cell_type": "code",
   "execution_count": 37,
   "id": "3ec1b1f0-38ec-483b-85f0-086c8ba15b0a",
   "metadata": {},
   "outputs": [
    {
     "data": {
      "text/plain": [
       "{'Name': 'Kartik', 'Gender': 'Male'}"
      ]
     },
     "execution_count": 37,
     "metadata": {},
     "output_type": "execute_result"
    }
   ],
   "source": [
    "D[\"Name\"] = \"Kartik\"\n",
    "D"
   ]
  },
  {
   "cell_type": "code",
   "execution_count": null,
   "id": "501504f6-873e-486f-b35b-e8e415979042",
   "metadata": {},
   "outputs": [],
   "source": [
    "D3[\"Marks\"][\"DS\"] = 10\n",
    "D3"
   ]
  },
  {
   "cell_type": "markdown",
   "id": "68e9a6e1-ea79-45da-8657-529151c3d293",
   "metadata": {},
   "source": [
    "### Add"
   ]
  },
  {
   "cell_type": "code",
   "execution_count": null,
   "id": "6182a498-9365-47b6-8106-96e1b1f9656f",
   "metadata": {},
   "outputs": [],
   "source": [
    "D[\"Age\"] = 22\n",
    "D"
   ]
  },
  {
   "cell_type": "code",
   "execution_count": null,
   "id": "4886acf6-5af6-48f9-919f-a1d943050413",
   "metadata": {},
   "outputs": [],
   "source": [
    "D3[\"Marks\"][\"M2\"] = 95\n",
    "D3"
   ]
  },
  {
   "cell_type": "markdown",
   "id": "fd0fad92-e2dd-417c-aeb6-b1e7971d069d",
   "metadata": {},
   "source": [
    "### Delete"
   ]
  },
  {
   "cell_type": "code",
   "execution_count": 38,
   "id": "58041914-f104-4677-a658-4c58d35165a2",
   "metadata": {},
   "outputs": [
    {
     "ename": "NameError",
     "evalue": "name 'D5' is not defined",
     "output_type": "error",
     "traceback": [
      "\u001b[1;31m---------------------------------------------------------------------------\u001b[0m",
      "\u001b[1;31mNameError\u001b[0m                                 Traceback (most recent call last)",
      "Cell \u001b[1;32mIn[38], line 3\u001b[0m\n\u001b[0;32m      1\u001b[0m D5 \u001b[38;5;241m=\u001b[39m {}\n\u001b[0;32m      2\u001b[0m \u001b[38;5;28;01mdel\u001b[39;00m D5\n\u001b[1;32m----> 3\u001b[0m \u001b[43mD5\u001b[49m\n",
      "\u001b[1;31mNameError\u001b[0m: name 'D5' is not defined"
     ]
    }
   ],
   "source": [
    "D5 = {}\n",
    "del D5\n",
    "D5"
   ]
  },
  {
   "cell_type": "code",
   "execution_count": 39,
   "id": "fdfcabb6-431a-4d37-b40b-4f711f8516b3",
   "metadata": {},
   "outputs": [
    {
     "data": {
      "text/plain": [
       "'Kartik'"
      ]
     },
     "execution_count": 39,
     "metadata": {},
     "output_type": "execute_result"
    }
   ],
   "source": [
    "D.pop('Name')"
   ]
  },
  {
   "cell_type": "code",
   "execution_count": 40,
   "id": "9b9389fa-4dc5-4872-a8d5-0110ec83c77e",
   "metadata": {},
   "outputs": [
    {
     "data": {
      "text/plain": [
       "('Gender', 'Male')"
      ]
     },
     "execution_count": 40,
     "metadata": {},
     "output_type": "execute_result"
    }
   ],
   "source": [
    "D.popitem()"
   ]
  },
  {
   "cell_type": "code",
   "execution_count": 41,
   "id": "2a02c8ea-2151-4b66-994f-a7d75c66e303",
   "metadata": {},
   "outputs": [
    {
     "data": {
      "text/plain": [
       "{}"
      ]
     },
     "execution_count": 41,
     "metadata": {},
     "output_type": "execute_result"
    }
   ],
   "source": [
    "D"
   ]
  },
  {
   "cell_type": "code",
   "execution_count": 45,
   "id": "c870ca9a-1b4b-4160-9db3-4eb5aaabd4ab",
   "metadata": {},
   "outputs": [
    {
     "data": {
      "text/plain": [
       "{'Name': 'Adil'}"
      ]
     },
     "execution_count": 45,
     "metadata": {},
     "output_type": "execute_result"
    }
   ],
   "source": [
    "del D[\"Gender\"]\n",
    "D"
   ]
  },
  {
   "cell_type": "code",
   "execution_count": 42,
   "id": "d71182ed-02f1-4cb1-a0dd-5890e084e533",
   "metadata": {},
   "outputs": [
    {
     "data": {
      "text/plain": [
       "{}"
      ]
     },
     "execution_count": 42,
     "metadata": {},
     "output_type": "execute_result"
    }
   ],
   "source": [
    "D.clear()\n",
    "D"
   ]
  },
  {
   "cell_type": "markdown",
   "id": "47dbecd3-dc81-4495-9cb9-6d04c9ea62f3",
   "metadata": {},
   "source": [
    "#### Operations"
   ]
  },
  {
   "cell_type": "code",
   "execution_count": 47,
   "id": "a0a8179a-7fd2-4183-b471-4334c3e4bf7a",
   "metadata": {},
   "outputs": [
    {
     "ename": "TypeError",
     "evalue": "unsupported operand type(s) for +: 'dict' and 'dict'",
     "output_type": "error",
     "traceback": [
      "\u001b[1;31m---------------------------------------------------------------------------\u001b[0m",
      "\u001b[1;31mTypeError\u001b[0m                                 Traceback (most recent call last)",
      "Cell \u001b[1;32mIn[47], line 1\u001b[0m\n\u001b[1;32m----> 1\u001b[0m \u001b[43mD3\u001b[49m\u001b[43m \u001b[49m\u001b[38;5;241;43m+\u001b[39;49m\u001b[43m \u001b[49m\u001b[43mD1\u001b[49m\n",
      "\u001b[1;31mTypeError\u001b[0m: unsupported operand type(s) for +: 'dict' and 'dict'"
     ]
    }
   ],
   "source": [
    "D3 + D1"
   ]
  },
  {
   "cell_type": "code",
   "execution_count": 48,
   "id": "100f31ac-9c5f-474b-bf43-642817ad320d",
   "metadata": {},
   "outputs": [
    {
     "ename": "TypeError",
     "evalue": "unsupported operand type(s) for *: 'dict' and 'int'",
     "output_type": "error",
     "traceback": [
      "\u001b[1;31m---------------------------------------------------------------------------\u001b[0m",
      "\u001b[1;31mTypeError\u001b[0m                                 Traceback (most recent call last)",
      "Cell \u001b[1;32mIn[48], line 1\u001b[0m\n\u001b[1;32m----> 1\u001b[0m \u001b[43mD3\u001b[49m\u001b[43m \u001b[49m\u001b[38;5;241;43m*\u001b[39;49m\u001b[43m \u001b[49m\u001b[38;5;241;43m3\u001b[39;49m\n",
      "\u001b[1;31mTypeError\u001b[0m: unsupported operand type(s) for *: 'dict' and 'int'"
     ]
    }
   ],
   "source": [
    "D3 * 3"
   ]
  },
  {
   "cell_type": "code",
   "execution_count": 49,
   "id": "03005047-dbb9-49fa-b2a9-d9bfcf670313",
   "metadata": {},
   "outputs": [
    {
     "name": "stdout",
     "output_type": "stream",
     "text": [
      "Name\n",
      "College\n",
      "Marks\n"
     ]
    }
   ],
   "source": [
    "# Iteration\n",
    "for i in D3:\n",
    "    print(i)"
   ]
  },
  {
   "cell_type": "code",
   "execution_count": 52,
   "id": "82607072-a98e-40e0-8069-7580ee684d07",
   "metadata": {},
   "outputs": [
    {
     "name": "stdout",
     "output_type": "stream",
     "text": [
      "Name Adil\n",
      "College SGT\n",
      "Marks {'M1': 99, 'DS': 97, 'Eng': 98}\n"
     ]
    }
   ],
   "source": [
    "for i in D3:\n",
    "    print(i, D3[i])"
   ]
  },
  {
   "cell_type": "code",
   "execution_count": 54,
   "id": "1b6058a4-d31f-4b4c-8c76-f91b1e006865",
   "metadata": {},
   "outputs": [
    {
     "data": {
      "text/plain": [
       "False"
      ]
     },
     "execution_count": 54,
     "metadata": {},
     "output_type": "execute_result"
    }
   ],
   "source": [
    "# Membership\n",
    "\"Adil\" in  D3"
   ]
  },
  {
   "cell_type": "code",
   "execution_count": 55,
   "id": "b3a01236-3b07-4a1c-b8bc-5f58271cfa24",
   "metadata": {},
   "outputs": [
    {
     "data": {
      "text/plain": [
       "True"
      ]
     },
     "execution_count": 55,
     "metadata": {},
     "output_type": "execute_result"
    }
   ],
   "source": [
    "\"Name\" in  D3"
   ]
  },
  {
   "cell_type": "markdown",
   "id": "4d156d5d-c2c0-40c7-9832-9516975ea9e1",
   "metadata": {},
   "source": [
    "### Functions"
   ]
  },
  {
   "cell_type": "code",
   "execution_count": null,
   "id": "160eb73e-cf40-4de4-af93-ad318239f15a",
   "metadata": {},
   "outputs": [],
   "source": [
    "len(D3)"
   ]
  },
  {
   "cell_type": "code",
   "execution_count": null,
   "id": "f261091b-5d80-45c8-b951-c65d682d44af",
   "metadata": {},
   "outputs": [],
   "source": [
    "min(D3)"
   ]
  },
  {
   "cell_type": "code",
   "execution_count": null,
   "id": "da0b991f-b6b2-44fd-a458-d1b918abad91",
   "metadata": {},
   "outputs": [],
   "source": [
    "max(D3)"
   ]
  },
  {
   "cell_type": "code",
   "execution_count": null,
   "id": "a9bdbb39-9243-4e09-9f1a-75c0f2b03513",
   "metadata": {},
   "outputs": [],
   "source": [
    "sorted(D3)"
   ]
  },
  {
   "cell_type": "code",
   "execution_count": null,
   "id": "a7317f67-1b94-40df-8340-e3a4762e9df7",
   "metadata": {},
   "outputs": [],
   "source": [
    "sorted(D3, reverse = True)"
   ]
  },
  {
   "cell_type": "code",
   "execution_count": null,
   "id": "5940ac15-3a0d-4ae6-8aa8-e142eb5f9a7f",
   "metadata": {},
   "outputs": [],
   "source": [
    "D3.items()"
   ]
  },
  {
   "cell_type": "code",
   "execution_count": null,
   "id": "74788bd9-e4dc-47a2-8387-9767bc296cb1",
   "metadata": {},
   "outputs": [],
   "source": [
    "D3.keys()"
   ]
  },
  {
   "cell_type": "code",
   "execution_count": null,
   "id": "628e01fa-17e8-462f-96b3-3b1c3913cf79",
   "metadata": {},
   "outputs": [],
   "source": [
    "D3.values()"
   ]
  },
  {
   "cell_type": "code",
   "execution_count": null,
   "id": "59215b7f-6582-4339-abeb-cece89b25d29",
   "metadata": {},
   "outputs": [],
   "source": [
    "# update\n",
    "d1 = {1:2, 3:4, 4:5}\n",
    "d2 = {4:7, 6:8}\n",
    "d1.update(d2)\n",
    "print(d1)"
   ]
  },
  {
   "cell_type": "markdown",
   "id": "f56cdd3b-f179-4bca-9bda-267d56bf0d6f",
   "metadata": {},
   "source": [
    "### Dictionary Comprehension\n",
    "{key : value for var in iterable}\n",
    "Creates dicts from iterables.\n",
    "\n",
    "Example:\n",
    "\n",
    "squares_dict = {x: x**2 for x in range(5)}\n",
    "\n",
    "Maps numbers to squares.\n",
    "\n",
    "Supports conditions & expressions."
   ]
  },
  {
   "cell_type": "code",
   "execution_count": 56,
   "id": "2f898e25-0832-40b3-81ec-6256dc2a39b0",
   "metadata": {},
   "outputs": [
    {
     "data": {
      "text/plain": [
       "dict_items([('Name', 'Adil'), ('Gender', 'Male'), ('Age', 30)])"
      ]
     },
     "execution_count": 56,
     "metadata": {},
     "output_type": "execute_result"
    }
   ],
   "source": [
    "D = {\"Name\":\"Adil\", \"Gender\":\"Male\", \"Age\":30}\n",
    "D.items()"
   ]
  },
  {
   "cell_type": "code",
   "execution_count": 57,
   "id": "ba392532-5080-4fd1-acf6-3367ff246720",
   "metadata": {},
   "outputs": [
    {
     "data": {
      "text/plain": [
       "{'Name': 'Adil', 'Gender': 'Male'}"
      ]
     },
     "execution_count": 57,
     "metadata": {},
     "output_type": "execute_result"
    }
   ],
   "source": [
    "D1 = {key:value for key, value in D.items() if len(key)>3}\n",
    "D1"
   ]
  },
  {
   "cell_type": "code",
   "execution_count": 58,
   "id": "8506d881-21f8-4101-b9dc-c02a5769e137",
   "metadata": {},
   "outputs": [],
   "source": [
    "L = [1, 2, 3, 4, 5, 6, 7]"
   ]
  },
  {
   "cell_type": "code",
   "execution_count": 59,
   "id": "9710a8a9-919f-464e-a53a-ba84e478140b",
   "metadata": {},
   "outputs": [
    {
     "data": {
      "text/plain": [
       "{1: 1, 2: 4, 3: 9, 4: 16, 5: 25, 6: 36, 7: 49}"
      ]
     },
     "execution_count": 59,
     "metadata": {},
     "output_type": "execute_result"
    }
   ],
   "source": [
    "D2 = {item : item**2 for item in L}\n",
    "D2"
   ]
  },
  {
   "cell_type": "code",
   "execution_count": 60,
   "id": "c038b05b-8a49-40aa-a60c-1962fedb6fa2",
   "metadata": {},
   "outputs": [
    {
     "data": {
      "text/plain": [
       "{2: 4, 4: 16, 6: 36}"
      ]
     },
     "execution_count": 60,
     "metadata": {},
     "output_type": "execute_result"
    }
   ],
   "source": [
    "D2 = {item : item**2 for item in L if item%2 == 0}\n",
    "D2"
   ]
  },
  {
   "cell_type": "code",
   "execution_count": 61,
   "id": "978786e1-e8b7-4d1c-8be5-7a7605923a8a",
   "metadata": {},
   "outputs": [
    {
     "data": {
      "text/plain": [
       "{1: 1, 2: 4, 3: 9, 4: 16, 5: 25, 6: 36, 7: 49, 8: 64, 9: 81, 10: 100}"
      ]
     },
     "execution_count": 61,
     "metadata": {},
     "output_type": "execute_result"
    }
   ],
   "source": [
    "# Print 1st 10 nums & squares\n",
    "{i:i**2 for i in range(1, 11)}"
   ]
  },
  {
   "cell_type": "code",
   "execution_count": 62,
   "id": "c6209a5e-099e-4136-848b-9abaf77c20b7",
   "metadata": {},
   "outputs": [
    {
     "name": "stdout",
     "output_type": "stream",
     "text": [
      "dict_items([('delhi', 1000), ('mumbai', 2000), ('bangalore', 3000)])\n"
     ]
    }
   ],
   "source": [
    "distances = {'delhi':1000, 'mumbai':2000, 'bangalore':3000}\n",
    "print(distances.items())"
   ]
  },
  {
   "cell_type": "code",
   "execution_count": 63,
   "id": "776778c1-6504-4d5b-a96d-b33d9fa78956",
   "metadata": {},
   "outputs": [
    {
     "data": {
      "text/plain": [
       "{'delhi': 620.0, 'mumbai': 1240.0, 'bangalore': 1860.0}"
      ]
     },
     "execution_count": 63,
     "metadata": {},
     "output_type": "execute_result"
    }
   ],
   "source": [
    "# using existing dict\n",
    "distances = {'delhi':1000, 'mumbai':2000, 'bangalore':3000}\n",
    "{key:value*0.62 for (key, value) in distances.items()}"
   ]
  },
  {
   "cell_type": "code",
   "execution_count": 64,
   "id": "832afb28-1c1b-42d4-b5cd-4207c9ed26bd",
   "metadata": {},
   "outputs": [
    {
     "data": {
      "text/plain": [
       "{'Sunday': 30.5,\n",
       " 'Monday': 32.6,\n",
       " 'Tuesday': 31.8,\n",
       " 'Wednesday': 33.4,\n",
       " 'Thursday': 29.8,\n",
       " 'Friday': 30.2,\n",
       " 'Saturday': 29.9}"
      ]
     },
     "execution_count": 64,
     "metadata": {},
     "output_type": "execute_result"
    }
   ],
   "source": [
    "# using zip\n",
    "days = [\"Sunday\", \"Monday\", \"Tuesday\", \"Wednesday\", \"Thursday\", \"Friday\", \"Saturday\"]\n",
    "temp_C = [30.5, 32.6, 31.8, 33.4, 29.8, 30.2, 29.9]\n",
    "{i:j for (i, j) in zip(days, temp_C)}"
   ]
  }
 ],
 "metadata": {
  "kernelspec": {
   "display_name": "Python 3 (ipykernel)",
   "language": "python",
   "name": "python3"
  },
  "language_info": {
   "codemirror_mode": {
    "name": "ipython",
    "version": 3
   },
   "file_extension": ".py",
   "mimetype": "text/x-python",
   "name": "python",
   "nbconvert_exporter": "python",
   "pygments_lexer": "ipython3",
   "version": "3.12.7"
  }
 },
 "nbformat": 4,
 "nbformat_minor": 5
}
