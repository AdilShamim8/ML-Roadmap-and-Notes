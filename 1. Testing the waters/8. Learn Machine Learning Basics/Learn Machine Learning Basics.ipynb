{
 "cells": [
  {
   "cell_type": "markdown",
   "id": "9e356ac4-3598-4741-95c7-c983e07438ed",
   "metadata": {},
   "source": [
    "## **Building an End to End Machine Learning Project** | [👆](https://github.com/AdilShamim8/Machine_Learning_Housing_Corp)"
   ]
  },
  {
   "cell_type": "markdown",
   "id": "68cb55c7-8792-47f0-84f1-5d59cd78f141",
   "metadata": {},
   "source": [
    "#### 1. How would you define Machine Learning?\n",
    "\n",
    "**Machine Learning is about building systems that can learn from data. Learning means getting better at some task, given some performance measure.**"
   ]
  },
  {
   "cell_type": "markdown",
   "id": "a7fac2f4-49d6-43e7-91c3-72363880402d",
   "metadata": {},
   "source": [
    "#### 2. Can you name four types of problems where it shines?\n",
    "\n",
    "**Machine Learning is great for complex problems for which we have no algorithmic solution, to replace long lists of hand-tuned rules, to build systems that adapt to fluctuating environments, and finally to help humans learn (e.g., data mining).**"
   ]
  },
  {
   "cell_type": "markdown",
   "id": "dcd97aea-0952-4d4a-ab57-73b09c79f05e",
   "metadata": {},
   "source": [
    "#### 3. What is a labeled training set?\n",
    "\n",
    "**A labeled training set is a training set that contains the desired solution (a.k.a. a label) for each instance.**"
   ]
  },
  {
   "cell_type": "markdown",
   "id": "690b1135-c2cd-4ed8-9b81-68f83746b860",
   "metadata": {},
   "source": [
    "#### 4. What are the two most common supervised tasks?\n",
    "\n",
    "**The two most common supervised tasks are regression and classification.**"
   ]
  },
  {
   "cell_type": "markdown",
   "id": "4ee239ea-5997-444b-a371-cde04876db2f",
   "metadata": {},
   "source": [
    "#### 5. Can you name four common unsupervised tasks?\n",
    "\n",
    "**Common unsupervised tasks include clustering, visualization, dimensionality reduction, and association rule learning.**"
   ]
  },
  {
   "cell_type": "markdown",
   "id": "c0465fcc-668f-4e56-8dac-acca948afad6",
   "metadata": {},
   "source": [
    "#### 6. What type of Machine Learning algorithm would you use to allow a robot to walk in various unknown terrains?\n",
    "\n",
    "**Reinforcement Learning is likely to perform best if we want a robot to learn to walk in various unknown terrains, since this is typically the type of problem that Reinforcement Learning tackles. It might be possible to express the problem as a supervised or semi-supervised learning problem, but it would be less natural.**"
   ]
  },
  {
   "cell_type": "markdown",
   "id": "c5e8ff51-0e9e-4eb6-bb74-7b91f549670f",
   "metadata": {},
   "source": [
    "#### 7. What type of algorithm would you use to segment your customers into multiple groups?\n",
    "\n",
    "**If you don't know how to define the groups, then you can use a clustering algorithm (unsupervised learning) to segment your customers into clusters of similar customers. However, if you know what groups you would like to have, then you can feed many examples of each group to a classification algorithm (supervised learning), and it will classify all your customers into these groups.**"
   ]
  },
  {
   "cell_type": "markdown",
   "id": "ce50ec49-9223-4e75-a738-38c13ac98d42",
   "metadata": {},
   "source": [
    "#### 8. Would you frame the problem of spam detection as a supervised learning problem or an unsupervised learning problem?\n",
    "\n",
    "**Spam detection is a typical supervised learning problem: the algorithm is fed many emails along with their labels (spam or not spam).**"
   ]
  },
  {
   "cell_type": "markdown",
   "id": "ec7dcb27-53ae-4d4a-a3db-c8d7f66bccab",
   "metadata": {},
   "source": [
    "#### 9. What is an online learning system?\n",
    "\n",
    "**An online learning system can learn incrementally, as opposed to a batch learning system. This makes it capable of adapting rapidly to both changing data and autonomous systems, and of training on very large quantities of data.**"
   ]
  },
  {
   "cell_type": "markdown",
   "id": "b1e163d5-5aac-47ed-af0a-397c32b32dfa",
   "metadata": {},
   "source": [
    "#### 10. What is out-of-core learning?\n",
    "\n",
    "**Out-of-core algorithms can handle vast quantities of data that cannot fit in a computer's main memory. An out-of-core learning algorithm chops the data into mini-batches and uses online learning techniques to learn from these mini-batches.**"
   ]
  },
  {
   "cell_type": "markdown",
   "id": "46c579e6-8150-4603-869f-585c314e53d0",
   "metadata": {},
   "source": [
    "#### 11. What type of learning algorithm relies on a similarity measure to make predictions?\n",
    "\n",
    "**An instance-based learning system learns the training data by heart; then, when given a new instance, it uses a similarity measure to find the most similar learned instances and uses them to make predictions.**"
   ]
  },
  {
   "cell_type": "markdown",
   "id": "c631c109-717b-42f6-ac49-b57950d602eb",
   "metadata": {},
   "source": [
    "#### 12. What is the difference between a model parameter and a learning algorithm's hyperparameter?\n",
    "\n",
    "**A model has one or more model parameters that determine what it will predict given a new instance (e.g., the slope of a linear model). A learning algorithm tries to find optimal values for these parameters such that the model generalizes well to new instances. A hyperparameter is a parameter of the learning algorithm itself, not of the model (e.g., the amount of regularization to apply).**"
   ]
  },
  {
   "cell_type": "markdown",
   "id": "4574d515-1379-47bb-a1e4-2fd780ba6e47",
   "metadata": {},
   "source": [
    "#### 13. What do model-based learning algorithms search for? What is the most common strategy they use to succeed? How do they make predictions?\n",
    "\n",
    "**Model-based learning algorithms search for an optimal value for the model parameters such that the model will generalize well to new instances. We usually train such systems by minimizing a cost function that measures how bad the system is at making predictions on the training data, plus a penalty for model complexity if the model is regularized. To make predictions, we feed the new instance's features into the model's prediction function, using the parameter values found by the learning algorithm.**"
   ]
  },
  {
   "cell_type": "markdown",
   "id": "bcd2bb6b-9997-48cb-9bfe-310f2d9378a2",
   "metadata": {},
   "source": [
    "#### 14. Can you name four of the main challenges in Machine Learning?\n",
    "\n",
    "**Some of the main challenges in Machine Learning are the lack of data, poor data quality, nonrepresentative data, uninformative features, excessively simple models that underfit the training data, and excessively complex models that overfit the data.**"
   ]
  },
  {
   "cell_type": "markdown",
   "id": "a35b19d0-2d67-4bdf-8352-076c6676b6bf",
   "metadata": {},
   "source": [
    "#### 15. If your model performs great on the training data but generalizes poorly to new instances, what is happening? Can you name three possible solutions?\n",
    "\n",
    "**If a model performs great on the training data but generalizes poorly to new instances, the model is likely overfitting the training data (or we got extremely lucky on the training data). Possible solutions to overfitting are getting more data, simplifying the model (selecting a simpler algorithm, reducing the number of parameters or features used, or regularizing the model), or reducing the noise in the training data.**"
   ]
  },
  {
   "cell_type": "markdown",
   "id": "f7ed9555-0e7e-4ab5-9415-6258673b8d33",
   "metadata": {},
   "source": [
    "#### 16. What is a test set, and why would you want to use it?\n",
    "\n",
    "**A test set is used to estimate the generalization error that a model will make on new instances, before the model is launched in production.**"
   ]
  },
  {
   "cell_type": "markdown",
   "id": "7dba12fb-543c-4177-ac69-528ac3d90bb5",
   "metadata": {},
   "source": [
    "#### 17. What is the purpose of a validation set?\n",
    "\n",
    "**A validation set is used to compare models. It makes it possible to select the best model and tune the hyperparameters.**"
   ]
  },
  {
   "cell_type": "markdown",
   "id": "bcc84f4d-5d86-4016-aa82-dde16286d64b",
   "metadata": {},
   "source": [
    "#### 18. What is the train-dev set, when do you need it, and how do you use it?\n",
    "\n",
    "**The train-dev set is used when there is a risk of mismatch between the training data and the data used in the validation and test datasets (which should always be as close as possible to the data used once the model is in production). The train-dev set is a part of the training set that's held out (the model is not trained on it). The model is trained on the rest of the training set, and evaluated on both the train-dev set and the validation set. If the model performs well on the training set but not on the train-dev set, then the model is likely overfitting the training set. If it performs well on both the training set and the train-dev set, but not on the validation set, then there is probably a significant data mismatch between the training data and the validation + test data, and you should try to improve the training data to make it look more like the validation + test data.**"
   ]
  },
  {
   "cell_type": "markdown",
   "id": "b35183d9-8705-40fd-8dd6-d6311f6a628d",
   "metadata": {},
   "source": [
    "#### 19. What can go wrong if you tune hyperparameters using the test set?\n",
    "\n",
    "**If you tune hyperparameters using the test set, you risk overfitting the test set, and the generalization error you measure will be optimistic (you may launch a model that performs worse than you expect).**"
   ]
  }
 ],
 "metadata": {
  "kernelspec": {
   "display_name": "Python 3 (ipykernel)",
   "language": "python",
   "name": "python3"
  },
  "language_info": {
   "codemirror_mode": {
    "name": "ipython",
    "version": 3
   },
   "file_extension": ".py",
   "mimetype": "text/x-python",
   "name": "python",
   "nbconvert_exporter": "python",
   "pygments_lexer": "ipython3",
   "version": "3.10.10"
  }
 },
 "nbformat": 4,
 "nbformat_minor": 5
}
