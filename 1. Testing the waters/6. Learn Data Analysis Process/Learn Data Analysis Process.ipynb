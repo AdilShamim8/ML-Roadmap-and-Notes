{
 "cells": [
  {
   "cell_type": "markdown",
   "id": "f7111507-887b-4546-83be-e2c36bd9536d",
   "metadata": {},
   "source": [
    "# **What is Data Analysis?**            | [👆](https://adilshamim8.medium.com/the-data-analysis-process-a-step-by-step-guide-to-making-sense-of-data-f231a7f79e4b)                           "
   ]
  },
  {
   "cell_type": "markdown",
   "id": "d2f16f8c-3699-4ef6-9dab-f341022954ca",
   "metadata": {},
   "source": [
    "## ***Working with CSV Files***             | [👆](https://github.com/AdilShamim8/50-Days-of-Machine-Learning/tree/main/Day%2001%20Working%20with%20CSV%20Files)"
   ]
  },
  {
   "cell_type": "markdown",
   "id": "67b0a242-9a24-4eb6-86a6-66c79406fef7",
   "metadata": {},
   "source": [
    "## ***Working with JSON and SQL*** | [👆](https://github.com/AdilShamim8/50-Days-of-Machine-Learning/tree/main/Day%2002%20Working%20with%20JSON%20and%20SQL)"
   ]
  },
  {
   "cell_type": "markdown",
   "id": "0e67c23f-c029-472f-9ee4-258065c9951a",
   "metadata": {},
   "source": [
    "## ***Pandas DataFrame using Web Scraping*** | [👆](https://github.com/AdilShamim8/50-Days-of-Machine-Learning/tree/main/Day%2003%20Pandas%20DataFrame%20using%20Web%20Scraping)"
   ]
  },
  {
   "cell_type": "markdown",
   "id": "49e8cb8d-849d-4754-917b-a2c5a374c4cf",
   "metadata": {},
   "source": [
    "## ***Olympic Data Set Analysis*** | [👆](https://www.kaggle.com/code/adilshamim8/olympic-data-set-analysis)"
   ]
  },
  {
   "cell_type": "markdown",
   "id": "05c20f6b-05b6-4de1-82b1-0fb64663a5e6",
   "metadata": {},
   "source": [
    "## ***EDA on Titanic Dataset*** | [👆](https://www.kaggle.com/code/adilshamim8/eda-on-titanic-dataset)\n",
    "---------------------------------------------------------------------------------------------------------------------------------"
   ]
  },
  {
   "cell_type": "markdown",
   "id": "3a2fa58b-cd2a-436d-a613-6b2c07f1599a",
   "metadata": {},
   "source": [
    "# Assessing Data  \n",
    "\n",
    "Assessing data is a crucial step in any data analysis process. It involves evaluating the quality, relevance, and structure of the data to ensure it meets the needs of your analysis. Here are some key aspects to consider when assessing data:  \n",
    "\n",
    "## Key Aspects of Data Assessment  \n",
    "\n",
    "1. **Data Quality**  \n",
    "   - Check for missing values and how they may affect analysis.  \n",
    "   - Identify duplicate entries that can skew results.  \n",
    "   - Evaluate the accuracy and consistency of the data.  \n",
    "\n",
    "2. **Data Structure**  \n",
    "   - Understand the format (e.g., CSV, JSON, SQL).  \n",
    "   - Examine the data types (e.g., integer, float, string).  \n",
    "   - Review the relationship between different data fields.  \n",
    "\n",
    "3. **Relevance**  \n",
    "   - Ensure the data is suitable for the intended analysis.  \n",
    "   - Assess if additional data is required for a comprehensive analysis.  \n",
    "\n",
    "4. **Statistical Summary**  \n",
    "   - Generate descriptive statistics (mean, median, mode).  \n",
    "   - Visualize distributions (histograms, box plots) to identify patterns or outliers.  \n",
    "\n",
    "5. **Domain Knowledge**  \n",
    "   - Leverage domain-specific knowledge to interpret data contextually.  \n",
    "   - Consult with stakeholders to validate the relevance of the data.  \n",
    "\n",
    "## Conclusion  \n",
    "\n",
    "Thorough data assessment can significantly enhance the reliability of your analysis and its insights. Always prioritize understanding the data before diving deeper into analysis."
   ]
  }
 ],
 "metadata": {
  "kernelspec": {
   "display_name": "Python 3 (ipykernel)",
   "language": "python",
   "name": "python3"
  },
  "language_info": {
   "codemirror_mode": {
    "name": "ipython",
    "version": 3
   },
   "file_extension": ".py",
   "mimetype": "text/x-python",
   "name": "python",
   "nbconvert_exporter": "python",
   "pygments_lexer": "ipython3",
   "version": "3.12.7"
  }
 },
 "nbformat": 4,
 "nbformat_minor": 5
}
