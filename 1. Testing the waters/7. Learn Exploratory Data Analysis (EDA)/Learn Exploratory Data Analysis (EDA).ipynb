{
 "cells": [
  {
   "cell_type": "markdown",
   "id": "d2f1ca43-47c8-4f5e-8626-f7f4435506c5",
   "metadata": {},
   "source": [
    "## **Understanding your data** | [👆](https://github.com/AdilShamim8/50-Days-of-Machine-Learning/tree/main/Day%2004%20Understanding%20Your%20Data%20-%20Descriptive%20Stats)"
   ]
  },
  {
   "cell_type": "markdown",
   "id": "14b08e7b-9d6e-4ad4-8a8b-26ebd97611e3",
   "metadata": {},
   "source": [
    "## **Univariate Analysis** | [👆](https://github.com/AdilShamim8/50-Days-of-Machine-Learning/tree/main/Day%2005%20Univariate%20Analysis) "
   ]
  },
  {
   "cell_type": "markdown",
   "id": "750f33ec-f6c4-4772-b9b9-78483cf29f38",
   "metadata": {},
   "source": [
    "## **Bivariate Analysis** | [👆](https://github.com/AdilShamim8/50-Days-of-Machine-Learning/tree/main/Day%2006%20Bivariate%20Analysis)"
   ]
  },
  {
   "cell_type": "markdown",
   "id": "62a86d3f-91c8-4954-af94-321c108c4d99",
   "metadata": {},
   "source": [
    "## **Pandas Profiling** | [👆](https://github.com/AdilShamim8/50-Days-of-Machine-Learning/tree/main/Day%2007%20Pandas%20Profiling)\n",
    "---------------------------------------------------------------------------------------------------------------------------------"
   ]
  },
  {
   "cell_type": "markdown",
   "id": "e19b50d3-f95e-4464-853a-d9d37fe42bee",
   "metadata": {},
   "source": [
    "## *EDA on Health and Sleep Data* | [👆](https://www.kaggle.com/code/adilshamim8/eda-on-health-and-sleep-data)"
   ]
  },
  {
   "cell_type": "markdown",
   "id": "af6849ce-29c0-40a1-947f-b7ee4bd92013",
   "metadata": {},
   "source": [
    "## *EDA on Titanic Dataset* | [👆](https://www.kaggle.com/code/adilshamim8/eda-on-titanic-dataset)"
   ]
  },
  {
   "cell_type": "markdown",
   "id": "fe58088b-b4f2-472e-a28b-41a6c3b02435",
   "metadata": {},
   "source": [
    "## *EDA on House Prices Dataset* | [👆](https://www.kaggle.com/code/pmarcelino/comprehensive-data-exploration-with-python)"
   ]
  },
  {
   "cell_type": "markdown",
   "id": "354e25dc-d5d8-47c3-8c1a-f9382c1141f9",
   "metadata": {},
   "source": [
    "## *EDA on Heart Disease Dataset* | [👆](https://www.kaggle.com/code/kralmachine/analyzing-the-heart-disease) "
   ]
  },
  {
   "cell_type": "markdown",
   "id": "339d4ed9-6899-480e-a36f-d48b85ecb77c",
   "metadata": {},
   "source": [
    "## *Olympic Data Set Analysis* | [👆](https://www.kaggle.com/code/adilshamim8/olympic-data-set-analysis) \n",
    "\n",
    "---------------------------------------------------------------------------------------------------------------------------------"
   ]
  },
  {
   "cell_type": "markdown",
   "id": "5fc2559e-aa64-4295-947e-d9d7a27547da",
   "metadata": {},
   "source": [
    "# 📊 Exploratory Data Analysis (EDA) Notes\n",
    "\n",
    "## 📌 What is EDA?\n",
    "Exploratory Data Analysis (EDA) is the process of analyzing and summarizing datasets to understand their main characteristics using **visualization** and **statistical methods**.\n",
    "\n",
    "### 🎯 Why is EDA Important?\n",
    "- Helps understand data distribution and patterns.\n",
    "- Identifies missing values, duplicates, and outliers.\n",
    "- Finds relationships between features for better modeling.\n",
    "- Ensures data is clean before applying Machine Learning models.\n",
    "\n",
    "---\n",
    "\n",
    "## 🛠️ Steps of EDA\n",
    "\n",
    "### 1️⃣ Load the Data\n",
    "First, we load the dataset using `pandas`:\n",
    "```python\n",
    "import pandas as pd\n",
    "\n",
    "df = pd.read_csv(\"data.csv\")  # Load dataset\n",
    "df.head()  # View first 5 rows\n",
    "```\n",
    "### 2️⃣ Check Data Structure\n",
    "Understanding the basic structure:\n",
    "```python\n",
    "df.info()  # Overview of dataset\n",
    "df.describe()  # Summary statistics\n",
    "df.shape  # Rows and columns\n",
    "df.columns  # Column names\n",
    "```\n",
    "### 3️⃣ Handling Missing Values\n",
    "Check for missing data:\n",
    "```python\n",
    "df.isnull().sum()  # Count missing values in each column\n",
    "# Fill or drop missing values:\n",
    "df.fillna(df.mean(), inplace=True)  # Fill missing values with mean\n",
    "df.dropna(inplace=True)  # Remove missing values\n",
    "```\n",
    "### 4️⃣ Data Types & Duplicates\n",
    "Check for data types and duplicates:\n",
    "```python\n",
    "df.dtypes  # Check data types\n",
    "df.duplicated().sum()  # Find duplicate rows\n",
    "df.drop_duplicates(inplace=True)  # Remove duplicates\n",
    "```\n",
    "### 5️⃣ Data Distribution\n",
    "Checking how numerical data is distributed:\n",
    "```python\n",
    "import matplotlib.pyplot as plt\n",
    "import seaborn as sns\n",
    "\n",
    "df.hist(figsize=(10, 6))  # Histogram for numerical features\n",
    "plt.show()\n",
    "\n",
    "sns.boxplot(x=df['column_name'])  # Boxplot to detect outliers\n",
    "```\n",
    "### 6️⃣ Correlation Analysis\n",
    "Finding relationships between numerical variables:\n",
    "```python\n",
    "df.corr()  # Compute correlation matrix\n",
    "sns.heatmap(df.corr(), annot=True, cmap=\"coolwarm\")  # Visualize correlations\n",
    "plt.show()\n",
    "```\n",
    "### 7️⃣ Categorical Data Analysis\n",
    "Understanding categorical features:\n",
    "```python\n",
    "df['category_column'].value_counts().plot(kind='bar')  # Count plot for categories\n",
    "```\n",
    "### 8️⃣ Outlier Detection\n",
    "Using boxplots and IQR:\n",
    "```python\n",
    "Q1 = df['column_name'].quantile(0.25)\n",
    "Q3 = df['column_name'].quantile(0.75)\n",
    "IQR = Q3 - Q1\n",
    "df_no_outliers = df[(df['column_name'] >= Q1 - 1.5 * IQR) & (df['column_name'] <= Q3 + 1.5 * IQR)]\n",
    "```\n",
    "### 9️⃣ Feature Engineering (Optional)\n",
    "Creating new meaningful features:\n",
    "```python\n",
    "df['new_feature'] = df['existing_feature'] ** 2  # Example: Squaring a feature\n",
    "```"
   ]
  }
 ],
 "metadata": {
  "kernelspec": {
   "display_name": "Python 3 (ipykernel)",
   "language": "python",
   "name": "python3"
  },
  "language_info": {
   "codemirror_mode": {
    "name": "ipython",
    "version": 3
   },
   "file_extension": ".py",
   "mimetype": "text/x-python",
   "name": "python",
   "nbconvert_exporter": "python",
   "pygments_lexer": "ipython3",
   "version": "3.12.7"
  }
 },
 "nbformat": 4,
 "nbformat_minor": 5
}
