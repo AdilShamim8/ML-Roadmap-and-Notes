{
 "cells": [
  {
   "cell_type": "markdown",
   "id": "1d2a20d0-cfbf-4701-8366-8b1ea4f31628",
   "metadata": {},
   "source": [
    "## MICE (Multiple Imputation by Chained Equations) | [Link](https://github.com/AdilShamim8/50-Days-of-Machine-Learning/tree/main/Day%2024%20Iterative%20Imputer)\n",
    "\n",
    "### Overview\n",
    "\n",
    "MICE is an advanced imputation method designed to handle datasets with missing values by modeling each feature with missing data as a function of other features in the dataset. Rather than filling in missing values with a single statistic (like the mean), MICE performs multiple imputations in a chained, iterative manner:\n",
    "\n",
    "- **Multiple Imputation:** Rather than creating one completed dataset, MICE generates several imputed datasets, reflecting the uncertainty of the missing data.\n",
    "- **Chained Equations:** For each variable with missing values, a regression model (or an appropriate predictive model) is fitted using the other variables. The missing values are then imputed based on these models. The process is repeated iteratively for each variable until convergence is achieved.\n",
    "- **Pooling:** After performing the analyses on each imputed dataset, the results are combined (or pooled) to account for imputation uncertainty.\n",
    "\n",
    "### Benefits\n",
    "\n",
    "- **Captures Uncertainty:** By generating multiple imputed datasets, MICE incorporates the variability and uncertainty associated with the imputed values.\n",
    "- **Preserves Relationships:** MICE takes into account the correlations among features, which can result in more accurate imputation compared to simple methods.\n",
    "- **Flexibility:** Different regression models (e.g., linear regression, logistic regression) can be used for different types of variables.\n",
    "\n",
    "### Python Implementation\n",
    "\n",
    "Scikit-learn offers the `IterativeImputer` class, which serves as an implementation similar to MICE. (Note: IterativeImputer is experimental in scikit-learn; for a full MICE implementation, you might also consider libraries like `statsmodels` or `fancyimpute`.)\n",
    "\n",
    "#### Example using scikit-learn's IterativeImputer\n",
    "\n",
    "```python\n",
    "import numpy as np\n",
    "import pandas as pd\n",
    "from sklearn.experimental import enable_iterative_imputer  # Required to use IterativeImputer\n",
    "from sklearn.impute import IterativeImputer\n",
    "from sklearn.linear_model import BayesianRidge\n",
    "\n",
    "# Create a sample DataFrame with missing values\n",
    "data = {\n",
    "    'Age': [25, np.nan, 35, 40, np.nan, 30],\n",
    "    'Salary': [50000, 60000, np.nan, 80000, 75000, np.nan],\n",
    "    'Experience': [2, 4, 6, np.nan, 8, 10]\n",
    "}\n",
    "df = pd.DataFrame(data)\n",
    "print(\"Original DataFrame:\")\n",
    "print(df)\n",
    "\n",
    "# Initialize the IterativeImputer (MICE-like imputer)\n",
    "# You can specify a regression estimator; here we use BayesianRidge\n",
    "imputer = IterativeImputer(estimator=BayesianRidge(), max_iter=10, random_state=0)\n",
    "\n",
    "# Fit the imputer and transform the data\n",
    "df_imputed = pd.DataFrame(imputer.fit_transform(df), columns=df.columns)\n",
    "print(\"\\nDataFrame after MICE (IterativeImputer) Imputation:\")\n",
    "print(df_imputed)\n",
    "```\n",
    "\n",
    "#### Explanation:\n",
    "- **Data Creation:** We start with a DataFrame that includes missing values in several numerical columns.\n",
    "- **IterativeImputer Setup:** We use `IterativeImputer` with `BayesianRidge` as the estimator. The imputer iterates over each column with missing values and models it using the other columns.\n",
    "- **Fitting & Transformation:** The `fit_transform` method generates an imputed dataset where missing values have been filled in based on the iterative regression models.\n",
    "\n",
    "### Conclusion\n",
    "\n",
    "MICE is a robust imputation technique that leverages the relationships between variables to predict missing values, while also capturing the inherent uncertainty of the imputation process. By using scikit-learn's `IterativeImputer`, you can implement a MICE-like strategy in your machine learning pipeline, improving both data quality and model performance. Always consider validating the imputation results to ensure that they align with domain expectations."
   ]
  }
 ],
 "metadata": {
  "kernelspec": {
   "display_name": "Python 3 (ipykernel)",
   "language": "python",
   "name": "python3"
  },
  "language_info": {
   "codemirror_mode": {
    "name": "ipython",
    "version": 3
   },
   "file_extension": ".py",
   "mimetype": "text/x-python",
   "name": "python",
   "nbconvert_exporter": "python",
   "pygments_lexer": "ipython3",
   "version": "3.12.7"
  }
 },
 "nbformat": 4,
 "nbformat_minor": 5
}
