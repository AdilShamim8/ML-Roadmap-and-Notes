{
 "cells": [
  {
   "cell_type": "markdown",
   "id": "65878355-c497-43b3-b053-0f907ce61088",
   "metadata": {},
   "source": [
    "# Data Leakage in Machine Learning\n",
    "\n",
    "## 1. What is Data Leakage?\n",
    "\n",
    "**Data Leakage** occurs when information from outside the training dataset is inadvertently used to build the model. This results in overly optimistic performance estimates during training and validation but leads to poor generalization on new, unseen data.\n",
    "\n",
    "### Key Points:\n",
    "\n",
    "- **Definition:**  \n",
    "  Data leakage happens when data that would not be available at prediction time is used during the model training process. This can be due to improperly partitioned data, inclusion of future information, or features that contain direct or indirect information about the target variable.\n",
    "\n",
    "- **Causes of Data Leakage:**  \n",
    "  - **Temporal Leakage:** Using future data (e.g., including data that occurs after the event you're trying to predict).  \n",
    "  - **Target Leakage:** Including features that are highly correlated with the target because they were generated using the target variable or are proxies for it.  \n",
    "  - **Improper Data Splitting:** Overlapping data between the training and test sets, such as duplicate entries or shared information that should be exclusive to one set.\n",
    "\n",
    "- **Consequences:**  \n",
    "  - **Overfitting:** The model learns patterns that are not generalizable.  \n",
    "  - **Inflated Metrics:** Performance measures (accuracy, AUC, etc.) are unrealistically high during cross-validation or testing.  \n",
    "  - **Poor Real-World Performance:** When deployed, the model performs significantly worse because it doesn’t have access to the leaked information.\n",
    "\n",
    "- **Prevention:**  \n",
    "  - **Proper Data Splitting:** Ensure that training, validation, and test datasets are mutually exclusive, particularly with time-series data where temporal order matters.  \n",
    "  - **Feature Selection:** Exclude features that are derived from or are proxies for the target variable.  \n",
    "  - **Cross-Validation:** Use robust cross-validation techniques that prevent leakage (e.g., time-series split for temporal data).\n",
    "\n",
    "### Practical Example:\n",
    "\n",
    "Imagine you are building a model to predict customer churn. Suppose you include a feature such as \"customer service calls\" that is recorded after a churn event is confirmed. This feature may provide information about the churn outcome that wouldn't be available at the time of prediction, leading to data leakage.\n",
    "\n",
    "### Summary:\n",
    "\n",
    "Data leakage undermines the reliability of a model by providing it with information that it shouldn’t have during training. Preventing leakage is critical to ensure that the model's performance is indicative of its real-world behavior.\n",
    "\n",
    "> ## reference:\n",
    ">    - What is Data Leakage? - https://machinelearningmastery.com/data-leakage-machine-learning/\n",
    ">    - Data Leakage on Credit Card data - https://www.kaggle.com/dansbecker/data-leakage\n",
    ">    - Data Leakage on Quora Question Pair Dataset - https://www.kaggle.com/sudalairajkumar/simple-leaky-exploration-notebook-quora\n",
    "\n"
   ]
  }
 ],
 "metadata": {
  "kernelspec": {
   "display_name": "Python 3 (ipykernel)",
   "language": "python",
   "name": "python3"
  },
  "language_info": {
   "codemirror_mode": {
    "name": "ipython",
    "version": 3
   },
   "file_extension": ".py",
   "mimetype": "text/x-python",
   "name": "python",
   "nbconvert_exporter": "python",
   "pygments_lexer": "ipython3",
   "version": "3.13.2"
  }
 },
 "nbformat": 4,
 "nbformat_minor": 5
}
